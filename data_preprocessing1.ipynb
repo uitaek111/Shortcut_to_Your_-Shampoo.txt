{
 "cells": [
  {
   "cell_type": "code",
   "execution_count": 6,
   "id": "00e4d2d3-0d3f-48e6-86b7-f85cc73b4a74",
   "metadata": {},
   "outputs": [],
   "source": [
    "import pandas as pd\n",
    "import matplotlib.pyplot as plt\n",
    "import seaborn as sns"
   ]
  },
  {
   "cell_type": "markdown",
   "id": "847533a2-b003-42db-963b-4a170a19abb1",
   "metadata": {},
   "source": [
    "# 데이터 확인\n",
    "\n",
    "- [데이터확인_올영] 파일에 추가 확인 내용 있음"
   ]
  },
  {
   "cell_type": "code",
   "execution_count": 9,
   "id": "07d5811c-fc5e-433c-8fd1-c2aa6dde7a2e",
   "metadata": {},
   "outputs": [],
   "source": [
    "pd.set_option('display.max_colwidth', None)"
   ]
  },
  {
   "cell_type": "code",
   "execution_count": 11,
   "id": "ed9229f8-5871-407d-bcef-1461df7475ca",
   "metadata": {},
   "outputs": [],
   "source": [
    "df = pd.read_csv(\"./data/shampoo/oliveyoung_all_merged.csv\", dtype = str)"
   ]
  },
  {
   "cell_type": "code",
   "execution_count": 13,
   "id": "08c1521f-b244-4698-ba0e-8965f050c199",
   "metadata": {
    "scrolled": true
   },
   "outputs": [
    {
     "data": {
      "text/html": [
       "<div>\n",
       "<style scoped>\n",
       "    .dataframe tbody tr th:only-of-type {\n",
       "        vertical-align: middle;\n",
       "    }\n",
       "\n",
       "    .dataframe tbody tr th {\n",
       "        vertical-align: top;\n",
       "    }\n",
       "\n",
       "    .dataframe thead th {\n",
       "        text-align: right;\n",
       "    }\n",
       "</style>\n",
       "<table border=\"1\" class=\"dataframe\">\n",
       "  <thead>\n",
       "    <tr style=\"text-align: right;\">\n",
       "      <th></th>\n",
       "      <th>제품명</th>\n",
       "      <th>브랜드</th>\n",
       "      <th>원가</th>\n",
       "      <th>판매가</th>\n",
       "      <th>리뷰수</th>\n",
       "      <th>평균별점</th>\n",
       "      <th>5점비율</th>\n",
       "      <th>4점비율</th>\n",
       "      <th>3점비율</th>\n",
       "      <th>2점비율</th>\n",
       "      <th>...</th>\n",
       "      <th>향/다소아쉬워요</th>\n",
       "      <th>작성자</th>\n",
       "      <th>작성일자</th>\n",
       "      <th>리뷰</th>\n",
       "      <th>별점</th>\n",
       "      <th>사용현황</th>\n",
       "      <th>세정력</th>\n",
       "      <th>자극도</th>\n",
       "      <th>거품</th>\n",
       "      <th>향</th>\n",
       "    </tr>\n",
       "  </thead>\n",
       "  <tbody>\n",
       "    <tr>\n",
       "      <th>0</th>\n",
       "      <td>모다모다 제로그레이 블랙샴푸10 더블기획 (300g+300g)</td>\n",
       "      <td>모다모다</td>\n",
       "      <td>78,000\\n원</td>\n",
       "      <td>48,280\\n원</td>\n",
       "      <td>145</td>\n",
       "      <td>4.6</td>\n",
       "      <td>78%</td>\n",
       "      <td>13%</td>\n",
       "      <td>6%</td>\n",
       "      <td>1%</td>\n",
       "      <td>...</td>\n",
       "      <td>4%</td>\n",
       "      <td>용자입니다</td>\n",
       "      <td>2025.05.19</td>\n",
       "      <td>일주일째 쓰는중인데 좋은거 같기도하고 아닌것 같기도 하고 한달뒤 후기로..ㄹ</td>\n",
       "      <td>5점만점에 5점</td>\n",
       "      <td>NaN</td>\n",
       "      <td>아주 만족해요</td>\n",
       "      <td>자극없이 순해요</td>\n",
       "      <td>거품이 풍성해요</td>\n",
       "      <td>아주 만족해요</td>\n",
       "    </tr>\n",
       "    <tr>\n",
       "      <th>1</th>\n",
       "      <td>모다모다 제로그레이 블랙샴푸10 더블기획 (300g+300g)</td>\n",
       "      <td>모다모다</td>\n",
       "      <td>78,000\\n원</td>\n",
       "      <td>48,280\\n원</td>\n",
       "      <td>145</td>\n",
       "      <td>4.6</td>\n",
       "      <td>78%</td>\n",
       "      <td>13%</td>\n",
       "      <td>6%</td>\n",
       "      <td>1%</td>\n",
       "      <td>...</td>\n",
       "      <td>4%</td>\n",
       "      <td>레몽몽</td>\n",
       "      <td>2025.04.28</td>\n",
       "      <td>거품이나 향은 무난한데 새치커버력이 홍보대비 좀 아쉽네요</td>\n",
       "      <td>5점만점에 4점</td>\n",
       "      <td>NaN</td>\n",
       "      <td>보통이에요</td>\n",
       "      <td>자극없이 순해요</td>\n",
       "      <td>거품이 풍성해요</td>\n",
       "      <td>아주 만족해요</td>\n",
       "    </tr>\n",
       "    <tr>\n",
       "      <th>2</th>\n",
       "      <td>모다모다 제로그레이 블랙샴푸10 더블기획 (300g+300g)</td>\n",
       "      <td>모다모다</td>\n",
       "      <td>78,000\\n원</td>\n",
       "      <td>48,280\\n원</td>\n",
       "      <td>145</td>\n",
       "      <td>4.6</td>\n",
       "      <td>78%</td>\n",
       "      <td>13%</td>\n",
       "      <td>6%</td>\n",
       "      <td>1%</td>\n",
       "      <td>...</td>\n",
       "      <td>4%</td>\n",
       "      <td>k202401158****</td>\n",
       "      <td>2025.05.16</td>\n",
       "      <td>얼마전에 구매했는데 쿠폰이 있어서 또 구매했어요 미리 쟁여 둘려구요</td>\n",
       "      <td>5점만점에 5점</td>\n",
       "      <td>재구매</td>\n",
       "      <td>아주 만족해요</td>\n",
       "      <td>자극없이 순해요</td>\n",
       "      <td>거품이 풍성해요</td>\n",
       "      <td>아주 만족해요</td>\n",
       "    </tr>\n",
       "    <tr>\n",
       "      <th>3</th>\n",
       "      <td>모다모다 제로그레이 블랙샴푸10 더블기획 (300g+300g)</td>\n",
       "      <td>모다모다</td>\n",
       "      <td>78,000\\n원</td>\n",
       "      <td>48,280\\n원</td>\n",
       "      <td>145</td>\n",
       "      <td>4.6</td>\n",
       "      <td>78%</td>\n",
       "      <td>13%</td>\n",
       "      <td>6%</td>\n",
       "      <td>1%</td>\n",
       "      <td>...</td>\n",
       "      <td>4%</td>\n",
       "      <td>k202401158****</td>\n",
       "      <td>2025.05.10</td>\n",
       "      <td>염색 하지 않고 몇년째 계속 사용하고 있어요남편 덕분에 알게 되어서 지금까지 같이 쓰고 있어요~</td>\n",
       "      <td>5점만점에 5점</td>\n",
       "      <td>NaN</td>\n",
       "      <td>아주 만족해요</td>\n",
       "      <td>자극없이 순해요</td>\n",
       "      <td>거품이 풍성해요</td>\n",
       "      <td>아주 만족해요</td>\n",
       "    </tr>\n",
       "    <tr>\n",
       "      <th>4</th>\n",
       "      <td>모다모다 제로그레이 블랙샴푸10 더블기획 (300g+300g)</td>\n",
       "      <td>모다모다</td>\n",
       "      <td>78,000\\n원</td>\n",
       "      <td>48,280\\n원</td>\n",
       "      <td>145</td>\n",
       "      <td>4.6</td>\n",
       "      <td>78%</td>\n",
       "      <td>13%</td>\n",
       "      <td>6%</td>\n",
       "      <td>1%</td>\n",
       "      <td>...</td>\n",
       "      <td>4%</td>\n",
       "      <td>sweetvio****</td>\n",
       "      <td>2025.05.06</td>\n",
       "      <td>남편40대되고 흰머리가많아 이걸사줬는데그레이정도는되는것같아요</td>\n",
       "      <td>5점만점에 5점</td>\n",
       "      <td>한달이상사용</td>\n",
       "      <td>보통이에요</td>\n",
       "      <td>보통이에요</td>\n",
       "      <td>보통이에요</td>\n",
       "      <td>보통이에요</td>\n",
       "    </tr>\n",
       "  </tbody>\n",
       "</table>\n",
       "<p>5 rows × 32 columns</p>\n",
       "</div>"
      ],
      "text/plain": [
       "                                  제품명   브랜드         원가        판매가  리뷰수 평균별점  \\\n",
       "0  모다모다 제로그레이 블랙샴푸10 더블기획 (300g+300g)  모다모다  78,000\\n원  48,280\\n원  145  4.6   \n",
       "1  모다모다 제로그레이 블랙샴푸10 더블기획 (300g+300g)  모다모다  78,000\\n원  48,280\\n원  145  4.6   \n",
       "2  모다모다 제로그레이 블랙샴푸10 더블기획 (300g+300g)  모다모다  78,000\\n원  48,280\\n원  145  4.6   \n",
       "3  모다모다 제로그레이 블랙샴푸10 더블기획 (300g+300g)  모다모다  78,000\\n원  48,280\\n원  145  4.6   \n",
       "4  모다모다 제로그레이 블랙샴푸10 더블기획 (300g+300g)  모다모다  78,000\\n원  48,280\\n원  145  4.6   \n",
       "\n",
       "  5점비율 4점비율 3점비율 2점비율  ... 향/다소아쉬워요             작성자        작성일자  \\\n",
       "0  78%  13%   6%   1%  ...       4%           용자입니다  2025.05.19   \n",
       "1  78%  13%   6%   1%  ...       4%             레몽몽  2025.04.28   \n",
       "2  78%  13%   6%   1%  ...       4%  k202401158****  2025.05.16   \n",
       "3  78%  13%   6%   1%  ...       4%  k202401158****  2025.05.10   \n",
       "4  78%  13%   6%   1%  ...       4%    sweetvio****  2025.05.06   \n",
       "\n",
       "                                                      리뷰        별점    사용현황  \\\n",
       "0             일주일째 쓰는중인데 좋은거 같기도하고 아닌것 같기도 하고 한달뒤 후기로..ㄹ  5점만점에 5점     NaN   \n",
       "1                        거품이나 향은 무난한데 새치커버력이 홍보대비 좀 아쉽네요  5점만점에 4점     NaN   \n",
       "2                  얼마전에 구매했는데 쿠폰이 있어서 또 구매했어요 미리 쟁여 둘려구요  5점만점에 5점     재구매   \n",
       "3  염색 하지 않고 몇년째 계속 사용하고 있어요남편 덕분에 알게 되어서 지금까지 같이 쓰고 있어요~  5점만점에 5점     NaN   \n",
       "4                      남편40대되고 흰머리가많아 이걸사줬는데그레이정도는되는것같아요  5점만점에 5점  한달이상사용   \n",
       "\n",
       "       세정력       자극도        거품        향  \n",
       "0  아주 만족해요  자극없이 순해요  거품이 풍성해요  아주 만족해요  \n",
       "1    보통이에요  자극없이 순해요  거품이 풍성해요  아주 만족해요  \n",
       "2  아주 만족해요  자극없이 순해요  거품이 풍성해요  아주 만족해요  \n",
       "3  아주 만족해요  자극없이 순해요  거품이 풍성해요  아주 만족해요  \n",
       "4    보통이에요     보통이에요     보통이에요    보통이에요  \n",
       "\n",
       "[5 rows x 32 columns]"
      ]
     },
     "execution_count": 13,
     "metadata": {},
     "output_type": "execute_result"
    }
   ],
   "source": [
    "df.head()"
   ]
  },
  {
   "cell_type": "code",
   "execution_count": 15,
   "id": "037e3704-8997-4a4f-ba92-13883f58e72e",
   "metadata": {},
   "outputs": [
    {
     "data": {
      "text/plain": [
       "(215241, 32)"
      ]
     },
     "execution_count": 15,
     "metadata": {},
     "output_type": "execute_result"
    }
   ],
   "source": [
    "df.shape"
   ]
  },
  {
   "cell_type": "code",
   "execution_count": 17,
   "id": "8d0bddb2-fae9-43a7-b0d3-6738df107bf0",
   "metadata": {
    "scrolled": true
   },
   "outputs": [
    {
     "name": "stdout",
     "output_type": "stream",
     "text": [
      "<class 'pandas.core.frame.DataFrame'>\n",
      "RangeIndex: 215241 entries, 0 to 215240\n",
      "Data columns (total 32 columns):\n",
      " #   Column       Non-Null Count   Dtype \n",
      "---  ------       --------------   ----- \n",
      " 0   제품명          215241 non-null  object\n",
      " 1   브랜드          215241 non-null  object\n",
      " 2   원가           142830 non-null  object\n",
      " 3   판매가          215241 non-null  object\n",
      " 4   리뷰수          215190 non-null  object\n",
      " 5   평균별점         215190 non-null  object\n",
      " 6   5점비율         215190 non-null  object\n",
      " 7   4점비율         215190 non-null  object\n",
      " 8   3점비율         215190 non-null  object\n",
      " 9   2점비율         215190 non-null  object\n",
      " 10  1점비율         215190 non-null  object\n",
      " 11  세정력/아주만족해요   213685 non-null  object\n",
      " 12  세정력/보통이에요    213685 non-null  object\n",
      " 13  세정력/다소아쉬워요   213685 non-null  object\n",
      " 14  자극도/자극없이순해요  213685 non-null  object\n",
      " 15  자극도/보통이에요    213685 non-null  object\n",
      " 16  자극도/자극이느껴져요  213685 non-null  object\n",
      " 17  거품/거품이풍성해요   213685 non-null  object\n",
      " 18  거품/보통이에요     213685 non-null  object\n",
      " 19  거품/거품이적어요    213685 non-null  object\n",
      " 20  향/아주만족해요     212877 non-null  object\n",
      " 21  향/보통이에요      212877 non-null  object\n",
      " 22  향/다소아쉬워요     212877 non-null  object\n",
      " 23  작성자          215190 non-null  object\n",
      " 24  작성일자         215190 non-null  object\n",
      " 25  리뷰           213291 non-null  object\n",
      " 26  별점           215190 non-null  object\n",
      " 27  사용현황         75916 non-null   object\n",
      " 28  세정력          208772 non-null  object\n",
      " 29  자극도          208750 non-null  object\n",
      " 30  거품           208743 non-null  object\n",
      " 31  향            208203 non-null  object\n",
      "dtypes: object(32)\n",
      "memory usage: 52.5+ MB\n"
     ]
    }
   ],
   "source": [
    "df.info()"
   ]
  },
  {
   "cell_type": "code",
   "execution_count": 19,
   "id": "80a82686-cb4c-438f-a4b3-469ed59ad095",
   "metadata": {
    "scrolled": true
   },
   "outputs": [
    {
     "data": {
      "text/plain": [
       "제품명               560\n",
       "브랜드               141\n",
       "원가                104\n",
       "판매가               253\n",
       "리뷰수               365\n",
       "평균별점               14\n",
       "5점비율               49\n",
       "4점비율               36\n",
       "3점비율               22\n",
       "2점비율               14\n",
       "1점비율               14\n",
       "세정력/아주만족해요         64\n",
       "세정력/보통이에요          60\n",
       "세정력/다소아쉬워요         18\n",
       "자극도/자극없이순해요        62\n",
       "자극도/보통이에요          58\n",
       "자극도/자극이느껴져요        18\n",
       "거품/거품이풍성해요         85\n",
       "거품/보통이에요           65\n",
       "거품/거품이적어요          47\n",
       "향/아주만족해요           72\n",
       "향/보통이에요            67\n",
       "향/다소아쉬워요           23\n",
       "작성자             59694\n",
       "작성일자             2828\n",
       "리뷰             157360\n",
       "별점                  5\n",
       "사용현황                3\n",
       "세정력                 6\n",
       "자극도                 6\n",
       "거품                  7\n",
       "향                   3\n",
       "dtype: int64"
      ]
     },
     "execution_count": 19,
     "metadata": {},
     "output_type": "execute_result"
    }
   ],
   "source": [
    "df.nunique()"
   ]
  },
  {
   "cell_type": "code",
   "execution_count": 20,
   "id": "e02d2102-958e-4025-8ae2-d40b3452d46f",
   "metadata": {
    "scrolled": true
   },
   "outputs": [
    {
     "data": {
      "text/plain": [
       "제품명                 0\n",
       "브랜드                 0\n",
       "원가              72411\n",
       "판매가                 0\n",
       "리뷰수                51\n",
       "평균별점               51\n",
       "5점비율               51\n",
       "4점비율               51\n",
       "3점비율               51\n",
       "2점비율               51\n",
       "1점비율               51\n",
       "세정력/아주만족해요       1556\n",
       "세정력/보통이에요        1556\n",
       "세정력/다소아쉬워요       1556\n",
       "자극도/자극없이순해요      1556\n",
       "자극도/보통이에요        1556\n",
       "자극도/자극이느껴져요      1556\n",
       "거품/거품이풍성해요       1556\n",
       "거품/보통이에요         1556\n",
       "거품/거품이적어요        1556\n",
       "향/아주만족해요         2364\n",
       "향/보통이에요          2364\n",
       "향/다소아쉬워요         2364\n",
       "작성자                51\n",
       "작성일자               51\n",
       "리뷰               1950\n",
       "별점                 51\n",
       "사용현황           139325\n",
       "세정력              6469\n",
       "자극도              6491\n",
       "거품               6498\n",
       "향                7038\n",
       "dtype: int64"
      ]
     },
     "execution_count": 20,
     "metadata": {},
     "output_type": "execute_result"
    }
   ],
   "source": [
    "# 결측치 확인\n",
    "df.isna().sum()"
   ]
  },
  {
   "cell_type": "code",
   "execution_count": 23,
   "id": "8daf5ac3-04a1-4358-8a44-0f43057c4b1c",
   "metadata": {},
   "outputs": [
    {
     "data": {
      "text/plain": [
       "array([nan, '재구매', '한달이상사용', '한달사용리뷰'], dtype=object)"
      ]
     },
     "execution_count": 23,
     "metadata": {},
     "output_type": "execute_result"
    }
   ],
   "source": [
    "# 사용현황 범주 확인\n",
    "df[\"사용현황\"].unique()"
   ]
  },
  {
   "cell_type": "markdown",
   "id": "004b4030-37e1-47a9-9bc3-4230decc3f37",
   "metadata": {},
   "source": [
    "# 중복 데이터 분석"
   ]
  },
  {
   "cell_type": "code",
   "execution_count": 196,
   "id": "dcf7bdc6-5266-4a6b-b236-fcfc87d2d974",
   "metadata": {},
   "outputs": [
    {
     "data": {
      "text/html": [
       "<div>\n",
       "<style scoped>\n",
       "    .dataframe tbody tr th:only-of-type {\n",
       "        vertical-align: middle;\n",
       "    }\n",
       "\n",
       "    .dataframe tbody tr th {\n",
       "        vertical-align: top;\n",
       "    }\n",
       "\n",
       "    .dataframe thead th {\n",
       "        text-align: right;\n",
       "    }\n",
       "</style>\n",
       "<table border=\"1\" class=\"dataframe\">\n",
       "  <thead>\n",
       "    <tr style=\"text-align: right;\">\n",
       "      <th></th>\n",
       "      <th>작성자</th>\n",
       "      <th>리뷰</th>\n",
       "      <th>작성일자</th>\n",
       "      <th>동일리뷰가 달린 제품수</th>\n",
       "    </tr>\n",
       "  </thead>\n",
       "  <tbody>\n",
       "    <tr>\n",
       "      <th>0</th>\n",
       "      <td>0</td>\n",
       "      <td>라보에이치 초록색 잘 사용하다가 노세범도 구매해봤습니다 지성에 좋아요</td>\n",
       "      <td>2022.12.08</td>\n",
       "      <td>1</td>\n",
       "    </tr>\n",
       "    <tr>\n",
       "      <th>1</th>\n",
       "      <td>00****</td>\n",
       "      <td>배송이 늦어진다는 문자 1건 이후로 기다리던 중에 너무 늦어져서 확인해 보니까 배송 완료로 뜹니다. 배송 과정이 매우 불만족스럽네요. 오배송 수정은 빠르고 정확하게 처리해 주세요.</td>\n",
       "      <td>2021.08.03</td>\n",
       "      <td>1</td>\n",
       "    </tr>\n",
       "    <tr>\n",
       "      <th>2</th>\n",
       "      <td>00****</td>\n",
       "      <td>세정력이 너무 좋아서 피부가 살짝 화끈해요!최대한 피부에 안닫는게 좋을것 같아요.그래도 2~3일 머리 안감아도 티가 안나요.향은 그냥저냥하구 거품 많이 나서 좋았어요.</td>\n",
       "      <td>2024.05.25</td>\n",
       "      <td>1</td>\n",
       "    </tr>\n",
       "    <tr>\n",
       "      <th>3</th>\n",
       "      <td>00****</td>\n",
       "      <td>혹시나 저렴한 가격에 혹해 이 상품을 보고계신다면고민 해 보시길 바랍니다지성두피개선은 안되지만 가려운 것 하나는 굿 입니다..지성샴푸 찾고계신다면 닥터포헤어 민트색 사용 해 보세요(광고아님..) 라우쉬,클로란 등등 별별 지성샴푸 다 사봤지만소용 없습니다 ( 라우쉬,클로란 사서 쓰시려면 직구해서 쓰세요,, 국내 입점하면서 성분이 바뀌면서 기름기 잡아주는 것 1도없음...)결론: 가려움 완화, 용량 큰 저렴이샴푸</td>\n",
       "      <td>2025.01.17</td>\n",
       "      <td>1</td>\n",
       "    </tr>\n",
       "    <tr>\n",
       "      <th>4</th>\n",
       "      <td>00000000</td>\n",
       "      <td>저는 지성 이여서 티트리 샴푸로 골라서 샀는데 어느정도 기름진 거는 그래도 괜찮았는데 저만 그런 건지 다른 사람도 그런 건지 머리카락이 좀 많이 빠지게 되었어요  이것 빼고는 그래도 전체적으로 보통 수준인 것 같아요</td>\n",
       "      <td>2021.07.13</td>\n",
       "      <td>1</td>\n",
       "    </tr>\n",
       "  </tbody>\n",
       "</table>\n",
       "</div>"
      ],
      "text/plain": [
       "        작성자  \\\n",
       "0         0   \n",
       "1    00****   \n",
       "2    00****   \n",
       "3    00****   \n",
       "4  00000000   \n",
       "\n",
       "                                                                                                                                                                                                                                       리뷰  \\\n",
       "0                                                                                                                                                                                                  라보에이치 초록색 잘 사용하다가 노세범도 구매해봤습니다 지성에 좋아요   \n",
       "1                                                                                                                                    배송이 늦어진다는 문자 1건 이후로 기다리던 중에 너무 늦어져서 확인해 보니까 배송 완료로 뜹니다. 배송 과정이 매우 불만족스럽네요. 오배송 수정은 빠르고 정확하게 처리해 주세요.   \n",
       "2                                                                                                                                           세정력이 너무 좋아서 피부가 살짝 화끈해요!최대한 피부에 안닫는게 좋을것 같아요.그래도 2~3일 머리 안감아도 티가 안나요.향은 그냥저냥하구 거품 많이 나서 좋았어요.   \n",
       "3  혹시나 저렴한 가격에 혹해 이 상품을 보고계신다면고민 해 보시길 바랍니다지성두피개선은 안되지만 가려운 것 하나는 굿 입니다..지성샴푸 찾고계신다면 닥터포헤어 민트색 사용 해 보세요(광고아님..) 라우쉬,클로란 등등 별별 지성샴푸 다 사봤지만소용 없습니다 ( 라우쉬,클로란 사서 쓰시려면 직구해서 쓰세요,, 국내 입점하면서 성분이 바뀌면서 기름기 잡아주는 것 1도없음...)결론: 가려움 완화, 용량 큰 저렴이샴푸   \n",
       "4                                                                                                                저는 지성 이여서 티트리 샴푸로 골라서 샀는데 어느정도 기름진 거는 그래도 괜찮았는데 저만 그런 건지 다른 사람도 그런 건지 머리카락이 좀 많이 빠지게 되었어요  이것 빼고는 그래도 전체적으로 보통 수준인 것 같아요   \n",
       "\n",
       "         작성일자  동일리뷰가 달린 제품수  \n",
       "0  2022.12.08             1  \n",
       "1  2021.08.03             1  \n",
       "2  2024.05.25             1  \n",
       "3  2025.01.17             1  \n",
       "4  2021.07.13             1  "
      ]
     },
     "execution_count": 196,
     "metadata": {},
     "output_type": "execute_result"
    }
   ],
   "source": [
    "# 중복 데이터 확인을 위한 작성자, 리뷰, 작성일자 기준 그룹화\n",
    "# 각 중복리뷰가 달린 제품수 확인\n",
    "gp = df.groupby([\"작성자\", \"리뷰\", \"작성일자\"])[\"제품명\"].nunique().reset_index(name = \"동일리뷰가 달린 제품수\")\n",
    "gp.head()"
   ]
  },
  {
   "cell_type": "code",
   "execution_count": 198,
   "id": "d39aca66-4c95-4945-b166-c1e21dd47c46",
   "metadata": {},
   "outputs": [],
   "source": [
    "# 2개 이상의 상품에 달린 중복 리뷰\n",
    "discredited = gp[gp[\"동일리뷰가 달린 제품수\"] >= 2]"
   ]
  },
  {
   "cell_type": "code",
   "execution_count": 200,
   "id": "6210a443-34a0-4c0f-b6a0-3ae7a13d159d",
   "metadata": {},
   "outputs": [
    {
     "data": {
      "text/plain": [
       "동일리뷰가 달린 제품수\n",
       "2     34133\n",
       "3      5287\n",
       "5      1298\n",
       "4       257\n",
       "6         8\n",
       "7         7\n",
       "11        3\n",
       "16        1\n",
       "10        1\n",
       "Name: count, dtype: int64"
      ]
     },
     "execution_count": 200,
     "metadata": {},
     "output_type": "execute_result"
    }
   ],
   "source": [
    "discredited[\"동일리뷰가 달린 제품수\"].value_counts()"
   ]
  },
  {
   "cell_type": "code",
   "execution_count": 204,
   "id": "d22b7786-65c2-4b0a-82ed-e7426539adc2",
   "metadata": {},
   "outputs": [
    {
     "data": {
      "image/png": "[encoded data removed]",
      "text/plain": [
       "<Figure size 800x500 with 1 Axes>"
      ]
     },
     "metadata": {},
     "output_type": "display_data"
    }
   ],
   "source": [
    "# 시각화\n",
    "bar_data = discredited[\"동일리뷰가 달린 제품수\"].value_counts().sort_index()\n",
    "\n",
    "plt.figure(figsize=(8, 5))\n",
    "sns.barplot(x = bar_data.index, y=bar_data.values)\n",
    "\n",
    "plt.xlabel(\"Number of Products with Same Reviews\")\n",
    "plt.ylabel(\"count\")\n",
    "plt.xticks()\n",
    "plt.grid()\n",
    "\n",
    "plt.show()"
   ]
  },
  {
   "cell_type": "code",
   "execution_count": 208,
   "id": "7874a2d7-e0cd-4b0e-9d09-bfae607da069",
   "metadata": {},
   "outputs": [
    {
     "data": {
      "image/png": "[encoded data removed]",
      "text/plain": [
       "<Figure size 800x500 with 1 Axes>"
      ]
     },
     "metadata": {},
     "output_type": "display_data"
    }
   ],
   "source": [
    "# 비율 기반 시각화\n",
    "bar_data = discredited[\"동일리뷰가 달린 제품수\"].value_counts(normalize=True).sort_index()\n",
    "\n",
    "plt.figure(figsize=(8, 5))\n",
    "sns.barplot(x = bar_data.index, y=bar_data.values)\n",
    "\n",
    "plt.xlabel(\"Number of Products with Same Reviews\")\n",
    "plt.ylabel(\"count\")\n",
    "plt.xticks()\n",
    "plt.grid()\n",
    "\n",
    "plt.show()"
   ]
  },
  {
   "cell_type": "code",
   "execution_count": 210,
   "id": "d5c3cbe4-97ae-4d64-8f33-83509b5140e3",
   "metadata": {
    "scrolled": true
   },
   "outputs": [
    {
     "data": {
      "image/png": "[encoded data removed]",
      "text/plain": [
       "<Figure size 640x480 with 1 Axes>"
      ]
     },
     "metadata": {},
     "output_type": "display_data"
    }
   ],
   "source": [
    "discredited[\"동일리뷰가 달린 제품수\"].hist(bins = 10)\n",
    "\n",
    "plt.show()"
   ]
  },
  {
   "cell_type": "markdown",
   "id": "12eee6f4-b37e-49c1-919e-0e28a215d005",
   "metadata": {},
   "source": [
    "- 확인하고 싶은 거\n",
    "    - 2개 상품에 동일 리뷰를 단 경우, 그 상품들이 구성만 다른 같은 상품이었는지 확인\n",
    "        - 대체적으로 그렇다면 ok"
   ]
  },
  {
   "cell_type": "code",
   "execution_count": 217,
   "id": "638c908a-9410-482b-a2c3-0ae57ccdc295",
   "metadata": {},
   "outputs": [],
   "source": [
    "same_review_gp = df.groupby([\"작성자\", \"리뷰\", \"작성일자\"])"
   ]
  },
  {
   "cell_type": "code",
   "execution_count": 219,
   "id": "42129c23-340e-4fc0-b949-629a0f85a0ec",
   "metadata": {
    "scrolled": true
   },
   "outputs": [],
   "source": [
    "# 2개의 상품에 동일 리뷰를 단 경우\n",
    "filt_dup2_gp = same_review_gp.filter(lambda x: x[\"제품명\"].nunique() == 2)"
   ]
  },
  {
   "cell_type": "code",
   "execution_count": 221,
   "id": "cacb057e-d65b-457e-abfe-11c792b3198a",
   "metadata": {},
   "outputs": [
    {
     "data": {
      "text/plain": [
       "(68735, 32)"
      ]
     },
     "execution_count": 221,
     "metadata": {},
     "output_type": "execute_result"
    }
   ],
   "source": [
    "filt_dup2_gp.shape"
   ]
  },
  {
   "cell_type": "code",
   "execution_count": 223,
   "id": "6038d246-99ea-49ae-976d-632e99a68788",
   "metadata": {},
   "outputs": [
    {
     "data": {
      "text/plain": [
       "제품명\n",
       "2    34133\n",
       "Name: count, dtype: int64"
      ]
     },
     "execution_count": 223,
     "metadata": {},
     "output_type": "execute_result"
    }
   ],
   "source": [
    "filt_dup2_gp.groupby([\"작성자\", \"리뷰\", \"작성일자\"])[\"제품명\"].nunique().value_counts()"
   ]
  },
  {
   "cell_type": "code",
   "execution_count": 225,
   "id": "8aa6120d-a83b-4c4c-8cea-e8545c8d6a44",
   "metadata": {
    "scrolled": true
   },
   "outputs": [
    {
     "data": {
      "text/plain": [
       "작성자         리뷰                                                                                                                                                                                                                                                                                                                   작성일자      \n",
       "00020****   향도 좋고 다 괜찮아요~~ 두피 자극 없고 거품도 잘납니다 세정력도 좋아요                                                                                                                                                                                                                                                                            2025.04.08                          [로레알파리 토탈리페어5 샴푸 410ml 1&1 + 155ml 추가증정, 로레알파리 토탈리페어5 딥클렌징 샴푸 기획/단품 택1]\n",
       "0070****    울 중딩딸들 긴머리 자주감기 귀찮아해 고민이었는데 요즘 갖고싶은 향기라며 알아서 감네요~♡♡♡ 진작 사줄걸♡                                                                                                                                                                                                                                                         2022.04.18                               [밀크바오밥 퍼퓸 샴푸 화이트머스크 더블 기획 (500ml+500ml), [3종 택1]밀크바오밥 퍼퓸 샴푸 500ml]\n",
       "00ass       항상 머리 못 감았을 때 잘 쓰는 물품입니다! 이번에 두 통 째예요 ㅎ.ㅎ 진짜 머리 감은 것처럼 돼서 편해요!!!!!!!!                                                                                                                                                                                                                                                2024.07.26       [[5월 올영픽/지성두피&쿨링] 클로란 아쿠아민트 쿨세범 드라이샴푸 150ml, [지성두피 & 쿨링] 클로란 아쿠아민트 쿨세범 드라이 샴푸 150ml 2입 기획]\n",
       "010****     두피와 모발에 좋은 성분이라고 해서 구매해봤어요!세정력이 좋은 것 같고 감고나면 산뜻한 느낌이예용거품이 풍성한 편은 아니고 향도 제 기준에는 막 엄청 좋지는 않은 것 같아요. 모발이 뻣뻣해지는 편이라 트리트먼트나 린스를 꼭 사용해야 할 것 같아용                                                                                                                                                                            2024.10.04    [[5월 올영픽/두피활력&모발강화] 클로란 퀴닌 에델바이스 샴푸 400ml 기획 (+수수진 파우치), [두피활력 & 모발강화] 클로란 퀴닌 에델바이스 샴푸 400ml]\n",
       "            모발을 강화해주고 모발 에너지 공급해주는 성분이라고 해서 구매해봤어요! 거품이 엄청 풍성한 편은 아니지만 무난하고 향은 약간 한방?느낌의 향이 나서 조금 호불호가 있을 것 같습니다. 감고나면 머릿결이 좀 뻣뻣해지는 느낌이라 트리트먼트를 같이 사용해야 할 것 같아요!                                                                                                                                                                 2024.12.13    [[5월 올영픽/두피활력&모발강화] 클로란 퀴닌 에델바이스 샴푸 400ml 기획 (+수수진 파우치), [두피활력 & 모발강화] 클로란 퀴닌 에델바이스 샴푸 400ml]\n",
       "011rom****  클로란 몇년전에 처음 나왔을때부터 꾸준히 핑크색 갈색 망고 종류별로 다 써봤는데 갈색이 젤 좋아서 자꾸 사서 쓰게 되었네요 이번에 시트러스 지성용이 나와서 여름이고 시원함을 기대하고 사봤어요 요즘은 클로란 세일도 많이하고 종류도 다양해져서 선택의 폭이 더 넓어져서 좋네요 시트러스향이라고해서 기대하고 구입했는데 약간 남자스킨향이 나구요 사용후 갈색처럼 뻣뻣해지지않고 부드러워서 좋더라구요 그리고 두피가 편하고 뽀송함이 오래 유지되는것같아 좋더라구요 쿨민트도 같이 샀는데 비교해봐야겠네요 일단 시트러스는 합격이네요 여름내내 잘 쓸것같아요 좋은구매입니다  2021.06.08            [[건조모발 & 지성두피] 클로란 시트러스 스케일링 샴푸 400ml, [지성두피 & 건조모발] 클로란 시트러스 샴푸 더블 기획 (400ml+400ml)]\n",
       "0127oz      부모님이 필요해하셨는데 올영세일 때 싸게 구매했습니다 몇 통 째 쓰시는 거 보니까 좋은가봅니당                                                                                                                                                                                                                                                                 2024.01.25                   [모다모다 제로그레이 블랙샴푸10 300g기획 (+10일 kit 증정), 모다모다 제로 그레이 블랙샴푸 300g 기획 (+7일kit 증정)]\n",
       "017****     탈모에 좋다고 해서 구매해보았어요.머리카락이 사용 후 덜 빠지는거 같다고 하네요.                                                                                                                                                                                                                                                                        2023.09.01                            [알페신 카페인샴푸 C1 250ml*2 (2입기획), 알페신 카페인샴푸 C1 375ml 기획 세트(+리퀴드 75ml+펌프)]\n",
       "            향도 부담없고 거품도 잘 납니다.탈모에 좋다고해서 꾸준하게 사용중입니다.                                                                                                                                                                                                                                                                             2023.10.01                            [알페신 카페인샴푸 C1 250ml*2 (2입기획), 알페신 카페인샴푸 C1 375ml 기획 세트(+리퀴드 75ml+펌프)]\n",
       "0191e****   최근 스트레스 때문일까요ㅜ 작년 다르고 올해 다른  머리 상태 ㅠㅠ정말 머리 하나 하나 소중해졌어요우연히 알게 된 루톤 여성 두피 용 알파 에르겐 샴푸 큰 맘 먹고 구입했어요디자인도 고급지고 제품성도 좋고  ~~~두피 자극도 없고 맞춤 샴푸라 할까~~ㅎㅎ샴푸만 사용해도 머리 뻣뻣한 감 전혀 없고 자연 성분이라 두피와 머릿결에 정말 도움 됩니다천연 오일 향이라 오래가고 좋아요~일단 샴푸 먼저 사용하고 좋으면 트리트먼트 구입하려고 했는데 구입해야겠어요저도 이제부터 관리 해야 겠어요 기대 됩니다저만을 위한 샴푸가 있다는 것도 만족합니다          2022.04.14                         [루톤 여성두피용 알파 에르겐 샴푸 500ml(탈모증상완화), 루톤 여성 두피용 알파에르겐 탈모샴푸 500ml+70ml 증정기획]\n",
       "Name: 제품명, dtype: object"
      ]
     },
     "execution_count": 225,
     "metadata": {},
     "output_type": "execute_result"
    }
   ],
   "source": [
    "filt_dup2_gp.groupby([\"작성자\", \"리뷰\", \"작성일자\"])[\"제품명\"].unique().head(10)"
   ]
  },
  {
   "cell_type": "code",
   "execution_count": 159,
   "id": "a11c9c8e-90a9-4df8-b5d8-ab07404f346d",
   "metadata": {
    "scrolled": true
   },
   "outputs": [
    {
     "data": {
      "text/plain": [
       "작성자    리뷰                                                                                                                                                                                                                                                                                                                                                                                                                                                                                                                                                작성일자      \n",
       "히히히히힣  드라이 샴푸가 뭔지 너무 궁금해서 구매를 해봤는데 이니숲 노세범처럼 머리에 기름진 부분을 케어해주는 기능에 가까운것 같아요. 입자가 엄청 곱고 파우더 퍼프와 연결되어 있어 사용하기 매우 편리합니다. 크기도 휴대할만 해서 여름에 땀나고 쉽게 기름지는 분들 들고다니면서 사용하시면 너무 좋을거같고 저는 밤에 머리를 감으면 다음날 머리가 너무 차분해서 눌려보일때가 있는데 뿌리쪽으로 팡팡 뿌려주니 좀 풍성해지는 효과가 있는 듯 했습니다.단점이 있다면 입자가 정말 엄청 곱다보니 열고 닫을때 가루날림이 있어요.                                                                                                                                                                                                                                                         2024.08.24        [[3초 뽀송] 아로마티카 로즈마리 드라이 샴푸 파우더 10g 기획 (+로즈마리 샴푸 100ml), [3초 뽀송] 아로마티카 로즈마리 드라이 샴푸 파우더 10g 기획(+티트리 샴푸 100ml 증정)]\n",
       "히히힛안녕  탈모 스케일러광고보고 효과 있겠나 싶어서 구매 했는데 사용하니까 두피가 깔끔해진 느낌이 들어요                                                                                                                                                                                                                                                                                                                                                                                                                                                                                              2025.05.01                                 [스팀베이스 티트리 스칼프 워터 스케일러 250ml 기획세트(+50ml+브러쉬 증정), 스팀베이스 티트리 스칼프 워터 스케일러 250ml (탈모증상완화)]\n",
       "힉힉호모리  조금만 써도 거품이 풍성하게 잘올라와요 세정력도 좋고 향도 상큼(?)해서 좋네요                                                                                                                                                                                                                                                                                                                                                                                                                                                                                                      2024.12.30                                    [[하트페어링 제연 PICK] 모에브 아누카틴 샴푸 300ml, [하트페어링 제연 PICK] 모에브 아누카틴 샴푸/트리트먼트/헤어에센스 3종 택 1]\n",
       "힐라리아점  배송 오래 기다렸어요 ㅠ 잊고 있었는데 집 현관앞에 와있더라구요 ㅠ 하지만 제품은 생각보다 괜찮은것 같습니당 가격이 쫌 비싼것 같지만요 세일기간에 사면 좋을것 같습니다 요즘 이 제품 광고를 많이 하더라구요 버스에서도 광고 본게 기억이 나서 궁금해서 한번 구매해봤어요                                                                                                                                                                                                                                                                                                                                                                                              2024.07.27         [[추가증정] 닥터포헤어 탈모샴푸 폴리젠 바이오-3 샴푸 300ml+100ml/750ml+200ml 기획세트, [대용량] 닥터포헤어 폴리젠 바이오-3 샴푸 750ml+ 200ml 탈모증상완화 샴푸]\n",
       "힝      예전에 써보고 큰 용량으로 새롭게 나왔길래 구매했어요.일주일에 한 두 번, 아침에 바쁠때는 못 쓰고 여유있을때 씁니다. 거품은 적게 나서 힘든데 스케일링이 주목적이니까 뭐 괜찮아요.                                                                                                                                                                                                                                                                                                                                                                                                                                             2021.01.27                             [닥터포헤어 폴리젠 씨솔트 스케일러 300g + 50g (두피각질 딥클렌징), 닥터포헤어 두피집중케어 솔루션 2종 기획세트(스케일러300ml+스칼프팩250ml)]\n",
       "       요즘 건조해진 날씨에 두피도 말썽인지 비듬이 부쩍 떨어져서 구매했어요. 아직까진 효과가 덜 한 것 같은데 꾸준히 써봐야겠네요.샘플도 줘서 좋아요.                                                                                                                                                                                                                                                                                                                                                                                                                                                                 2019.12.19                     [라우쉬 샴푸 200ml 5종 택1 (콜츠푸트/씨위드/스위스허벌/카모마일/에그오일), [비듬각질정화샴푸]라우쉬 콜츠푸트 안티-댄드러프 샴푸 기획 (본품200ml+2종키트증정)]\n",
       "       처음 보는 브랜드지만 여성 맞춤 탈모케어로 많이 신경 쓴 것 같은 제품이길래 체험단으로 샴푸를 신청하고 다음 체험단으로 트리트먼트도 신청하게 됐어요. 토닉은 따로 구매했답니다. 케이스 재질이 특이해요. 분명히 상자인데..? 스웨이드 만지는 느낌이에요. 고급스러운 느낌이 강하네요.여성에게 발생되는 두피트러블을 분석해 도움을 줄 수 있는 추출물과, 탈모 완화 성분이 들어가서 민감해진 두피를 케어해준다고 하네요. 여성 맞춤 영양 공급과 유수분 밸런스를 맞춰 모근, 모발 강화도 된다고 합니다. 남성 기준으로 만들어진 탈모케어제품들이 많은데 여성 탈모에 대한 연구를 하고 맞춤 케어를 해준다는 것에 좀 믿음을 가지고 사용해 볼 수 있을 것 같아요. 제형은 투명한 느낌이 강한 젤타입이고, 거품이 날까 싶었는데 의외로 거품이 잘 나서 샴푸가 잘 되는 느낌입니다. 향은 허브향이에요. 좋아요. 감고 나니 두피가 개운해진 느낌입니다. 트리트먼트가 마저 도착하게 되면 샴푸,트리트먼트,토닉 세 가지를 꾸준히 사용해보고 만족스러우면 정착하게 될 것 같아요.  2022.03.05                                               [루톤 여성두피용 알파 에르겐 샴푸 500ml(탈모증상완화), 루톤 여성 두피용 알파에르겐 탈모샴푸 500ml+70ml 증정기획]\n",
       "힝구르르르  좋은 제품 올리브영에서 저렴하게 구매할 수 있어서 좋아요!                                                                                                                                                                                                                                                                                                                                                                                                                                                                                                                  2024.09.08                        [오가니스트 히말라야핑크솔트 스케일링 샴푸 500ml, [올영단독 1&1] 닥터포헤어 피토테라피 샴푸 더블 기획 500ml+500ml (민감두피진정 저자극 임산부 샴푸)]\n",
       "       좋은 제품을 합리적인 가격에 올리브영에서 구매할 수 있었습니다.                                                                                                                                                                                                                                                                                                                                                                                                                                                                                                               2024.07.24                        [오가니스트 히말라야핑크솔트 스케일링 샴푸 500ml, [올영단독 1&1] 닥터포헤어 피토테라피 샴푸 더블 기획 500ml+500ml (민감두피진정 저자극 임산부 샴푸)]\n",
       "힝닝     판매자에게 제품비의 일부를 지원받았지만 저의 솔직한 후기입니다.겨울이라 건조해서 그런지 두피가 자주 간지러워 선택한 샴푸인데, 거품도 잘나고 뻣뻣하지 않아요. 두피도 깨끗해지는 느낌이고 향도 숲냄새같이 시원한 냄새가 나서 이런 향수 좋아하는 저에게는 잔향도 너무 좋네요..!                                                                                                                                                                                                                                                                                                                                                                                         2025.01.17    [닥터그루트 아쿠아 딥클린 탈모증상완화 샴푸 330ml 더블 기획 (+쿠로미 헤어고정시트 추가증정), 닥터그루트 아쿠아 딥클린 탈모증상완화 샴푸 330ml 한정기획 (+100ml+트리트먼트 50ml 증정)]\n",
       "Name: 제품명, dtype: object"
      ]
     },
     "execution_count": 159,
     "metadata": {},
     "output_type": "execute_result"
    }
   ],
   "source": [
    "filt_dup2_gp.groupby([\"작성자\", \"리뷰\", \"작성일자\"])[\"제품명\"].unique().tail(10)"
   ]
  },
  {
   "cell_type": "markdown",
   "id": "ac649b38-a73f-43dc-a251-46bfccd736eb",
   "metadata": {},
   "source": [
    "- 제품명은 다르지만 사실상 같은 상품에 중복된 리뷰를 작성한 것인 경우가 많음\n",
    "\n",
    "- 같은 브랜드 안의 중복된 리뷰는 신뢰할만 하다고 가정\n",
    "    - 2개 이상의 브랜드에서 중복된 리뷰를 삭제"
   ]
  },
  {
   "cell_type": "code",
   "execution_count": 234,
   "id": "fa652c6c-ab14-4a38-aa80-bcd8942c732a",
   "metadata": {},
   "outputs": [],
   "source": [
    "# 2개 이상의 브랜드에 동일 리뷰를 단 경우\n",
    "new_filt_dup2_gp = same_review_gp.filter(lambda x: x[\"브랜드\"].nunique() >= 2)"
   ]
  },
  {
   "cell_type": "code",
   "execution_count": 236,
   "id": "7062b991-7a9f-48ba-8a0d-71636b471728",
   "metadata": {},
   "outputs": [],
   "source": [
    "# 2개 이상의 제품에 동일 리뷰를 단 경우\n",
    "old_filt_dup2_gp = same_review_gp.filter(lambda x: x[\"제품명\"].nunique() >= 2)"
   ]
  },
  {
   "cell_type": "code",
   "execution_count": 238,
   "id": "ee9cda35-8263-4298-96d9-84a44ad62a2e",
   "metadata": {},
   "outputs": [
    {
     "data": {
      "text/plain": [
       "(1305, 32)"
      ]
     },
     "execution_count": 238,
     "metadata": {},
     "output_type": "execute_result"
    }
   ],
   "source": [
    "new_filt_dup2_gp.shape"
   ]
  },
  {
   "cell_type": "code",
   "execution_count": 240,
   "id": "38bd03d4-69d6-4d4f-886f-fe95eb2ed30c",
   "metadata": {},
   "outputs": [
    {
     "data": {
      "text/plain": [
       "(92442, 32)"
      ]
     },
     "execution_count": 240,
     "metadata": {},
     "output_type": "execute_result"
    }
   ],
   "source": [
    "old_filt_dup2_gp.shape"
   ]
  },
  {
   "cell_type": "markdown",
   "id": "c9acbfaf-7498-4549-ad99-38677fdea17f",
   "metadata": {},
   "source": [
    "- 확실히 상품 기준으로 중복 리뷰를 판단한 것보다 브랜드 기준일 때 더 타당할 뿐만 아니라 데이터 손실도 적음"
   ]
  },
  {
   "cell_type": "code",
   "execution_count": 174,
   "id": "8f452e82-cddb-4836-8a85-fe02c28a94e4",
   "metadata": {},
   "outputs": [],
   "source": [
    "new_gp = df.groupby(['작성자', '작성일자', '리뷰'])[\"브랜드\"].nunique().reset_index(name = \"중복리뷰가 달린 브랜드수\")"
   ]
  },
  {
   "cell_type": "code",
   "execution_count": 176,
   "id": "a5384f51-1359-46ce-9e82-745537d259e5",
   "metadata": {},
   "outputs": [
    {
     "data": {
      "text/plain": [
       "중복리뷰가 달린 브랜드수\n",
       "1     153355\n",
       "2        338\n",
       "3         46\n",
       "4         10\n",
       "6          4\n",
       "5          3\n",
       "8          1\n",
       "12         1\n",
       "Name: count, dtype: int64"
      ]
     },
     "execution_count": 176,
     "metadata": {},
     "output_type": "execute_result"
    }
   ],
   "source": [
    "new_gp[\"중복리뷰가 달린 브랜드수\"].value_counts()"
   ]
  },
  {
   "cell_type": "code",
   "execution_count": 187,
   "id": "e02a0f87-8bea-4d57-a080-bd67e5e00bfe",
   "metadata": {},
   "outputs": [
    {
     "data": {
      "text/plain": [
       "중복리뷰가 달린 제품수\n",
       "1     112763\n",
       "2      34133\n",
       "3       5287\n",
       "5       1298\n",
       "4        257\n",
       "6          8\n",
       "7          7\n",
       "11         3\n",
       "16         1\n",
       "10         1\n",
       "Name: count, dtype: int64"
      ]
     },
     "execution_count": 187,
     "metadata": {},
     "output_type": "execute_result"
    }
   ],
   "source": [
    "old_gp = df.groupby(['작성자', '작성일자', '리뷰'])[\"제품명\"].nunique().reset_index(name = \"중복리뷰가 달린 제품수\")\n",
    "old_gp[\"중복리뷰가 달린 제품수\"].value_counts()"
   ]
  },
  {
   "cell_type": "markdown",
   "id": "b53a5257-0b97-4ca5-b961-4d0b07587893",
   "metadata": {},
   "source": [
    "- 중복리뷰가 달린 브랜드수가 2개 이상인 경우 신뢰성이 낮은 리뷰 데이터라고 판단\n",
    "    - 아예 다른 상품에 같은 리뷰를 등록한 것이기 때문\n",
    "    - 물론 하나의 브랜드의 다른 상품에 중복 리뷰가 달린 것일 가능성도 있으나 같은 상품 혹은 유사 상품으로 가정하고 진행"
   ]
  },
  {
   "cell_type": "code",
   "execution_count": 56,
   "id": "87b3c1b4-d4b8-4cea-8366-6cf4e11bef01",
   "metadata": {},
   "outputs": [
    {
     "data": {
      "text/plain": [
       "작성자\n",
       "올령내령          205\n",
       "ken****        62\n",
       "alsgp****      61\n",
       "rmsdo0810      50\n",
       "gocl7****      44\n",
       "             ... \n",
       "taijil****      1\n",
       "tak****         1\n",
       "takeuc****      1\n",
       "tanak****       1\n",
       "힝닝              1\n",
       "Name: count, Length: 21002, dtype: int64"
      ]
     },
     "execution_count": 56,
     "metadata": {},
     "output_type": "execute_result"
    }
   ],
   "source": [
    "# discredited 리뷰를 쓴 작성자의 전적\n",
    "discredited[\"작성자\"].value_counts()"
   ]
  },
  {
   "cell_type": "code",
   "execution_count": 102,
   "id": "f132b3a8-2f27-4deb-ba5a-d739ed06ac5c",
   "metadata": {},
   "outputs": [
    {
     "data": {
      "image/png": "[encoded data removed]",
      "text/plain": [
       "<Figure size 2000x500 with 1 Axes>"
      ]
     },
     "metadata": {},
     "output_type": "display_data"
    }
   ],
   "source": [
    "# discredited 리뷰를 너무 많이 작성한 top 10 제외\n",
    "plt.figure(figsize = (20, 5))\n",
    "\n",
    "discredited[\"작성자\"].value_counts()[10:].hist(bins = 20)\n",
    "\n",
    "plt.show()"
   ]
  },
  {
   "cell_type": "markdown",
   "id": "94e76946-d071-4797-bc70-d157601e91e1",
   "metadata": {},
   "source": [
    "# 1차 전처리 내용 정리\n",
    "\n",
    "- 원가, 사용현황의 결측치는 우리 프로젝트에서 중요하게 다루는 건 아니므로 별도 전처리 하지 않음\n",
    "    - 사용현황의 nan 값은 구매 이후 한달 이내에 작성한 일반 리뷰로 추정\n",
    "    - 사용현황의 '한달이상사용', '한달사용리뷰' 의 차이가 뭔진 모르겠음\n",
    "\n",
    "- 결측치 처리가 필요한 피처\n",
    "    1. 리뷰수, 평균별점, 5점비율 ~ 1점비율, 작성자, 작성일자, 별점 (상품 26개 제거)\n",
    "        - 모두 51개씩으로 리뷰수가 nan, 다시 말해 리뷰 자체가 등록되지 않음 상품의 데이터임\n",
    "            - 리뷰수가 0인 것을 의미\n",
    "        - 리뷰수의 결측치만 처리해 주어도 됨\n",
    "        - 리뷰가 아예 등록되지 않은 상품 (리뷰수 = 0) 은 aspect (col11 ~ 22) 가 결측치인 상품 37개에 포함됨\n",
    "            - aspect (col11 ~ 22) 결측치 처리한 후, 리뷰수 결측치 있는지 확인\n",
    "            - 없어야 정상 \n",
    " \n",
    "    2. 세정력/아주만족해요 ~ 향/다소아쉬워요 (상품 11개 제거: 1번에서 제거한 상품 26개가 제외)\n",
    "        - 각 상품의 속성들의 범주를 퍼센트로 표시\n",
    "        - 세정력, 자극도, 거품은 1556개씩 결측치로 세 속성의 결측치 여부가 필요충분\n",
    "        - 향은 2364개로 위의 결측치를 포함\n",
    "            - 데이터 확인 파일에서 확인함\n",
    "        - 결론적으로 향 속성의 결측치만 제거하여도 됨\n",
    "        - 결측치가 발생한 이유는 4번 전처리 단계에 적혀있듯 같은 샴푸 카테고리라고 하더라도 속성을 다르게 지정한 상품들이 존재\n",
    "\n",
    "    3. 리뷰 (1950개의 행)\n",
    "        - 리뷰 텍스트가 결측치인 경우로 제거\n",
    "     \n",
    "    4. 세정력, 자극도, 거품, 향\n",
    "        - 각 리뷰 데이터에서 작성자가 직접 선택한 속성 범주\n",
    "        - 같은 샴푸 카테고리라고 하더라도 속성을 다르게 지정한 상품들이 존재\n",
    "            - 종류가 다르거나 개수가 4개 미만이거나\n",
    "        - 우린 위의 4개의 속성으로 범주를 표현한 상품만을 분석 대상으로 삼음\n",
    "            - 위 4개 속성 중 하나라도 nan 값이면 제거\n",
    "        - 1 ~ 3 까지 진행 후, 4번에서 제거해야 하는 상품 수 확인\n",
    "            - 2번 전처리 단계에서 속성이 다르게 지정되어 결측치가 된 상품들이 이미 제거되어 상품 수에는 변화 없을 수도 있음\n",
    "         \n",
    "- 중복 제거가 필요한 경우\n",
    "    - 작성자, 리뷰, 작성일자가 같은 행\n",
    "        - (old ver. 제품명 기준) 같은 날짜에 같은 사람이 같은 내용의 리뷰를 여러 상품에 중복하여 적은 경우 신빙성이 적다고 판단하게 제거\n",
    "            - 리뷰 작성 기간이 3개월이라 같은 상품에 대해선 여러번 구매하면서 리뷰를 복붙하는 것은 인정\n",
    "            - 다만, 다른 상품임에도 불구하고 같은 내용의 리뷰를 중복해서 쓴 경우엔 해당 상품에 대한 적절한 평가로 보기 어려움\n",
    "                - 2개 이상의 상품에 같은 내용의 리뷰를 쓴 경우 삭제하는 것이 타당하지만, 너무 많은 데이터의 손실이 우려됨\n",
    "                - 시각화를 통해 3개 이상의 상품에 중복 리뷰가 달린 경우 삭제하는 것으로 결정\n",
    "                  \n",
    "        - (new ver. 브랜드 기준) 제품명이 다르지만 사실상 같은 상품에 대한 리뷰로 중복된 것인 경우, 신뢰도가 높다고 보는 것이 타당함\n",
    "            - 처음엔 2개 이상의 제품에 중복된 리뷰를 신뢰도가 떨어지는 리뷰로 보고 전처리를 고려했었음\n",
    "                - 하지만 제품명이 다르더라도 상품구성 등이 다른 같은 상품인 경우가 많음을 확인\n",
    "                - (변경) 같은 브랜드 안에서 2개 이상의 제품에 중복된 리뷰가 있는 경우에 제품명이 다르나 사실상 같은 제품에 등록된 리뷰라고 가정\n",
    "                    - 따라서 브랜드 기준으로 중복 리뷰 여부를 책정하여, 다른 브랜드에 같은 리뷰가 작성된 경우 신빙성이 떨어지는 리뷰로 판단하여 삭제\n",
    "                        - 훨씬 타당한 기준일 뿐만 아니라, 데이터 손실도 줄일 수 있음\n",
    "     \n",
    "        - 위의 중복 제거 프로세스는 결측치 전처리 이후 진행\n",
    "\n",
    "    - discredited 리뷰를 쓴 작성자를 블랙리스트로 제거하는 것은 제외\n",
    "        - 정말 샴푸 구매를 많이 하고 리뷰를 많이 작성하는 것으로 판단"
   ]
  },
  {
   "cell_type": "code",
   "execution_count": null,
   "id": "8fe2ecb7-4242-4d0f-9f91-14a5bff9ee5e",
   "metadata": {},
   "outputs": [],
   "source": []
  },
  {
   "cell_type": "markdown",
   "id": "8601f00a-9c34-4f45-9e4c-0397e9315350",
   "metadata": {},
   "source": [
    "# 결측치 전처리"
   ]
  },
  {
   "cell_type": "code",
   "execution_count": 29,
   "id": "a1c66c77-2ef3-4270-bfa2-c01ed00fbee9",
   "metadata": {},
   "outputs": [
    {
     "data": {
      "text/plain": [
       "(215241, 32)"
      ]
     },
     "execution_count": 29,
     "metadata": {},
     "output_type": "execute_result"
    }
   ],
   "source": [
    "df.shape"
   ]
  },
  {
   "cell_type": "markdown",
   "id": "d59d8fbb-c371-4d1c-bcee-3702dc2e1add",
   "metadata": {},
   "source": [
    "## 1. 리뷰수, 평균별점, 5점비율 ~ 1점비율, 작성자, 작성일자, 별점 \n",
    "\n",
    "- 상품 26개 제거"
   ]
  },
  {
   "cell_type": "code",
   "execution_count": 32,
   "id": "73567d69-a168-43bd-aeee-a7a48823d280",
   "metadata": {},
   "outputs": [],
   "source": [
    "df = df.dropna(subset = [\"리뷰수\"], axis = 0)"
   ]
  },
  {
   "cell_type": "code",
   "execution_count": 33,
   "id": "4accb10b-0ab8-4a1f-9e7e-a57f12bde47e",
   "metadata": {},
   "outputs": [
    {
     "data": {
      "text/plain": [
       "534"
      ]
     },
     "execution_count": 33,
     "metadata": {},
     "output_type": "execute_result"
    }
   ],
   "source": [
    "df[\"제품명\"].nunique()"
   ]
  },
  {
   "cell_type": "code",
   "execution_count": 34,
   "id": "88d5bbbd-2bcd-4453-8172-49ae2a4e9d7a",
   "metadata": {},
   "outputs": [
    {
     "data": {
      "text/plain": [
       "26"
      ]
     },
     "execution_count": 34,
     "metadata": {},
     "output_type": "execute_result"
    }
   ],
   "source": [
    "# 제거되는 상품 수\n",
    "560 - 534"
   ]
  },
  {
   "cell_type": "code",
   "execution_count": 35,
   "id": "5178b0b9-78cc-49c5-8c43-c44f779e22f7",
   "metadata": {},
   "outputs": [
    {
     "data": {
      "text/plain": [
       "(215190, 32)"
      ]
     },
     "execution_count": 35,
     "metadata": {},
     "output_type": "execute_result"
    }
   ],
   "source": [
    "df.shape"
   ]
  },
  {
   "cell_type": "code",
   "execution_count": 38,
   "id": "483c4b43-e436-4f3b-92e4-5eb32cda5cbe",
   "metadata": {},
   "outputs": [
    {
     "data": {
      "text/plain": [
       "51"
      ]
     },
     "execution_count": 38,
     "metadata": {},
     "output_type": "execute_result"
    }
   ],
   "source": [
    "# 제거되는 행 수\n",
    "215241 - 215190"
   ]
  },
  {
   "cell_type": "code",
   "execution_count": 41,
   "id": "a9e126c6-8a95-4dd0-b6c6-e0cf37fd5ba4",
   "metadata": {
    "scrolled": true
   },
   "outputs": [
    {
     "data": {
      "text/plain": [
       "제품명                 0\n",
       "브랜드                 0\n",
       "원가              72382\n",
       "판매가                 0\n",
       "리뷰수                 0\n",
       "평균별점                0\n",
       "5점비율                0\n",
       "4점비율                0\n",
       "3점비율                0\n",
       "2점비율                0\n",
       "1점비율                0\n",
       "세정력/아주만족해요       1505\n",
       "세정력/보통이에요        1505\n",
       "세정력/다소아쉬워요       1505\n",
       "자극도/자극없이순해요      1505\n",
       "자극도/보통이에요        1505\n",
       "자극도/자극이느껴져요      1505\n",
       "거품/거품이풍성해요       1505\n",
       "거품/보통이에요         1505\n",
       "거품/거품이적어요        1505\n",
       "향/아주만족해요         2313\n",
       "향/보통이에요          2313\n",
       "향/다소아쉬워요         2313\n",
       "작성자                 0\n",
       "작성일자                0\n",
       "리뷰               1899\n",
       "별점                  0\n",
       "사용현황           139274\n",
       "세정력              6418\n",
       "자극도              6440\n",
       "거품               6447\n",
       "향                6987\n",
       "dtype: int64"
      ]
     },
     "execution_count": 41,
     "metadata": {},
     "output_type": "execute_result"
    }
   ],
   "source": [
    "# 리뷰수, 평균별점, 5점비율 ~ 1점비율, 작성자, 작성일자, 별점 모두 결측치 제거 되었는지 확인\n",
    "df.isna().sum()"
   ]
  },
  {
   "cell_type": "markdown",
   "id": "a4be0df6-e3f2-43ac-b0e9-bd40774d5227",
   "metadata": {},
   "source": [
    "## 2. 세정력/아주만족해요 ~ 향/다소아쉬워요 \n",
    "\n",
    "- 상품 11개 제거: 1번에서 제거한 상품 26개가 제외\n",
    "\n",
    "- \"향/아주만족해요\" 가 결측치인 경우만 제거하면 됨\n",
    "    - 총 2364개였는데 1번에서 제거된 51개 행 제외하고 2313개 행 제거"
   ]
  },
  {
   "cell_type": "code",
   "execution_count": 44,
   "id": "6de2545c-1905-4beb-861a-a16854470ff1",
   "metadata": {
    "scrolled": true
   },
   "outputs": [],
   "source": [
    "df = df.dropna(subset = [\"향/아주만족해요\"], axis = 0)"
   ]
  },
  {
   "cell_type": "code",
   "execution_count": 47,
   "id": "2bd81937-4bb9-4175-8cce-2cb4d27f0c46",
   "metadata": {},
   "outputs": [
    {
     "data": {
      "text/plain": [
       "2313"
      ]
     },
     "execution_count": 47,
     "metadata": {},
     "output_type": "execute_result"
    }
   ],
   "source": [
    "# 제거된 행 수\n",
    "215190 - df.shape[0]"
   ]
  },
  {
   "cell_type": "code",
   "execution_count": 49,
   "id": "6273637a-b21c-41e5-82a6-1cec2293fd4e",
   "metadata": {
    "scrolled": true
   },
   "outputs": [
    {
     "data": {
      "text/plain": [
       "11"
      ]
     },
     "execution_count": 49,
     "metadata": {},
     "output_type": "execute_result"
    }
   ],
   "source": [
    "# 제거된 상품 수\n",
    "534 - df[\"제품명\"].nunique()"
   ]
  },
  {
   "cell_type": "code",
   "execution_count": 50,
   "id": "73d775ee-0af5-409f-b9dc-a58ac8163f85",
   "metadata": {
    "scrolled": true
   },
   "outputs": [
    {
     "data": {
      "text/plain": [
       "제품명                 0\n",
       "브랜드                 0\n",
       "원가              70534\n",
       "판매가                 0\n",
       "리뷰수                 0\n",
       "평균별점                0\n",
       "5점비율                0\n",
       "4점비율                0\n",
       "3점비율                0\n",
       "2점비율                0\n",
       "1점비율                0\n",
       "세정력/아주만족해요          0\n",
       "세정력/보통이에요           0\n",
       "세정력/다소아쉬워요          0\n",
       "자극도/자극없이순해요         0\n",
       "자극도/보통이에요           0\n",
       "자극도/자극이느껴져요         0\n",
       "거품/거품이풍성해요          0\n",
       "거품/보통이에요            0\n",
       "거품/거품이적어요           0\n",
       "향/아주만족해요            0\n",
       "향/보통이에요             0\n",
       "향/다소아쉬워요            0\n",
       "작성자                 0\n",
       "작성일자                0\n",
       "리뷰               1846\n",
       "별점                  0\n",
       "사용현황           137816\n",
       "세정력              5316\n",
       "자극도              5338\n",
       "거품               5344\n",
       "향                5417\n",
       "dtype: int64"
      ]
     },
     "execution_count": 50,
     "metadata": {},
     "output_type": "execute_result"
    }
   ],
   "source": [
    "# 세정력/아주만족해요 ~ 향/다소아쉬워요 모두 결측치 제거 되었는지 확인\n",
    "df.isna().sum()"
   ]
  },
  {
   "cell_type": "markdown",
   "id": "42271088-edd6-424b-a5cb-08661578d1a8",
   "metadata": {},
   "source": [
    "## 3. 리뷰\n",
    "\n",
    "- 원본 데이터에선 1950개의 행을 삭제해야 했으나\n",
    "    - 1, 2번의 결측치 제거를 거치며 리뷰 컬럼의 결측치 수가 1846이 됨"
   ]
  },
  {
   "cell_type": "code",
   "execution_count": 53,
   "id": "b322e9f0-1b4e-44fc-86b8-e7b37e2cff20",
   "metadata": {},
   "outputs": [
    {
     "data": {
      "text/plain": [
       "(212877, 32)"
      ]
     },
     "execution_count": 53,
     "metadata": {},
     "output_type": "execute_result"
    }
   ],
   "source": [
    "df.shape"
   ]
  },
  {
   "cell_type": "code",
   "execution_count": 54,
   "id": "fc435c81-e479-4230-a04c-69a71a72e095",
   "metadata": {
    "scrolled": true
   },
   "outputs": [],
   "source": [
    "df = df.dropna(subset = [\"리뷰\"], axis = 0)"
   ]
  },
  {
   "cell_type": "code",
   "execution_count": 55,
   "id": "705357ad-80ab-4bd8-8846-dcdd7fb21613",
   "metadata": {},
   "outputs": [
    {
     "data": {
      "text/plain": [
       "1846"
      ]
     },
     "execution_count": 55,
     "metadata": {},
     "output_type": "execute_result"
    }
   ],
   "source": [
    "212877 - df.shape[0]"
   ]
  },
  {
   "cell_type": "code",
   "execution_count": 56,
   "id": "d6e091d0-efeb-4161-9f63-82728827ce43",
   "metadata": {
    "scrolled": true
   },
   "outputs": [
    {
     "data": {
      "text/plain": [
       "제품명                 0\n",
       "브랜드                 0\n",
       "원가              69527\n",
       "판매가                 0\n",
       "리뷰수                 0\n",
       "평균별점                0\n",
       "5점비율                0\n",
       "4점비율                0\n",
       "3점비율                0\n",
       "2점비율                0\n",
       "1점비율                0\n",
       "세정력/아주만족해요          0\n",
       "세정력/보통이에요           0\n",
       "세정력/다소아쉬워요          0\n",
       "자극도/자극없이순해요         0\n",
       "자극도/보통이에요           0\n",
       "자극도/자극이느껴져요         0\n",
       "거품/거품이풍성해요          0\n",
       "거품/보통이에요            0\n",
       "거품/거품이적어요           0\n",
       "향/아주만족해요            0\n",
       "향/보통이에요             0\n",
       "향/다소아쉬워요            0\n",
       "작성자                 0\n",
       "작성일자                0\n",
       "리뷰                  0\n",
       "별점                  0\n",
       "사용현황           135970\n",
       "세정력              4686\n",
       "자극도              4698\n",
       "거품               4704\n",
       "향                4762\n",
       "dtype: int64"
      ]
     },
     "execution_count": 56,
     "metadata": {},
     "output_type": "execute_result"
    }
   ],
   "source": [
    "df.isna().sum()"
   ]
  },
  {
   "cell_type": "code",
   "execution_count": 58,
   "id": "afcf344c-357e-47bc-8e75-3cbc51d93e14",
   "metadata": {},
   "outputs": [
    {
     "data": {
      "text/plain": [
       "523"
      ]
     },
     "execution_count": 58,
     "metadata": {},
     "output_type": "execute_result"
    }
   ],
   "source": [
    "df[\"제품명\"].nunique()"
   ]
  },
  {
   "cell_type": "markdown",
   "id": "7cb85d27-c6ce-4153-92e0-6647ad939b5b",
   "metadata": {},
   "source": [
    "## 4. 세정력, 자극도, 거품, 향\n",
    "\n",
    "- 원본데이터에 비해 1 ~ 3의 전처리 단계를 거치며 4번에서 삭제해야 할 데이터 행 수 감소\n",
    "- 상품 수에는 변화가 없음\n",
    "    - 2번 전처리 단계에서 다른 속성 범주를 가져서 문제되는 상품들은 제거 되었음\n",
    "    - 리뷰 작성 시 작성자가 직접 선택하는 해당 속성 범주가 수집되지 않은 경우만 삭제해 주면 됨"
   ]
  },
  {
   "cell_type": "code",
   "execution_count": 60,
   "id": "635de3aa-3404-44a0-9c73-84851b1bb87c",
   "metadata": {},
   "outputs": [
    {
     "data": {
      "text/plain": [
       "(211031, 32)"
      ]
     },
     "execution_count": 60,
     "metadata": {},
     "output_type": "execute_result"
    }
   ],
   "source": [
    "df.shape"
   ]
  },
  {
   "cell_type": "code",
   "execution_count": 61,
   "id": "5e25b1a0-2647-417a-b831-35f3edea640d",
   "metadata": {},
   "outputs": [],
   "source": [
    "df = df.dropna(subset = [\"세정력\", \"자극도\", \"거품\", \"향\"], axis = 0, how = \"any\")"
   ]
  },
  {
   "cell_type": "code",
   "execution_count": 62,
   "id": "5102d1e2-6806-4991-be5f-d9fef31b9f95",
   "metadata": {},
   "outputs": [
    {
     "data": {
      "text/plain": [
       "4762"
      ]
     },
     "execution_count": 62,
     "metadata": {},
     "output_type": "execute_result"
    }
   ],
   "source": [
    "# 제거된 행 수\n",
    "211031 - df.shape[0]"
   ]
  },
  {
   "cell_type": "code",
   "execution_count": 63,
   "id": "e09cc389-a281-4762-a639-e567e8f594bc",
   "metadata": {},
   "outputs": [
    {
     "data": {
      "text/plain": [
       "0"
      ]
     },
     "execution_count": 63,
     "metadata": {},
     "output_type": "execute_result"
    }
   ],
   "source": [
    "# 제거된 제품 수\n",
    "523 - df[\"제품명\"].nunique()"
   ]
  },
  {
   "cell_type": "code",
   "execution_count": 73,
   "id": "3b426a92-b1c9-435e-bce9-a963b6504ce0",
   "metadata": {
    "scrolled": true
   },
   "outputs": [
    {
     "data": {
      "text/plain": [
       "제품명                 0\n",
       "브랜드                 0\n",
       "원가              68039\n",
       "판매가                 0\n",
       "리뷰수                 0\n",
       "평균별점                0\n",
       "5점비율                0\n",
       "4점비율                0\n",
       "3점비율                0\n",
       "2점비율                0\n",
       "1점비율                0\n",
       "세정력/아주만족해요          0\n",
       "세정력/보통이에요           0\n",
       "세정력/다소아쉬워요          0\n",
       "자극도/자극없이순해요         0\n",
       "자극도/보통이에요           0\n",
       "자극도/자극이느껴져요         0\n",
       "거품/거품이풍성해요          0\n",
       "거품/보통이에요            0\n",
       "거품/거품이적어요           0\n",
       "향/아주만족해요            0\n",
       "향/보통이에요             0\n",
       "향/다소아쉬워요            0\n",
       "작성자                 0\n",
       "작성일자                0\n",
       "리뷰                  0\n",
       "별점                  0\n",
       "사용현황           132343\n",
       "세정력                 0\n",
       "자극도                 0\n",
       "거품                  0\n",
       "향                   0\n",
       "dtype: int64"
      ]
     },
     "execution_count": 73,
     "metadata": {},
     "output_type": "execute_result"
    }
   ],
   "source": [
    "df.isna().sum()"
   ]
  },
  {
   "cell_type": "code",
   "execution_count": 75,
   "id": "6e60f012-9c8f-40d2-95f2-286b6e617821",
   "metadata": {},
   "outputs": [
    {
     "data": {
      "text/plain": [
       "(206269, 32)"
      ]
     },
     "execution_count": 75,
     "metadata": {},
     "output_type": "execute_result"
    }
   ],
   "source": [
    "df.shape"
   ]
  },
  {
   "cell_type": "code",
   "execution_count": 77,
   "id": "a38c0d99-5221-4a1a-b611-9236b3a0ec02",
   "metadata": {},
   "outputs": [],
   "source": [
    "####### 결측치 처리 완료 ########"
   ]
  },
  {
   "cell_type": "markdown",
   "id": "296d0865-c167-416d-af8b-0c6f948c8279",
   "metadata": {},
   "source": [
    "# 중복 데이터 전처리"
   ]
  },
  {
   "cell_type": "code",
   "execution_count": 246,
   "id": "a01c87fb-7b9d-472a-8dc6-d1d2000523b6",
   "metadata": {},
   "outputs": [
    {
     "data": {
      "text/plain": [
       "(206269, 32)"
      ]
     },
     "execution_count": 246,
     "metadata": {},
     "output_type": "execute_result"
    }
   ],
   "source": [
    "df.shape"
   ]
  },
  {
   "cell_type": "code",
   "execution_count": 248,
   "id": "ec53dcb8-c745-42c1-ae71-d71abc14e941",
   "metadata": {},
   "outputs": [
    {
     "data": {
      "text/plain": [
       "Index(['제품명', '브랜드', '원가', '판매가', '리뷰수', '평균별점', '5점비율', '4점비율', '3점비율',\n",
       "       '2점비율', '1점비율', '세정력/아주만족해요', '세정력/보통이에요', '세정력/다소아쉬워요', '자극도/자극없이순해요',\n",
       "       '자극도/보통이에요', '자극도/자극이느껴져요', '거품/거품이풍성해요', '거품/보통이에요', '거품/거품이적어요',\n",
       "       '향/아주만족해요', '향/보통이에요', '향/다소아쉬워요', '작성자', '작성일자', '리뷰', '별점', '사용현황',\n",
       "       '세정력', '자극도', '거품', '향'],\n",
       "      dtype='object')"
      ]
     },
     "execution_count": 248,
     "metadata": {},
     "output_type": "execute_result"
    }
   ],
   "source": [
    "df.columns"
   ]
  },
  {
   "cell_type": "code",
   "execution_count": 254,
   "id": "729d29a5-5610-4382-aad7-b9a567be31f9",
   "metadata": {},
   "outputs": [],
   "source": [
    "same_review_gp = df.groupby([\"작성자\", \"리뷰\", \"작성일자\"])"
   ]
  },
  {
   "cell_type": "code",
   "execution_count": 256,
   "id": "ab766cbc-bc33-447b-92b0-b6f5b373764b",
   "metadata": {},
   "outputs": [],
   "source": [
    "# 2개 이상의 브랜드에 동일 리뷰를 단 경우\n",
    "new_filt_dup2_gp = same_review_gp.filter(lambda x: x[\"브랜드\"].nunique() >= 2)"
   ]
  },
  {
   "cell_type": "code",
   "execution_count": 258,
   "id": "b64be1f0-e6cd-481f-b18f-783508bbcae8",
   "metadata": {
    "scrolled": true
   },
   "outputs": [
    {
     "data": {
      "text/html": [
       "<div>\n",
       "<style scoped>\n",
       "    .dataframe tbody tr th:only-of-type {\n",
       "        vertical-align: middle;\n",
       "    }\n",
       "\n",
       "    .dataframe tbody tr th {\n",
       "        vertical-align: top;\n",
       "    }\n",
       "\n",
       "    .dataframe thead th {\n",
       "        text-align: right;\n",
       "    }\n",
       "</style>\n",
       "<table border=\"1\" class=\"dataframe\">\n",
       "  <thead>\n",
       "    <tr style=\"text-align: right;\">\n",
       "      <th></th>\n",
       "      <th>제품명</th>\n",
       "      <th>브랜드</th>\n",
       "      <th>원가</th>\n",
       "      <th>판매가</th>\n",
       "      <th>리뷰수</th>\n",
       "      <th>평균별점</th>\n",
       "      <th>5점비율</th>\n",
       "      <th>4점비율</th>\n",
       "      <th>3점비율</th>\n",
       "      <th>2점비율</th>\n",
       "      <th>...</th>\n",
       "      <th>향/다소아쉬워요</th>\n",
       "      <th>작성자</th>\n",
       "      <th>작성일자</th>\n",
       "      <th>리뷰</th>\n",
       "      <th>별점</th>\n",
       "      <th>사용현황</th>\n",
       "      <th>세정력</th>\n",
       "      <th>자극도</th>\n",
       "      <th>거품</th>\n",
       "      <th>향</th>\n",
       "    </tr>\n",
       "  </thead>\n",
       "  <tbody>\n",
       "    <tr>\n",
       "      <th>525</th>\n",
       "      <td>라보에이치 두피쿨링&amp;노세범샴푸 탈모증상완화 750ml+100ml 한정기획 / 단품</td>\n",
       "      <td>라보에이치</td>\n",
       "      <td>36,000\\n원</td>\n",
       "      <td>25,900\\n원 ~</td>\n",
       "      <td>4,204</td>\n",
       "      <td>4.7</td>\n",
       "      <td>80%</td>\n",
       "      <td>12%</td>\n",
       "      <td>5%</td>\n",
       "      <td>1%</td>\n",
       "      <td>...</td>\n",
       "      <td>5%</td>\n",
       "      <td>lys2****</td>\n",
       "      <td>2025.05.08</td>\n",
       "      <td>항상 올영만 이용하는데  너무 좋고 저렴해요!!또 이용할거에요</td>\n",
       "      <td>5점만점에 5점</td>\n",
       "      <td>NaN</td>\n",
       "      <td>아주 만족해요</td>\n",
       "      <td>자극없이 순해요</td>\n",
       "      <td>거품이 풍성해요</td>\n",
       "      <td>아주 만족해요</td>\n",
       "    </tr>\n",
       "    <tr>\n",
       "      <th>1228</th>\n",
       "      <td>[2024 어워즈 샴푸 2위] 어노브 딥 데미지 리페어 샴푸 500g 2입</td>\n",
       "      <td>어노브</td>\n",
       "      <td>34,000\\n원</td>\n",
       "      <td>26,800\\n원</td>\n",
       "      <td>11,458</td>\n",
       "      <td>4.9</td>\n",
       "      <td>89%</td>\n",
       "      <td>8%</td>\n",
       "      <td>2%</td>\n",
       "      <td>0%</td>\n",
       "      <td>...</td>\n",
       "      <td>1%</td>\n",
       "      <td>김온기</td>\n",
       "      <td>2025.04.26</td>\n",
       "      <td>이 샴푸 정말 효과가 대단해요! 사용 후 머리카락이 실크처럼 매끈해지면서도 윤기가 물처럼 흐르네요. 특히 손상된 모발 끝까지 촉촉하게 감싸줘서 빗질이 한결 수월해져요. 향기도 고급스럽게 오래 가고, 두피에도 자극이 전혀 없어요. 매일 사용해도 질리지 않는 최고의 제품이에요</td>\n",
       "      <td>5점만점에 5점</td>\n",
       "      <td>한달이상사용</td>\n",
       "      <td>아주 만족해요</td>\n",
       "      <td>자극없이 순해요</td>\n",
       "      <td>거품이 풍성해요</td>\n",
       "      <td>아주 만족해요</td>\n",
       "    </tr>\n",
       "    <tr>\n",
       "      <th>1329</th>\n",
       "      <td>[2024 어워즈 샴푸 2위] 어노브 딥 데미지 리페어 샴푸 500g 2입</td>\n",
       "      <td>어노브</td>\n",
       "      <td>34,000\\n원</td>\n",
       "      <td>26,800\\n원</td>\n",
       "      <td>11,458</td>\n",
       "      <td>4.9</td>\n",
       "      <td>89%</td>\n",
       "      <td>8%</td>\n",
       "      <td>2%</td>\n",
       "      <td>0%</td>\n",
       "      <td>...</td>\n",
       "      <td>1%</td>\n",
       "      <td>situd</td>\n",
       "      <td>2025.05.18</td>\n",
       "      <td>제품이 너무 좋아서 친구들에게도 추천했어요. 다들 만족하더라고요.</td>\n",
       "      <td>5점만점에 5점</td>\n",
       "      <td>재구매</td>\n",
       "      <td>아주 만족해요</td>\n",
       "      <td>자극없이 순해요</td>\n",
       "      <td>거품이 풍성해요</td>\n",
       "      <td>아주 만족해요</td>\n",
       "    </tr>\n",
       "    <tr>\n",
       "      <th>1330</th>\n",
       "      <td>[2024 어워즈 샴푸 2위] 어노브 딥 데미지 리페어 샴푸 500g 2입</td>\n",
       "      <td>어노브</td>\n",
       "      <td>34,000\\n원</td>\n",
       "      <td>26,800\\n원</td>\n",
       "      <td>11,458</td>\n",
       "      <td>4.9</td>\n",
       "      <td>89%</td>\n",
       "      <td>8%</td>\n",
       "      <td>2%</td>\n",
       "      <td>0%</td>\n",
       "      <td>...</td>\n",
       "      <td>1%</td>\n",
       "      <td>situd</td>\n",
       "      <td>2025.05.18</td>\n",
       "      <td>아직 오랜 기간 동안 써본 건 아니지만 현재까진 아주 만족입니다.</td>\n",
       "      <td>5점만점에 5점</td>\n",
       "      <td>재구매</td>\n",
       "      <td>아주 만족해요</td>\n",
       "      <td>자극없이 순해요</td>\n",
       "      <td>거품이 풍성해요</td>\n",
       "      <td>아주 만족해요</td>\n",
       "    </tr>\n",
       "    <tr>\n",
       "      <th>1335</th>\n",
       "      <td>[2024 어워즈 샴푸 2위] 어노브 딥 데미지 리페어 샴푸 500g 2입</td>\n",
       "      <td>어노브</td>\n",
       "      <td>34,000\\n원</td>\n",
       "      <td>26,800\\n원</td>\n",
       "      <td>11,458</td>\n",
       "      <td>4.9</td>\n",
       "      <td>89%</td>\n",
       "      <td>8%</td>\n",
       "      <td>2%</td>\n",
       "      <td>0%</td>\n",
       "      <td>...</td>\n",
       "      <td>1%</td>\n",
       "      <td>situd</td>\n",
       "      <td>2025.05.18</td>\n",
       "      <td>원래 후기 귀찮아서 잘 안 쓰는데 이건 너무 마음에 들어서 남깁니다. 강추해요.</td>\n",
       "      <td>5점만점에 5점</td>\n",
       "      <td>재구매</td>\n",
       "      <td>아주 만족해요</td>\n",
       "      <td>자극없이 순해요</td>\n",
       "      <td>거품이 풍성해요</td>\n",
       "      <td>아주 만족해요</td>\n",
       "    </tr>\n",
       "    <tr>\n",
       "      <th>...</th>\n",
       "      <td>...</td>\n",
       "      <td>...</td>\n",
       "      <td>...</td>\n",
       "      <td>...</td>\n",
       "      <td>...</td>\n",
       "      <td>...</td>\n",
       "      <td>...</td>\n",
       "      <td>...</td>\n",
       "      <td>...</td>\n",
       "      <td>...</td>\n",
       "      <td>...</td>\n",
       "      <td>...</td>\n",
       "      <td>...</td>\n",
       "      <td>...</td>\n",
       "      <td>...</td>\n",
       "      <td>...</td>\n",
       "      <td>...</td>\n",
       "      <td>...</td>\n",
       "      <td>...</td>\n",
       "      <td>...</td>\n",
       "      <td>...</td>\n",
       "    </tr>\n",
       "    <tr>\n",
       "      <th>214924</th>\n",
       "      <td>닥터방기원 비어이스트 맥주효모 탈모샴푸 1000ml 더블기획</td>\n",
       "      <td>닥터방기원</td>\n",
       "      <td>NaN</td>\n",
       "      <td>37,800\\n원</td>\n",
       "      <td>1,299</td>\n",
       "      <td>5.0</td>\n",
       "      <td>97%</td>\n",
       "      <td>3%</td>\n",
       "      <td>0%</td>\n",
       "      <td>0%</td>\n",
       "      <td>...</td>\n",
       "      <td>12%</td>\n",
       "      <td>tlf****</td>\n",
       "      <td>2024.02.14</td>\n",
       "      <td>너무너무 대만족입니다~~ 올리브영 상품은 항상 후회안하는거 같아요다음엔 할인 더 해줬으면 좋겠습니다 ㅠㅠ 많이많이 구매할게요 감사합니다</td>\n",
       "      <td>5점만점에 5점</td>\n",
       "      <td>재구매</td>\n",
       "      <td>아주 만족해요</td>\n",
       "      <td>자극없이 순해요</td>\n",
       "      <td>거품이 풍성해요</td>\n",
       "      <td>아주 만족해요</td>\n",
       "    </tr>\n",
       "    <tr>\n",
       "      <th>214925</th>\n",
       "      <td>닥터방기원 비어이스트 맥주효모 탈모샴푸 1000ml 더블기획</td>\n",
       "      <td>닥터방기원</td>\n",
       "      <td>NaN</td>\n",
       "      <td>37,800\\n원</td>\n",
       "      <td>1,299</td>\n",
       "      <td>5.0</td>\n",
       "      <td>97%</td>\n",
       "      <td>3%</td>\n",
       "      <td>0%</td>\n",
       "      <td>0%</td>\n",
       "      <td>...</td>\n",
       "      <td>12%</td>\n",
       "      <td>tlf****</td>\n",
       "      <td>2024.02.14</td>\n",
       "      <td>너무너무 대만족입니다~~ 올리브영 상품은 항상 후회안하는거 같아요다음엔 할인 더 해줬으면 좋겠습니다 ㅠㅠ 많이많이 구매할게요 감사합니다</td>\n",
       "      <td>5점만점에 5점</td>\n",
       "      <td>재구매</td>\n",
       "      <td>아주 만족해요</td>\n",
       "      <td>자극없이 순해요</td>\n",
       "      <td>거품이 풍성해요</td>\n",
       "      <td>아주 만족해요</td>\n",
       "    </tr>\n",
       "    <tr>\n",
       "      <th>214926</th>\n",
       "      <td>닥터방기원 비어이스트 맥주효모 탈모샴푸 1000ml 더블기획</td>\n",
       "      <td>닥터방기원</td>\n",
       "      <td>NaN</td>\n",
       "      <td>37,800\\n원</td>\n",
       "      <td>1,299</td>\n",
       "      <td>5.0</td>\n",
       "      <td>97%</td>\n",
       "      <td>3%</td>\n",
       "      <td>0%</td>\n",
       "      <td>0%</td>\n",
       "      <td>...</td>\n",
       "      <td>12%</td>\n",
       "      <td>tlf****</td>\n",
       "      <td>2024.02.14</td>\n",
       "      <td>너무너무 대만족입니다~~ 올리브영 상품은 항상 후회안하는거 같아요다음엔 할인 더 해줬으면 좋겠습니다 ㅠㅠ 많이많이 구매할게요 감사합니다</td>\n",
       "      <td>5점만점에 5점</td>\n",
       "      <td>NaN</td>\n",
       "      <td>아주 만족해요</td>\n",
       "      <td>자극없이 순해요</td>\n",
       "      <td>거품이 풍성해요</td>\n",
       "      <td>아주 만족해요</td>\n",
       "    </tr>\n",
       "    <tr>\n",
       "      <th>214948</th>\n",
       "      <td>닥터방기원 비어이스트 맥주효모 탈모샴푸 1000ml 더블기획</td>\n",
       "      <td>닥터방기원</td>\n",
       "      <td>NaN</td>\n",
       "      <td>37,800\\n원</td>\n",
       "      <td>1,299</td>\n",
       "      <td>5.0</td>\n",
       "      <td>97%</td>\n",
       "      <td>3%</td>\n",
       "      <td>0%</td>\n",
       "      <td>0%</td>\n",
       "      <td>...</td>\n",
       "      <td>12%</td>\n",
       "      <td>sk****</td>\n",
       "      <td>2023.09.05</td>\n",
       "      <td>한달사용리뷰입니다!사용해본 결과 만족스럽습니다!재구매 의사가 있습니다!!좋은 제품이라고 생각이 듭니다^^</td>\n",
       "      <td>5점만점에 5점</td>\n",
       "      <td>한달이상사용</td>\n",
       "      <td>아주 만족해요</td>\n",
       "      <td>자극없이 순해요</td>\n",
       "      <td>거품이 풍성해요</td>\n",
       "      <td>아주 만족해요</td>\n",
       "    </tr>\n",
       "    <tr>\n",
       "      <th>214954</th>\n",
       "      <td>닥터방기원 비어이스트 맥주효모 탈모샴푸 1000ml 더블기획</td>\n",
       "      <td>닥터방기원</td>\n",
       "      <td>NaN</td>\n",
       "      <td>37,800\\n원</td>\n",
       "      <td>1,299</td>\n",
       "      <td>5.0</td>\n",
       "      <td>97%</td>\n",
       "      <td>3%</td>\n",
       "      <td>0%</td>\n",
       "      <td>0%</td>\n",
       "      <td>...</td>\n",
       "      <td>12%</td>\n",
       "      <td>sk****</td>\n",
       "      <td>2023.07.27</td>\n",
       "      <td>배송상태가 좋고 사용하기에 편리합니다. 재구매의사 있습니다</td>\n",
       "      <td>5점만점에 5점</td>\n",
       "      <td>NaN</td>\n",
       "      <td>아주 만족해요</td>\n",
       "      <td>자극없이 순해요</td>\n",
       "      <td>거품이 풍성해요</td>\n",
       "      <td>아주 만족해요</td>\n",
       "    </tr>\n",
       "  </tbody>\n",
       "</table>\n",
       "<p>1305 rows × 32 columns</p>\n",
       "</div>"
      ],
      "text/plain": [
       "                                                  제품명    브랜드         원가  \\\n",
       "525     라보에이치 두피쿨링&노세범샴푸 탈모증상완화 750ml+100ml 한정기획 / 단품  라보에이치  36,000\\n원   \n",
       "1228        [2024 어워즈 샴푸 2위] 어노브 딥 데미지 리페어 샴푸 500g 2입    어노브  34,000\\n원   \n",
       "1329        [2024 어워즈 샴푸 2위] 어노브 딥 데미지 리페어 샴푸 500g 2입    어노브  34,000\\n원   \n",
       "1330        [2024 어워즈 샴푸 2위] 어노브 딥 데미지 리페어 샴푸 500g 2입    어노브  34,000\\n원   \n",
       "1335        [2024 어워즈 샴푸 2위] 어노브 딥 데미지 리페어 샴푸 500g 2입    어노브  34,000\\n원   \n",
       "...                                               ...    ...        ...   \n",
       "214924              닥터방기원 비어이스트 맥주효모 탈모샴푸 1000ml 더블기획  닥터방기원        NaN   \n",
       "214925              닥터방기원 비어이스트 맥주효모 탈모샴푸 1000ml 더블기획  닥터방기원        NaN   \n",
       "214926              닥터방기원 비어이스트 맥주효모 탈모샴푸 1000ml 더블기획  닥터방기원        NaN   \n",
       "214948              닥터방기원 비어이스트 맥주효모 탈모샴푸 1000ml 더블기획  닥터방기원        NaN   \n",
       "214954              닥터방기원 비어이스트 맥주효모 탈모샴푸 1000ml 더블기획  닥터방기원        NaN   \n",
       "\n",
       "                판매가     리뷰수 평균별점 5점비율 4점비율 3점비율 2점비율  ... 향/다소아쉬워요       작성자  \\\n",
       "525     25,900\\n원 ~   4,204  4.7  80%  12%   5%   1%  ...       5%  lys2****   \n",
       "1228      26,800\\n원  11,458  4.9  89%   8%   2%   0%  ...       1%       김온기   \n",
       "1329      26,800\\n원  11,458  4.9  89%   8%   2%   0%  ...       1%     situd   \n",
       "1330      26,800\\n원  11,458  4.9  89%   8%   2%   0%  ...       1%     situd   \n",
       "1335      26,800\\n원  11,458  4.9  89%   8%   2%   0%  ...       1%     situd   \n",
       "...             ...     ...  ...  ...  ...  ...  ...  ...      ...       ...   \n",
       "214924    37,800\\n원   1,299  5.0  97%   3%   0%   0%  ...      12%   tlf****   \n",
       "214925    37,800\\n원   1,299  5.0  97%   3%   0%   0%  ...      12%   tlf****   \n",
       "214926    37,800\\n원   1,299  5.0  97%   3%   0%   0%  ...      12%   tlf****   \n",
       "214948    37,800\\n원   1,299  5.0  97%   3%   0%   0%  ...      12%    sk****   \n",
       "214954    37,800\\n원   1,299  5.0  97%   3%   0%   0%  ...      12%    sk****   \n",
       "\n",
       "              작성일자  \\\n",
       "525     2025.05.08   \n",
       "1228    2025.04.26   \n",
       "1329    2025.05.18   \n",
       "1330    2025.05.18   \n",
       "1335    2025.05.18   \n",
       "...            ...   \n",
       "214924  2024.02.14   \n",
       "214925  2024.02.14   \n",
       "214926  2024.02.14   \n",
       "214948  2023.09.05   \n",
       "214954  2023.07.27   \n",
       "\n",
       "                                                                                                                                                              리뷰  \\\n",
       "525                                                                                                                           항상 올영만 이용하는데  너무 좋고 저렴해요!!또 이용할거에요   \n",
       "1228    이 샴푸 정말 효과가 대단해요! 사용 후 머리카락이 실크처럼 매끈해지면서도 윤기가 물처럼 흐르네요. 특히 손상된 모발 끝까지 촉촉하게 감싸줘서 빗질이 한결 수월해져요. 향기도 고급스럽게 오래 가고, 두피에도 자극이 전혀 없어요. 매일 사용해도 질리지 않는 최고의 제품이에요   \n",
       "1329                                                                                                                        제품이 너무 좋아서 친구들에게도 추천했어요. 다들 만족하더라고요.   \n",
       "1330                                                                                                                        아직 오랜 기간 동안 써본 건 아니지만 현재까진 아주 만족입니다.   \n",
       "1335                                                                                                                원래 후기 귀찮아서 잘 안 쓰는데 이건 너무 마음에 들어서 남깁니다. 강추해요.   \n",
       "...                                                                                                                                                          ...   \n",
       "214924                                                                               너무너무 대만족입니다~~ 올리브영 상품은 항상 후회안하는거 같아요다음엔 할인 더 해줬으면 좋겠습니다 ㅠㅠ 많이많이 구매할게요 감사합니다   \n",
       "214925                                                                               너무너무 대만족입니다~~ 올리브영 상품은 항상 후회안하는거 같아요다음엔 할인 더 해줬으면 좋겠습니다 ㅠㅠ 많이많이 구매할게요 감사합니다   \n",
       "214926                                                                               너무너무 대만족입니다~~ 올리브영 상품은 항상 후회안하는거 같아요다음엔 할인 더 해줬으면 좋겠습니다 ㅠㅠ 많이많이 구매할게요 감사합니다   \n",
       "214948                                                                                                한달사용리뷰입니다!사용해본 결과 만족스럽습니다!재구매 의사가 있습니다!!좋은 제품이라고 생각이 듭니다^^   \n",
       "214954                                                                                                                          배송상태가 좋고 사용하기에 편리합니다. 재구매의사 있습니다   \n",
       "\n",
       "              별점    사용현황      세정력       자극도        거품        향  \n",
       "525     5점만점에 5점     NaN  아주 만족해요  자극없이 순해요  거품이 풍성해요  아주 만족해요  \n",
       "1228    5점만점에 5점  한달이상사용  아주 만족해요  자극없이 순해요  거품이 풍성해요  아주 만족해요  \n",
       "1329    5점만점에 5점     재구매  아주 만족해요  자극없이 순해요  거품이 풍성해요  아주 만족해요  \n",
       "1330    5점만점에 5점     재구매  아주 만족해요  자극없이 순해요  거품이 풍성해요  아주 만족해요  \n",
       "1335    5점만점에 5점     재구매  아주 만족해요  자극없이 순해요  거품이 풍성해요  아주 만족해요  \n",
       "...          ...     ...      ...       ...       ...      ...  \n",
       "214924  5점만점에 5점     재구매  아주 만족해요  자극없이 순해요  거품이 풍성해요  아주 만족해요  \n",
       "214925  5점만점에 5점     재구매  아주 만족해요  자극없이 순해요  거품이 풍성해요  아주 만족해요  \n",
       "214926  5점만점에 5점     NaN  아주 만족해요  자극없이 순해요  거품이 풍성해요  아주 만족해요  \n",
       "214948  5점만점에 5점  한달이상사용  아주 만족해요  자극없이 순해요  거품이 풍성해요  아주 만족해요  \n",
       "214954  5점만점에 5점     NaN  아주 만족해요  자극없이 순해요  거품이 풍성해요  아주 만족해요  \n",
       "\n",
       "[1305 rows x 32 columns]"
      ]
     },
     "execution_count": 258,
     "metadata": {},
     "output_type": "execute_result"
    }
   ],
   "source": [
    "new_filt_dup2_gp"
   ]
  },
  {
   "cell_type": "code",
   "execution_count": 260,
   "id": "04338901-7db9-435a-8337-2d58bd90862c",
   "metadata": {},
   "outputs": [
    {
     "data": {
      "text/plain": [
       "(1305, 32)"
      ]
     },
     "execution_count": 260,
     "metadata": {},
     "output_type": "execute_result"
    }
   ],
   "source": [
    "new_filt_dup2_gp.shape"
   ]
  },
  {
   "cell_type": "code",
   "execution_count": 276,
   "id": "07399047-38ca-447d-9420-c709add09e16",
   "metadata": {
    "scrolled": true
   },
   "outputs": [],
   "source": [
    "df = df.drop(new_filt_dup2_gp.index, axis = 0)"
   ]
  },
  {
   "cell_type": "code",
   "execution_count": 278,
   "id": "4a809020-7539-42dc-96c0-282d48f40c1b",
   "metadata": {},
   "outputs": [
    {
     "data": {
      "text/plain": [
       "1305"
      ]
     },
     "execution_count": 278,
     "metadata": {},
     "output_type": "execute_result"
    }
   ],
   "source": [
    "206269 - df.shape[0]"
   ]
  },
  {
   "cell_type": "code",
   "execution_count": 280,
   "id": "214e6361-709b-4db7-893c-b3e7040119d1",
   "metadata": {},
   "outputs": [
    {
     "data": {
      "text/html": [
       "<div>\n",
       "<style scoped>\n",
       "    .dataframe tbody tr th:only-of-type {\n",
       "        vertical-align: middle;\n",
       "    }\n",
       "\n",
       "    .dataframe tbody tr th {\n",
       "        vertical-align: top;\n",
       "    }\n",
       "\n",
       "    .dataframe thead th {\n",
       "        text-align: right;\n",
       "    }\n",
       "</style>\n",
       "<table border=\"1\" class=\"dataframe\">\n",
       "  <thead>\n",
       "    <tr style=\"text-align: right;\">\n",
       "      <th></th>\n",
       "      <th>제품명</th>\n",
       "      <th>브랜드</th>\n",
       "      <th>원가</th>\n",
       "      <th>판매가</th>\n",
       "      <th>리뷰수</th>\n",
       "      <th>평균별점</th>\n",
       "      <th>5점비율</th>\n",
       "      <th>4점비율</th>\n",
       "      <th>3점비율</th>\n",
       "      <th>2점비율</th>\n",
       "      <th>...</th>\n",
       "      <th>향/다소아쉬워요</th>\n",
       "      <th>작성자</th>\n",
       "      <th>작성일자</th>\n",
       "      <th>리뷰</th>\n",
       "      <th>별점</th>\n",
       "      <th>사용현황</th>\n",
       "      <th>세정력</th>\n",
       "      <th>자극도</th>\n",
       "      <th>거품</th>\n",
       "      <th>향</th>\n",
       "    </tr>\n",
       "  </thead>\n",
       "  <tbody>\n",
       "  </tbody>\n",
       "</table>\n",
       "<p>0 rows × 32 columns</p>\n",
       "</div>"
      ],
      "text/plain": [
       "Empty DataFrame\n",
       "Columns: [제품명, 브랜드, 원가, 판매가, 리뷰수, 평균별점, 5점비율, 4점비율, 3점비율, 2점비율, 1점비율, 세정력/아주만족해요, 세정력/보통이에요, 세정력/다소아쉬워요, 자극도/자극없이순해요, 자극도/보통이에요, 자극도/자극이느껴져요, 거품/거품이풍성해요, 거품/보통이에요, 거품/거품이적어요, 향/아주만족해요, 향/보통이에요, 향/다소아쉬워요, 작성자, 작성일자, 리뷰, 별점, 사용현황, 세정력, 자극도, 거품, 향]\n",
       "Index: []\n",
       "\n",
       "[0 rows x 32 columns]"
      ]
     },
     "execution_count": 280,
     "metadata": {},
     "output_type": "execute_result"
    }
   ],
   "source": [
    "df.groupby([\"작성자\", \"리뷰\", \"작성일자\"]).filter(lambda x: x[\"브랜드\"].nunique() >= 2)"
   ]
  },
  {
   "cell_type": "code",
   "execution_count": 282,
   "id": "d29edf14-1302-4d34-aca0-a205c48acfe5",
   "metadata": {},
   "outputs": [
    {
     "data": {
      "text/plain": [
       "(204964, 32)"
      ]
     },
     "execution_count": 282,
     "metadata": {},
     "output_type": "execute_result"
    }
   ],
   "source": [
    "df.shape"
   ]
  },
  {
   "cell_type": "code",
   "execution_count": 284,
   "id": "b237b4f1-6816-456e-bf09-5e0fc9468044",
   "metadata": {},
   "outputs": [],
   "source": [
    "df.to_csv(\"./data/shampoo/oliveyoung_cleaned1\")"
   ]
  },
  {
   "cell_type": "code",
   "execution_count": null,
   "id": "5cfea23a-add1-4bc8-bdf4-de22e7aa7812",
   "metadata": {},
   "outputs": [],
   "source": []
  }
 ],
 "metadata": {
  "kernelspec": {
   "display_name": "Python 3 (ipykernel)",
   "language": "python",
   "name": "python3"
  },
  "language_info": {
   "codemirror_mode": {
    "name": "ipython",
    "version": 3
   },
   "file_extension": ".py",
   "mimetype": "text/x-python",
   "name": "python",
   "nbconvert_exporter": "python",
   "pygments_lexer": "ipython3",
   "version": "3.12.7"
  }
 },
 "nbformat": 4,
 "nbformat_minor": 5
}
