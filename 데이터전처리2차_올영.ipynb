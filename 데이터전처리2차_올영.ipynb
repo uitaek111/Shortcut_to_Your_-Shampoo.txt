{
 "cells": [
  {
   "cell_type": "code",
   "execution_count": 5,
   "id": "5109a657-59ec-4397-a281-8445c1604171",
   "metadata": {},
   "outputs": [],
   "source": [
    "import pandas as pd\n",
    "import numpy as np\n",
    "import matplotlib.pyplot as plt\n",
    "import seaborn as sns\n",
    "from pykospacing import Spacing\n",
    "from kiwipiepy import Kiwi\n",
    "import re\n",
    "from collections import Counter\n",
    "import csv\n",
    "import json"
   ]
  },
  {
   "cell_type": "code",
   "execution_count": 2,
   "id": "0d32f7cb-bd8c-4fde-861e-26b518eba1cc",
   "metadata": {},
   "outputs": [],
   "source": [
    "pd.set_option('display.max_colwidth', None)"
   ]
  },
  {
   "cell_type": "code",
   "execution_count": 3,
   "id": "f480c788-af32-4789-941d-26f8d3a71a16",
   "metadata": {},
   "outputs": [],
   "source": [
    "df = pd.read_csv(\"./data/shampoo/oliveyoung_cleaned1.csv\")"
   ]
  },
  {
   "cell_type": "markdown",
   "id": "8d382045-2fb7-4b14-9331-d090aa5d555d",
   "metadata": {},
   "source": [
    "# 드라이샴푸, 스케일러 제외"
   ]
  },
  {
   "cell_type": "code",
   "execution_count": 4,
   "id": "6a102dc5-1301-4d9c-8443-11698e6cbf68",
   "metadata": {},
   "outputs": [],
   "source": [
    "# 드라이샴푸 제품명\n",
    "dry = []\n",
    "for item in df[\"제품명\"].unique():\n",
    "    if \"드라이\" in item:\n",
    "        dry.append(item)"
   ]
  },
  {
   "cell_type": "code",
   "execution_count": 5,
   "id": "4b18826f-9c4d-45be-8fb7-8e1fb02a45bb",
   "metadata": {},
   "outputs": [],
   "source": [
    "# 스케일러 제품명\n",
    "scaler = []\n",
    "for item in df[\"제품명\"].unique():\n",
    "    if \"스케일러\" in item:\n",
    "        scaler.append(item)"
   ]
  },
  {
   "cell_type": "code",
   "execution_count": 6,
   "id": "b7830b15-d92e-4ea8-acc4-392280769141",
   "metadata": {},
   "outputs": [],
   "source": [
    "# 드라이샴푸와 스케일러 제거\n",
    "newdf = df[(~df[\"제품명\"].isin(dry)) & (~df[\"제품명\"].isin(scaler))]"
   ]
  },
  {
   "cell_type": "code",
   "execution_count": 8,
   "id": "5bfbd529-786b-4090-ae77-ddd48f33a829",
   "metadata": {},
   "outputs": [
    {
     "data": {
      "text/plain": [
       "475"
      ]
     },
     "execution_count": 8,
     "metadata": {},
     "output_type": "execute_result"
    }
   ],
   "source": [
    "# 남은 제품 수\n",
    "newdf[\"제품명\"].nunique()"
   ]
  },
  {
   "cell_type": "markdown",
   "id": "0f0e5e74-bc41-4347-a70f-3c65d4e4df92",
   "metadata": {},
   "source": [
    "# 한국어가 한 글자도 안 들어간 리뷰 제거"
   ]
  },
  {
   "cell_type": "code",
   "execution_count": 23,
   "id": "4b7e5137-bd53-48cf-a004-23565dba3764",
   "metadata": {},
   "outputs": [
    {
     "name": "stderr",
     "output_type": "stream",
     "text": [
      "C:\\Users\\Woojung\\AppData\\Local\\Temp\\ipykernel_23452\\3626596301.py:1: DtypeWarning: Columns (2) have mixed types. Specify dtype option on import or set low_memory=False.\n",
      "  df = pd.read_csv(\"./data/shampoo/oliveyoung_labeling.csv\")\n"
     ]
    }
   ],
   "source": [
    "df = pd.read_csv(\"./data/shampoo/oliveyoung_labeling.csv\")"
   ]
  },
  {
   "cell_type": "code",
   "execution_count": 4,
   "id": "fcfcec54-5c46-4b4f-b2f7-1c5b93f15f7c",
   "metadata": {
    "scrolled": true
   },
   "outputs": [
    {
     "data": {
      "text/html": [
       "<div>\n",
       "<style scoped>\n",
       "    .dataframe tbody tr th:only-of-type {\n",
       "        vertical-align: middle;\n",
       "    }\n",
       "\n",
       "    .dataframe tbody tr th {\n",
       "        vertical-align: top;\n",
       "    }\n",
       "\n",
       "    .dataframe thead th {\n",
       "        text-align: right;\n",
       "    }\n",
       "</style>\n",
       "<table border=\"1\" class=\"dataframe\">\n",
       "  <thead>\n",
       "    <tr style=\"text-align: right;\">\n",
       "      <th></th>\n",
       "      <th>제품명</th>\n",
       "      <th>브랜드</th>\n",
       "      <th>원가</th>\n",
       "      <th>판매가</th>\n",
       "      <th>리뷰수</th>\n",
       "      <th>평균별점</th>\n",
       "      <th>5점비율</th>\n",
       "      <th>4점비율</th>\n",
       "      <th>3점비율</th>\n",
       "      <th>2점비율</th>\n",
       "      <th>...</th>\n",
       "      <th>향/다소아쉬워요</th>\n",
       "      <th>작성자</th>\n",
       "      <th>작성일자</th>\n",
       "      <th>리뷰</th>\n",
       "      <th>별점</th>\n",
       "      <th>사용현황</th>\n",
       "      <th>세정력</th>\n",
       "      <th>자극도</th>\n",
       "      <th>거품</th>\n",
       "      <th>향</th>\n",
       "    </tr>\n",
       "  </thead>\n",
       "  <tbody>\n",
       "    <tr>\n",
       "      <th>0</th>\n",
       "      <td>모다모다 제로그레이 블랙샴푸10 더블기획 (300g+300g)</td>\n",
       "      <td>모다모다</td>\n",
       "      <td>78,000\\n원</td>\n",
       "      <td>48,280\\n원</td>\n",
       "      <td>145</td>\n",
       "      <td>4.6</td>\n",
       "      <td>78%</td>\n",
       "      <td>13%</td>\n",
       "      <td>6%</td>\n",
       "      <td>1%</td>\n",
       "      <td>...</td>\n",
       "      <td>4%</td>\n",
       "      <td>용자입니다</td>\n",
       "      <td>2025.05.19</td>\n",
       "      <td>일주일째 쓰는중인데 좋은거 같기도하고 아닌것 같기도 하고 한달뒤 후기로..ㄹ</td>\n",
       "      <td>5점만점에 5점</td>\n",
       "      <td>NaN</td>\n",
       "      <td>아주 만족해요</td>\n",
       "      <td>자극없이 순해요</td>\n",
       "      <td>거품이 풍성해요</td>\n",
       "      <td>아주 만족해요</td>\n",
       "    </tr>\n",
       "    <tr>\n",
       "      <th>1</th>\n",
       "      <td>모다모다 제로그레이 블랙샴푸10 더블기획 (300g+300g)</td>\n",
       "      <td>모다모다</td>\n",
       "      <td>78,000\\n원</td>\n",
       "      <td>48,280\\n원</td>\n",
       "      <td>145</td>\n",
       "      <td>4.6</td>\n",
       "      <td>78%</td>\n",
       "      <td>13%</td>\n",
       "      <td>6%</td>\n",
       "      <td>1%</td>\n",
       "      <td>...</td>\n",
       "      <td>4%</td>\n",
       "      <td>레몽몽</td>\n",
       "      <td>2025.04.28</td>\n",
       "      <td>거품이나 향은 무난한데 새치커버력이 홍보대비 좀 아쉽네요</td>\n",
       "      <td>5점만점에 4점</td>\n",
       "      <td>NaN</td>\n",
       "      <td>보통이에요</td>\n",
       "      <td>자극없이 순해요</td>\n",
       "      <td>거품이 풍성해요</td>\n",
       "      <td>아주 만족해요</td>\n",
       "    </tr>\n",
       "    <tr>\n",
       "      <th>2</th>\n",
       "      <td>모다모다 제로그레이 블랙샴푸10 더블기획 (300g+300g)</td>\n",
       "      <td>모다모다</td>\n",
       "      <td>78,000\\n원</td>\n",
       "      <td>48,280\\n원</td>\n",
       "      <td>145</td>\n",
       "      <td>4.6</td>\n",
       "      <td>78%</td>\n",
       "      <td>13%</td>\n",
       "      <td>6%</td>\n",
       "      <td>1%</td>\n",
       "      <td>...</td>\n",
       "      <td>4%</td>\n",
       "      <td>k202401158****</td>\n",
       "      <td>2025.05.16</td>\n",
       "      <td>얼마전에 구매했는데 쿠폰이 있어서 또 구매했어요 미리 쟁여 둘려구요</td>\n",
       "      <td>5점만점에 5점</td>\n",
       "      <td>재구매</td>\n",
       "      <td>아주 만족해요</td>\n",
       "      <td>자극없이 순해요</td>\n",
       "      <td>거품이 풍성해요</td>\n",
       "      <td>아주 만족해요</td>\n",
       "    </tr>\n",
       "    <tr>\n",
       "      <th>3</th>\n",
       "      <td>모다모다 제로그레이 블랙샴푸10 더블기획 (300g+300g)</td>\n",
       "      <td>모다모다</td>\n",
       "      <td>78,000\\n원</td>\n",
       "      <td>48,280\\n원</td>\n",
       "      <td>145</td>\n",
       "      <td>4.6</td>\n",
       "      <td>78%</td>\n",
       "      <td>13%</td>\n",
       "      <td>6%</td>\n",
       "      <td>1%</td>\n",
       "      <td>...</td>\n",
       "      <td>4%</td>\n",
       "      <td>k202401158****</td>\n",
       "      <td>2025.05.10</td>\n",
       "      <td>염색 하지 않고 몇년째 계속 사용하고 있어요남편 덕분에 알게 되어서 지금까지 같이 쓰고 있어요~</td>\n",
       "      <td>5점만점에 5점</td>\n",
       "      <td>NaN</td>\n",
       "      <td>아주 만족해요</td>\n",
       "      <td>자극없이 순해요</td>\n",
       "      <td>거품이 풍성해요</td>\n",
       "      <td>아주 만족해요</td>\n",
       "    </tr>\n",
       "    <tr>\n",
       "      <th>4</th>\n",
       "      <td>모다모다 제로그레이 블랙샴푸10 더블기획 (300g+300g)</td>\n",
       "      <td>모다모다</td>\n",
       "      <td>78,000\\n원</td>\n",
       "      <td>48,280\\n원</td>\n",
       "      <td>145</td>\n",
       "      <td>4.6</td>\n",
       "      <td>78%</td>\n",
       "      <td>13%</td>\n",
       "      <td>6%</td>\n",
       "      <td>1%</td>\n",
       "      <td>...</td>\n",
       "      <td>4%</td>\n",
       "      <td>sweetvio****</td>\n",
       "      <td>2025.05.06</td>\n",
       "      <td>남편40대되고 흰머리가많아 이걸사줬는데그레이정도는되는것같아요</td>\n",
       "      <td>5점만점에 5점</td>\n",
       "      <td>한달이상사용</td>\n",
       "      <td>보통이에요</td>\n",
       "      <td>보통이에요</td>\n",
       "      <td>보통이에요</td>\n",
       "      <td>보통이에요</td>\n",
       "    </tr>\n",
       "  </tbody>\n",
       "</table>\n",
       "<p>5 rows × 32 columns</p>\n",
       "</div>"
      ],
      "text/plain": [
       "                                  제품명   브랜드         원가        판매가  리뷰수  평균별점  \\\n",
       "0  모다모다 제로그레이 블랙샴푸10 더블기획 (300g+300g)  모다모다  78,000\\n원  48,280\\n원  145   4.6   \n",
       "1  모다모다 제로그레이 블랙샴푸10 더블기획 (300g+300g)  모다모다  78,000\\n원  48,280\\n원  145   4.6   \n",
       "2  모다모다 제로그레이 블랙샴푸10 더블기획 (300g+300g)  모다모다  78,000\\n원  48,280\\n원  145   4.6   \n",
       "3  모다모다 제로그레이 블랙샴푸10 더블기획 (300g+300g)  모다모다  78,000\\n원  48,280\\n원  145   4.6   \n",
       "4  모다모다 제로그레이 블랙샴푸10 더블기획 (300g+300g)  모다모다  78,000\\n원  48,280\\n원  145   4.6   \n",
       "\n",
       "  5점비율 4점비율 3점비율 2점비율  ... 향/다소아쉬워요             작성자        작성일자  \\\n",
       "0  78%  13%   6%   1%  ...       4%           용자입니다  2025.05.19   \n",
       "1  78%  13%   6%   1%  ...       4%             레몽몽  2025.04.28   \n",
       "2  78%  13%   6%   1%  ...       4%  k202401158****  2025.05.16   \n",
       "3  78%  13%   6%   1%  ...       4%  k202401158****  2025.05.10   \n",
       "4  78%  13%   6%   1%  ...       4%    sweetvio****  2025.05.06   \n",
       "\n",
       "                                                      리뷰        별점    사용현황  \\\n",
       "0             일주일째 쓰는중인데 좋은거 같기도하고 아닌것 같기도 하고 한달뒤 후기로..ㄹ  5점만점에 5점     NaN   \n",
       "1                        거품이나 향은 무난한데 새치커버력이 홍보대비 좀 아쉽네요  5점만점에 4점     NaN   \n",
       "2                  얼마전에 구매했는데 쿠폰이 있어서 또 구매했어요 미리 쟁여 둘려구요  5점만점에 5점     재구매   \n",
       "3  염색 하지 않고 몇년째 계속 사용하고 있어요남편 덕분에 알게 되어서 지금까지 같이 쓰고 있어요~  5점만점에 5점     NaN   \n",
       "4                      남편40대되고 흰머리가많아 이걸사줬는데그레이정도는되는것같아요  5점만점에 5점  한달이상사용   \n",
       "\n",
       "       세정력       자극도        거품        향  \n",
       "0  아주 만족해요  자극없이 순해요  거품이 풍성해요  아주 만족해요  \n",
       "1    보통이에요  자극없이 순해요  거품이 풍성해요  아주 만족해요  \n",
       "2  아주 만족해요  자극없이 순해요  거품이 풍성해요  아주 만족해요  \n",
       "3  아주 만족해요  자극없이 순해요  거품이 풍성해요  아주 만족해요  \n",
       "4    보통이에요     보통이에요     보통이에요    보통이에요  \n",
       "\n",
       "[5 rows x 32 columns]"
      ]
     },
     "execution_count": 4,
     "metadata": {},
     "output_type": "execute_result"
    }
   ],
   "source": [
    "df.head()"
   ]
  },
  {
   "cell_type": "code",
   "execution_count": 5,
   "id": "f6ac5962-431e-4ff8-916d-f76a649b5f03",
   "metadata": {},
   "outputs": [
    {
     "data": {
      "text/plain": [
       "(182233, 32)"
      ]
     },
     "execution_count": 5,
     "metadata": {},
     "output_type": "execute_result"
    }
   ],
   "source": [
    "df.shape"
   ]
  },
  {
   "cell_type": "code",
   "execution_count": 6,
   "id": "a6c30172-fbfd-4362-9cad-123b2a7b07e7",
   "metadata": {
    "scrolled": true
   },
   "outputs": [
    {
     "name": "stdout",
     "output_type": "stream",
     "text": [
      "<class 'pandas.core.frame.DataFrame'>\n",
      "RangeIndex: 182233 entries, 0 to 182232\n",
      "Data columns (total 32 columns):\n",
      " #   Column       Non-Null Count   Dtype  \n",
      "---  ------       --------------   -----  \n",
      " 0   제품명          182233 non-null  object \n",
      " 1   브랜드          182233 non-null  object \n",
      " 2   원가           121684 non-null  object \n",
      " 3   판매가          182233 non-null  object \n",
      " 4   리뷰수          182233 non-null  object \n",
      " 5   평균별점         182233 non-null  float64\n",
      " 6   5점비율         182233 non-null  object \n",
      " 7   4점비율         182233 non-null  object \n",
      " 8   3점비율         182233 non-null  object \n",
      " 9   2점비율         182233 non-null  object \n",
      " 10  1점비율         182233 non-null  object \n",
      " 11  세정력/아주만족해요   182233 non-null  object \n",
      " 12  세정력/보통이에요    182233 non-null  object \n",
      " 13  세정력/다소아쉬워요   182233 non-null  object \n",
      " 14  자극도/자극없이순해요  182233 non-null  object \n",
      " 15  자극도/보통이에요    182233 non-null  object \n",
      " 16  자극도/자극이느껴져요  182233 non-null  object \n",
      " 17  거품/거품이풍성해요   182233 non-null  object \n",
      " 18  거품/보통이에요     182233 non-null  object \n",
      " 19  거품/거품이적어요    182233 non-null  object \n",
      " 20  향/아주만족해요     182233 non-null  object \n",
      " 21  향/보통이에요      182233 non-null  object \n",
      " 22  향/다소아쉬워요     182233 non-null  object \n",
      " 23  작성자          182233 non-null  object \n",
      " 24  작성일자         182233 non-null  object \n",
      " 25  리뷰           182233 non-null  object \n",
      " 26  별점           182233 non-null  object \n",
      " 27  사용현황         64894 non-null   object \n",
      " 28  세정력          182233 non-null  object \n",
      " 29  자극도          182233 non-null  object \n",
      " 30  거품           182233 non-null  object \n",
      " 31  향            182233 non-null  object \n",
      "dtypes: float64(1), object(31)\n",
      "memory usage: 44.5+ MB\n"
     ]
    }
   ],
   "source": [
    "df.info()"
   ]
  },
  {
   "cell_type": "code",
   "execution_count": 24,
   "id": "02f8fb89-da9f-46ea-81cf-cc61241f1b3b",
   "metadata": {},
   "outputs": [],
   "source": [
    "# 한글이 한 글자도 없는 리뷰 제거\n",
    "def no_korean(text):    \n",
    "    pattern = rf\"[^가-힣]\"\n",
    "    text = re.sub(pattern, ' ', text)\n",
    "\n",
    "    return text.strip()"
   ]
  },
  {
   "cell_type": "code",
   "execution_count": 25,
   "id": "3a67ef45-b81d-4467-8fdb-b36816441d84",
   "metadata": {},
   "outputs": [
    {
     "data": {
      "text/plain": [
       "325"
      ]
     },
     "execution_count": 25,
     "metadata": {},
     "output_type": "execute_result"
    }
   ],
   "source": [
    "# 한글이 한 글자도 없는 리뷰 수\n",
    "df[\"리뷰\"].map(no_korean).map(lambda x: len(x)).value_counts()[0]"
   ]
  },
  {
   "cell_type": "code",
   "execution_count": 26,
   "id": "3bee144c-cf41-4d02-ade3-10cc49334f7f",
   "metadata": {},
   "outputs": [
    {
     "data": {
      "text/plain": [
       "447                                                                                                                                                                                                                                                                                                                                                                                                                                                     The shampoo makes my hair dryvand tangled after wash.\n",
       "448                                                                                                                                                                                                                                                                                                                                                                                                                                                                It cleanses my hair well. Lots of bubbles.\n",
       "846                                                                                                                                                                                                                                                                                                                                                                                                                                      添加彩色小颗粒，能增加和发丝间的摩擦，提高清洁力，可把油腻头发洗得很干净，让头皮清爽，发根立起，呈现蓬松感，大油头使用后能两三天不洗头。\n",
       "1197                                                                                                                                                                                                                                                                                                                               i ended up buying the shampoo after OY gave me a sample to try. the shampoo lathered up very nicely and the smell was also great. I like using it with the unove treatment\n",
       "1305      I've tried so many beauty products over the years, but this entire line truly stands out. From skincare to makeup, every item delivers on its promise — nourishing, long-lasting, and perfect for daily use. I love how the formulas feel lightweight yet effective, and they work beautifully together to give me a fresh, radiant look. Whether I’m going for a natural glow or a full glam, these products never disappoint. Highly recommend to anyone looking to upgrade their beauty routine!\n",
       "                                                                                                                                                                                                                                                         ...                                                                                                                                                                                                                                                 \n",
       "173552                                                                                                                                                                                                                                                                                                                                                                                                                                                                       Sonsangmoval gou won tem. We sa?\n",
       "176042                                                                                                                                                                                                                                                                                                                                                                                                                                                                              ♡♡♡♡♡♡♡♡♡♡♡♡♡♡♡♡♡♡♡♡♡♡♡♡♡\n",
       "176043                                                                                                                                                                                                                                                                                                                                                                                                                                                                              ♡♡♡♡♡♡♡♡♡♡♡♡♡♡♡♡♡♡♡♡♡♡♡♡♡\n",
       "176716                                                                                                                                                                                                                                                                                                                                                                                                                     The shampoo cleanse my scalp well and it has a cooling and refreshing sensation  .\n",
       "177020                                                                                                                                                                                                                                                                                                                                                                                                                                                 The shampoo has lots of foam and clea se my hair well.\n",
       "Name: 리뷰, Length: 325, dtype: object"
      ]
     },
     "execution_count": 26,
     "metadata": {},
     "output_type": "execute_result"
    }
   ],
   "source": [
    "df[df[\"리뷰\"].map(no_korean).map(lambda x: len(x)) == 0][\"리뷰\"]"
   ]
  },
  {
   "cell_type": "code",
   "execution_count": 28,
   "id": "dbc00560-0454-41c2-bae0-0ec55b8eee3a",
   "metadata": {},
   "outputs": [
    {
     "data": {
      "text/plain": [
       "(181908, 32)"
      ]
     },
     "execution_count": 28,
     "metadata": {},
     "output_type": "execute_result"
    }
   ],
   "source": [
    "df = df[df[\"리뷰\"].map(no_korean).map(lambda x: len(x)) != 0]\n",
    "df.shape"
   ]
  },
  {
   "cell_type": "code",
   "execution_count": 29,
   "id": "caaeeade-e8c7-4acc-bcc3-e5e07e36b011",
   "metadata": {},
   "outputs": [
    {
     "data": {
      "text/plain": [
       "325"
      ]
     },
     "execution_count": 29,
     "metadata": {},
     "output_type": "execute_result"
    }
   ],
   "source": [
    "182233 - 181908"
   ]
  },
  {
   "cell_type": "code",
   "execution_count": 30,
   "id": "629c48c0-f458-40fa-b6a7-1be3c85a15f0",
   "metadata": {},
   "outputs": [],
   "source": [
    "df.to_csv(\"./data/shampoo/rawdata_final.csv\", index = False)"
   ]
  },
  {
   "cell_type": "code",
   "execution_count": null,
   "id": "597344dc-f7ed-4aa9-ae45-cc4b8acddc8a",
   "metadata": {},
   "outputs": [],
   "source": []
  },
  {
   "cell_type": "markdown",
   "id": "7aa43ee9-e554-48a0-8b69-ef5b0f63c713",
   "metadata": {},
   "source": [
    "- 데이터전처리1차와 위의 두가지 (특정 샴푸 제거, 한국어 없는 리뷰) 까지 진행한 데이터가 input 데이터"
   ]
  },
  {
   "cell_type": "code",
   "execution_count": 7,
   "id": "a846cad2-6aca-4dad-9851-fa4c583b8515",
   "metadata": {},
   "outputs": [
    {
     "name": "stderr",
     "output_type": "stream",
     "text": [
      "C:\\Users\\Woojung\\AppData\\Local\\Temp\\ipykernel_14040\\2830953051.py:1: DtypeWarning: Columns (2) have mixed types. Specify dtype option on import or set low_memory=False.\n",
      "  df = pd.read_csv(\"./data/shampoo/rawdata_final.csv\")\n"
     ]
    }
   ],
   "source": [
    "df = pd.read_csv(\"./data/shampoo/rawdata_final.csv\")"
   ]
  },
  {
   "cell_type": "code",
   "execution_count": 8,
   "id": "0db6a6f4-4b56-4ccc-b63f-71d0282ce9da",
   "metadata": {},
   "outputs": [
    {
     "data": {
      "text/html": [
       "<div>\n",
       "<style scoped>\n",
       "    .dataframe tbody tr th:only-of-type {\n",
       "        vertical-align: middle;\n",
       "    }\n",
       "\n",
       "    .dataframe tbody tr th {\n",
       "        vertical-align: top;\n",
       "    }\n",
       "\n",
       "    .dataframe thead th {\n",
       "        text-align: right;\n",
       "    }\n",
       "</style>\n",
       "<table border=\"1\" class=\"dataframe\">\n",
       "  <thead>\n",
       "    <tr style=\"text-align: right;\">\n",
       "      <th></th>\n",
       "      <th>제품명</th>\n",
       "      <th>브랜드</th>\n",
       "      <th>원가</th>\n",
       "      <th>판매가</th>\n",
       "      <th>리뷰수</th>\n",
       "      <th>평균별점</th>\n",
       "      <th>5점비율</th>\n",
       "      <th>4점비율</th>\n",
       "      <th>3점비율</th>\n",
       "      <th>2점비율</th>\n",
       "      <th>...</th>\n",
       "      <th>향/다소아쉬워요</th>\n",
       "      <th>작성자</th>\n",
       "      <th>작성일자</th>\n",
       "      <th>리뷰</th>\n",
       "      <th>별점</th>\n",
       "      <th>사용현황</th>\n",
       "      <th>세정력</th>\n",
       "      <th>자극도</th>\n",
       "      <th>거품</th>\n",
       "      <th>향</th>\n",
       "    </tr>\n",
       "  </thead>\n",
       "  <tbody>\n",
       "    <tr>\n",
       "      <th>0</th>\n",
       "      <td>모다모다 제로그레이 블랙샴푸10 더블기획 (300g+300g)</td>\n",
       "      <td>모다모다</td>\n",
       "      <td>78,000\\n원</td>\n",
       "      <td>48,280\\n원</td>\n",
       "      <td>145</td>\n",
       "      <td>4.6</td>\n",
       "      <td>78%</td>\n",
       "      <td>13%</td>\n",
       "      <td>6%</td>\n",
       "      <td>1%</td>\n",
       "      <td>...</td>\n",
       "      <td>4%</td>\n",
       "      <td>용자입니다</td>\n",
       "      <td>2025.05.19</td>\n",
       "      <td>일주일째 쓰는중인데 좋은거 같기도하고 아닌것 같기도 하고 한달뒤 후기로..ㄹ</td>\n",
       "      <td>5점만점에 5점</td>\n",
       "      <td>NaN</td>\n",
       "      <td>아주 만족해요</td>\n",
       "      <td>자극없이 순해요</td>\n",
       "      <td>거품이 풍성해요</td>\n",
       "      <td>아주 만족해요</td>\n",
       "    </tr>\n",
       "    <tr>\n",
       "      <th>1</th>\n",
       "      <td>모다모다 제로그레이 블랙샴푸10 더블기획 (300g+300g)</td>\n",
       "      <td>모다모다</td>\n",
       "      <td>78,000\\n원</td>\n",
       "      <td>48,280\\n원</td>\n",
       "      <td>145</td>\n",
       "      <td>4.6</td>\n",
       "      <td>78%</td>\n",
       "      <td>13%</td>\n",
       "      <td>6%</td>\n",
       "      <td>1%</td>\n",
       "      <td>...</td>\n",
       "      <td>4%</td>\n",
       "      <td>레몽몽</td>\n",
       "      <td>2025.04.28</td>\n",
       "      <td>거품이나 향은 무난한데 새치커버력이 홍보대비 좀 아쉽네요</td>\n",
       "      <td>5점만점에 4점</td>\n",
       "      <td>NaN</td>\n",
       "      <td>보통이에요</td>\n",
       "      <td>자극없이 순해요</td>\n",
       "      <td>거품이 풍성해요</td>\n",
       "      <td>아주 만족해요</td>\n",
       "    </tr>\n",
       "    <tr>\n",
       "      <th>2</th>\n",
       "      <td>모다모다 제로그레이 블랙샴푸10 더블기획 (300g+300g)</td>\n",
       "      <td>모다모다</td>\n",
       "      <td>78,000\\n원</td>\n",
       "      <td>48,280\\n원</td>\n",
       "      <td>145</td>\n",
       "      <td>4.6</td>\n",
       "      <td>78%</td>\n",
       "      <td>13%</td>\n",
       "      <td>6%</td>\n",
       "      <td>1%</td>\n",
       "      <td>...</td>\n",
       "      <td>4%</td>\n",
       "      <td>k202401158****</td>\n",
       "      <td>2025.05.16</td>\n",
       "      <td>얼마전에 구매했는데 쿠폰이 있어서 또 구매했어요 미리 쟁여 둘려구요</td>\n",
       "      <td>5점만점에 5점</td>\n",
       "      <td>재구매</td>\n",
       "      <td>아주 만족해요</td>\n",
       "      <td>자극없이 순해요</td>\n",
       "      <td>거품이 풍성해요</td>\n",
       "      <td>아주 만족해요</td>\n",
       "    </tr>\n",
       "    <tr>\n",
       "      <th>3</th>\n",
       "      <td>모다모다 제로그레이 블랙샴푸10 더블기획 (300g+300g)</td>\n",
       "      <td>모다모다</td>\n",
       "      <td>78,000\\n원</td>\n",
       "      <td>48,280\\n원</td>\n",
       "      <td>145</td>\n",
       "      <td>4.6</td>\n",
       "      <td>78%</td>\n",
       "      <td>13%</td>\n",
       "      <td>6%</td>\n",
       "      <td>1%</td>\n",
       "      <td>...</td>\n",
       "      <td>4%</td>\n",
       "      <td>k202401158****</td>\n",
       "      <td>2025.05.10</td>\n",
       "      <td>염색 하지 않고 몇년째 계속 사용하고 있어요남편 덕분에 알게 되어서 지금까지 같이 ...</td>\n",
       "      <td>5점만점에 5점</td>\n",
       "      <td>NaN</td>\n",
       "      <td>아주 만족해요</td>\n",
       "      <td>자극없이 순해요</td>\n",
       "      <td>거품이 풍성해요</td>\n",
       "      <td>아주 만족해요</td>\n",
       "    </tr>\n",
       "    <tr>\n",
       "      <th>4</th>\n",
       "      <td>모다모다 제로그레이 블랙샴푸10 더블기획 (300g+300g)</td>\n",
       "      <td>모다모다</td>\n",
       "      <td>78,000\\n원</td>\n",
       "      <td>48,280\\n원</td>\n",
       "      <td>145</td>\n",
       "      <td>4.6</td>\n",
       "      <td>78%</td>\n",
       "      <td>13%</td>\n",
       "      <td>6%</td>\n",
       "      <td>1%</td>\n",
       "      <td>...</td>\n",
       "      <td>4%</td>\n",
       "      <td>sweetvio****</td>\n",
       "      <td>2025.05.06</td>\n",
       "      <td>남편40대되고 흰머리가많아 이걸사줬는데그레이정도는되는것같아요</td>\n",
       "      <td>5점만점에 5점</td>\n",
       "      <td>한달이상사용</td>\n",
       "      <td>보통이에요</td>\n",
       "      <td>보통이에요</td>\n",
       "      <td>보통이에요</td>\n",
       "      <td>보통이에요</td>\n",
       "    </tr>\n",
       "  </tbody>\n",
       "</table>\n",
       "<p>5 rows × 32 columns</p>\n",
       "</div>"
      ],
      "text/plain": [
       "                                  제품명   브랜드         원가        판매가  리뷰수  평균별점  \\\n",
       "0  모다모다 제로그레이 블랙샴푸10 더블기획 (300g+300g)  모다모다  78,000\\n원  48,280\\n원  145   4.6   \n",
       "1  모다모다 제로그레이 블랙샴푸10 더블기획 (300g+300g)  모다모다  78,000\\n원  48,280\\n원  145   4.6   \n",
       "2  모다모다 제로그레이 블랙샴푸10 더블기획 (300g+300g)  모다모다  78,000\\n원  48,280\\n원  145   4.6   \n",
       "3  모다모다 제로그레이 블랙샴푸10 더블기획 (300g+300g)  모다모다  78,000\\n원  48,280\\n원  145   4.6   \n",
       "4  모다모다 제로그레이 블랙샴푸10 더블기획 (300g+300g)  모다모다  78,000\\n원  48,280\\n원  145   4.6   \n",
       "\n",
       "  5점비율 4점비율 3점비율 2점비율  ... 향/다소아쉬워요             작성자        작성일자  \\\n",
       "0  78%  13%   6%   1%  ...       4%           용자입니다  2025.05.19   \n",
       "1  78%  13%   6%   1%  ...       4%             레몽몽  2025.04.28   \n",
       "2  78%  13%   6%   1%  ...       4%  k202401158****  2025.05.16   \n",
       "3  78%  13%   6%   1%  ...       4%  k202401158****  2025.05.10   \n",
       "4  78%  13%   6%   1%  ...       4%    sweetvio****  2025.05.06   \n",
       "\n",
       "                                                  리뷰        별점    사용현황  \\\n",
       "0         일주일째 쓰는중인데 좋은거 같기도하고 아닌것 같기도 하고 한달뒤 후기로..ㄹ  5점만점에 5점     NaN   \n",
       "1                    거품이나 향은 무난한데 새치커버력이 홍보대비 좀 아쉽네요  5점만점에 4점     NaN   \n",
       "2              얼마전에 구매했는데 쿠폰이 있어서 또 구매했어요 미리 쟁여 둘려구요  5점만점에 5점     재구매   \n",
       "3  염색 하지 않고 몇년째 계속 사용하고 있어요남편 덕분에 알게 되어서 지금까지 같이 ...  5점만점에 5점     NaN   \n",
       "4                  남편40대되고 흰머리가많아 이걸사줬는데그레이정도는되는것같아요  5점만점에 5점  한달이상사용   \n",
       "\n",
       "       세정력       자극도        거품        향  \n",
       "0  아주 만족해요  자극없이 순해요  거품이 풍성해요  아주 만족해요  \n",
       "1    보통이에요  자극없이 순해요  거품이 풍성해요  아주 만족해요  \n",
       "2  아주 만족해요  자극없이 순해요  거품이 풍성해요  아주 만족해요  \n",
       "3  아주 만족해요  자극없이 순해요  거품이 풍성해요  아주 만족해요  \n",
       "4    보통이에요     보통이에요     보통이에요    보통이에요  \n",
       "\n",
       "[5 rows x 32 columns]"
      ]
     },
     "execution_count": 8,
     "metadata": {},
     "output_type": "execute_result"
    }
   ],
   "source": [
    "df.head()"
   ]
  },
  {
   "cell_type": "code",
   "execution_count": null,
   "id": "55cf6b35-e949-4443-b2ad-67289d1df412",
   "metadata": {},
   "outputs": [],
   "source": []
  },
  {
   "cell_type": "code",
   "execution_count": 3,
   "id": "cd52ddaf-834f-4350-91f1-7d764d69231b",
   "metadata": {},
   "outputs": [
    {
     "name": "stderr",
     "output_type": "stream",
     "text": [
      "C:\\Users\\Woojung\\AppData\\Local\\Temp\\ipykernel_14040\\1683552531.py:2: DtypeWarning: Columns (2) have mixed types. Specify dtype option on import or set low_memory=False.\n",
      "  df = pd.read_csv(\"./data/shampoo/rawdata_final.csv\")\n"
     ]
    }
   ],
   "source": [
    "# jsonl 파일로 변환하여 저장\n",
    "df = pd.read_csv(\"./data/shampoo/rawdata_final.csv\")"
   ]
  },
  {
   "cell_type": "code",
   "execution_count": 4,
   "id": "bd4ee170-57cb-4069-a221-509ac430a702",
   "metadata": {},
   "outputs": [
    {
     "data": {
      "text/plain": [
       "(181908, 32)"
      ]
     },
     "execution_count": 4,
     "metadata": {},
     "output_type": "execute_result"
    }
   ],
   "source": [
    "df.shape"
   ]
  },
  {
   "cell_type": "code",
   "execution_count": 6,
   "id": "1f215566-2936-4aeb-ae17-97de25018a62",
   "metadata": {},
   "outputs": [],
   "source": [
    "# 파일 경로 설정\n",
    "csv_file_path = './data/shampoo/rawdata_final.csv'\n",
    "jsonl_file_path = './data/shampoo/rawdata_final.jsonl'\n",
    "\n",
    "# CSV 파일 열기 및 JSONL로 저장\n",
    "with open(csv_file_path, mode='r', encoding='utf-8') as csv_file, \\\n",
    "    open(jsonl_file_path, mode='w', encoding='utf-8') as jsonl_file:\n",
    "    \n",
    "    reader = csv.DictReader(csv_file)\n",
    "    \n",
    "    for row in reader:\n",
    "        json_line = json.dumps(row, ensure_ascii=False)\n",
    "        jsonl_file.write(json_line + '\\n')\n"
   ]
  },
  {
   "cell_type": "code",
   "execution_count": null,
   "id": "16fb03d0-926e-471c-a9fa-4ec760580c40",
   "metadata": {},
   "outputs": [],
   "source": []
  },
  {
   "cell_type": "code",
   "execution_count": null,
   "id": "6ce04eca-7d4c-4762-9cea-ca1f8a33ade1",
   "metadata": {},
   "outputs": [],
   "source": []
  },
  {
   "cell_type": "markdown",
   "id": "54e065f9-528a-4f54-9713-fc4d1343f80a",
   "metadata": {},
   "source": [
    "# 데이터 정제\n",
    "\n",
    "- 이모지, 반복 어구 등 전처리"
   ]
  },
  {
   "cell_type": "code",
   "execution_count": 9,
   "id": "38d66c80-8801-4f35-be74-af5622846b1e",
   "metadata": {},
   "outputs": [],
   "source": [
    "# 한글, 영어, 숫자, 공백, 직접 정한 허가 특수문자들 이외 공백처리\n",
    "def clean_review(text):   \n",
    "    allowed_punctuations = \"!?.,%+=~&()\"    \n",
    "    pattern = rf\"[^ㄱ-ㅎㅏ-ㅣ가-힣a-zA-Z0-9\\s{re.escape(allowed_punctuations)}]\"\n",
    "    \n",
    "    text = re.sub(pattern, ' ', text)\n",
    "\n",
    "    return text.strip()"
   ]
  },
  {
   "cell_type": "code",
   "execution_count": 10,
   "id": "f2ddd696-8e80-436f-b003-3cbf4424c317",
   "metadata": {},
   "outputs": [],
   "source": [
    "# 소괄호 안 부연설명 삭제\n",
    "def del_bracket(text):\n",
    "    # 괄호 안 부연설명 제거 (중첩 괄호 포함)\n",
    "    while re.search(r'\\([^()]*\\)', text):\n",
    "        text = re.sub(r'\\([^()]*\\)', ' ', text)\n",
    "\n",
    "    # 잔여 괄호 제거\n",
    "    text = text.replace(\"(\", \" \")\n",
    "    text = text.replace(\")\", \" \")\n",
    "    \n",
    "    return text.strip()"
   ]
  },
  {
   "cell_type": "code",
   "execution_count": 11,
   "id": "6cbf735b-2be1-4d82-9bd4-e26245a0e518",
   "metadata": {},
   "outputs": [],
   "source": [
    "# 의미없는 반복 문자열 축약\n",
    "# 반복어구\n",
    "dupchars_pattern = re.compile(r'(.)\\1{2,}')\n",
    "dupsymbols_pattern = re.compile(r'([!?~%+=&])\\1{1,}')\n",
    "\n",
    "# 더블스페이스\n",
    "doublespace_pattern = re.compile(r'\\s+')\n",
    "\n",
    "def contract_dupchars(text, n = 3): \n",
    "    if n > 0:\n",
    "        text = dupchars_pattern.sub('\\\\1' * n, text)\n",
    "        \n",
    "    text = dupsymbols_pattern.sub('\\\\1', text)\n",
    "    text = doublespace_pattern.sub(' ', text)\n",
    "\n",
    "    return text.strip()"
   ]
  },
  {
   "cell_type": "code",
   "execution_count": 14,
   "id": "4175e6f5-0ac2-4dff-9b3c-a560dca399b2",
   "metadata": {},
   "outputs": [],
   "source": [
    "# 테스트\n",
    "sample = \"~~~~~⭐💚👍####…………????~~~~⭐~ -----(전처리 (개) 빡세다) ..  ...... ,,,,,,하하하하      ㅋㅋㅋㅋ~~!!zzzzㅋㅋㅋㅋㅋㅋㅋㅋ,ㅎㅎㅎㅎㅎㅎㅎㅎ졸ㄹㅕㅕㅕㅕㅕ!!!!!\"\n",
    "sample = clean_review(sample)\n",
    "sample = del_bracket(sample)\n",
    "sample = contract_dupchars(sample)"
   ]
  },
  {
   "cell_type": "code",
   "execution_count": 15,
   "id": "dfcc3981-e6d6-4274-ab35-4864c4767c71",
   "metadata": {},
   "outputs": [
    {
     "data": {
      "text/plain": [
       "'~ ?~ ~ .. ... ,,,하하하 ㅋㅋㅋ~!zzzㅋㅋㅋ,ㅎㅎㅎ졸ㄹㅕㅕㅕ!'"
      ]
     },
     "execution_count": 15,
     "metadata": {},
     "output_type": "execute_result"
    }
   ],
   "source": [
    "sample"
   ]
  },
  {
   "cell_type": "code",
   "execution_count": 16,
   "id": "bc52a657-7962-4f34-a07e-932dcffc1fac",
   "metadata": {},
   "outputs": [],
   "source": [
    "# 전처리 종합\n",
    "def preprocessing(form):\n",
    "    # 한글, 영어, 숫자, 공백, 직접 정한 허가 특수문자들 이외 공백처리\n",
    "    form = clean_review(form)\n",
    "    # 소괄호 안 부연설명 삭제\n",
    "    form = del_bracket(form)\n",
    "    # 의미없는 반복 문자열 축약\n",
    "    form = contract_dupchars(form)\n",
    "    \n",
    "    return form"
   ]
  },
  {
   "cell_type": "code",
   "execution_count": 17,
   "id": "d64af194-ec92-433f-a798-3a03debb1f9c",
   "metadata": {},
   "outputs": [
    {
     "name": "stderr",
     "output_type": "stream",
     "text": [
      "C:\\Users\\Woojung\\AppData\\Local\\Temp\\ipykernel_30792\\571489464.py:1: SettingWithCopyWarning: \n",
      "A value is trying to be set on a copy of a slice from a DataFrame.\n",
      "Try using .loc[row_indexer,col_indexer] = value instead\n",
      "\n",
      "See the caveats in the documentation: https://pandas.pydata.org/pandas-docs/stable/user_guide/indexing.html#returning-a-view-versus-a-copy\n",
      "  newdf[\"clean리뷰\"] = newdf[\"리뷰\"].apply(preprocessing)\n"
     ]
    }
   ],
   "source": [
    "newdf[\"clean리뷰\"] = newdf[\"리뷰\"].apply(preprocessing)"
   ]
  },
  {
   "cell_type": "code",
   "execution_count": 18,
   "id": "7609c69c-df6e-432e-b279-7311a4c8aad3",
   "metadata": {
    "scrolled": true
   },
   "outputs": [
    {
     "data": {
      "text/html": [
       "<div>\n",
       "<style scoped>\n",
       "    .dataframe tbody tr th:only-of-type {\n",
       "        vertical-align: middle;\n",
       "    }\n",
       "\n",
       "    .dataframe tbody tr th {\n",
       "        vertical-align: top;\n",
       "    }\n",
       "\n",
       "    .dataframe thead th {\n",
       "        text-align: right;\n",
       "    }\n",
       "</style>\n",
       "<table border=\"1\" class=\"dataframe\">\n",
       "  <thead>\n",
       "    <tr style=\"text-align: right;\">\n",
       "      <th></th>\n",
       "      <th>제품명</th>\n",
       "      <th>브랜드</th>\n",
       "      <th>원가</th>\n",
       "      <th>판매가</th>\n",
       "      <th>리뷰수</th>\n",
       "      <th>평균별점</th>\n",
       "      <th>5점비율</th>\n",
       "      <th>4점비율</th>\n",
       "      <th>3점비율</th>\n",
       "      <th>2점비율</th>\n",
       "      <th>...</th>\n",
       "      <th>작성자</th>\n",
       "      <th>작성일자</th>\n",
       "      <th>리뷰</th>\n",
       "      <th>별점</th>\n",
       "      <th>사용현황</th>\n",
       "      <th>세정력</th>\n",
       "      <th>자극도</th>\n",
       "      <th>거품</th>\n",
       "      <th>향</th>\n",
       "      <th>clean리뷰</th>\n",
       "    </tr>\n",
       "  </thead>\n",
       "  <tbody>\n",
       "    <tr>\n",
       "      <th>0</th>\n",
       "      <td>모다모다 제로그레이 블랙샴푸10 더블기획 (300g+300g)</td>\n",
       "      <td>모다모다</td>\n",
       "      <td>78,000\\n원</td>\n",
       "      <td>48,280\\n원</td>\n",
       "      <td>145</td>\n",
       "      <td>4.6</td>\n",
       "      <td>78%</td>\n",
       "      <td>13%</td>\n",
       "      <td>6%</td>\n",
       "      <td>1%</td>\n",
       "      <td>...</td>\n",
       "      <td>용자입니다</td>\n",
       "      <td>2025.05.19</td>\n",
       "      <td>일주일째 쓰는중인데 좋은거 같기도하고 아닌것 같기도 하고 한달뒤 후기로..ㄹ</td>\n",
       "      <td>5점만점에 5점</td>\n",
       "      <td>NaN</td>\n",
       "      <td>아주 만족해요</td>\n",
       "      <td>자극없이 순해요</td>\n",
       "      <td>거품이 풍성해요</td>\n",
       "      <td>아주 만족해요</td>\n",
       "      <td>일주일째 쓰는중인데 좋은거 같기도하고 아닌것 같기도 하고 한달뒤 후기로..ㄹ</td>\n",
       "    </tr>\n",
       "    <tr>\n",
       "      <th>1</th>\n",
       "      <td>모다모다 제로그레이 블랙샴푸10 더블기획 (300g+300g)</td>\n",
       "      <td>모다모다</td>\n",
       "      <td>78,000\\n원</td>\n",
       "      <td>48,280\\n원</td>\n",
       "      <td>145</td>\n",
       "      <td>4.6</td>\n",
       "      <td>78%</td>\n",
       "      <td>13%</td>\n",
       "      <td>6%</td>\n",
       "      <td>1%</td>\n",
       "      <td>...</td>\n",
       "      <td>레몽몽</td>\n",
       "      <td>2025.04.28</td>\n",
       "      <td>거품이나 향은 무난한데 새치커버력이 홍보대비 좀 아쉽네요</td>\n",
       "      <td>5점만점에 4점</td>\n",
       "      <td>NaN</td>\n",
       "      <td>보통이에요</td>\n",
       "      <td>자극없이 순해요</td>\n",
       "      <td>거품이 풍성해요</td>\n",
       "      <td>아주 만족해요</td>\n",
       "      <td>거품이나 향은 무난한데 새치커버력이 홍보대비 좀 아쉽네요</td>\n",
       "    </tr>\n",
       "    <tr>\n",
       "      <th>2</th>\n",
       "      <td>모다모다 제로그레이 블랙샴푸10 더블기획 (300g+300g)</td>\n",
       "      <td>모다모다</td>\n",
       "      <td>78,000\\n원</td>\n",
       "      <td>48,280\\n원</td>\n",
       "      <td>145</td>\n",
       "      <td>4.6</td>\n",
       "      <td>78%</td>\n",
       "      <td>13%</td>\n",
       "      <td>6%</td>\n",
       "      <td>1%</td>\n",
       "      <td>...</td>\n",
       "      <td>k202401158****</td>\n",
       "      <td>2025.05.16</td>\n",
       "      <td>얼마전에 구매했는데 쿠폰이 있어서 또 구매했어요 미리 쟁여 둘려구요</td>\n",
       "      <td>5점만점에 5점</td>\n",
       "      <td>재구매</td>\n",
       "      <td>아주 만족해요</td>\n",
       "      <td>자극없이 순해요</td>\n",
       "      <td>거품이 풍성해요</td>\n",
       "      <td>아주 만족해요</td>\n",
       "      <td>얼마전에 구매했는데 쿠폰이 있어서 또 구매했어요 미리 쟁여 둘려구요</td>\n",
       "    </tr>\n",
       "    <tr>\n",
       "      <th>3</th>\n",
       "      <td>모다모다 제로그레이 블랙샴푸10 더블기획 (300g+300g)</td>\n",
       "      <td>모다모다</td>\n",
       "      <td>78,000\\n원</td>\n",
       "      <td>48,280\\n원</td>\n",
       "      <td>145</td>\n",
       "      <td>4.6</td>\n",
       "      <td>78%</td>\n",
       "      <td>13%</td>\n",
       "      <td>6%</td>\n",
       "      <td>1%</td>\n",
       "      <td>...</td>\n",
       "      <td>k202401158****</td>\n",
       "      <td>2025.05.10</td>\n",
       "      <td>염색 하지 않고 몇년째 계속 사용하고 있어요남편 덕분에 알게 되어서 지금까지 같이 쓰고 있어요~</td>\n",
       "      <td>5점만점에 5점</td>\n",
       "      <td>NaN</td>\n",
       "      <td>아주 만족해요</td>\n",
       "      <td>자극없이 순해요</td>\n",
       "      <td>거품이 풍성해요</td>\n",
       "      <td>아주 만족해요</td>\n",
       "      <td>염색 하지 않고 몇년째 계속 사용하고 있어요남편 덕분에 알게 되어서 지금까지 같이 쓰고 있어요~</td>\n",
       "    </tr>\n",
       "    <tr>\n",
       "      <th>4</th>\n",
       "      <td>모다모다 제로그레이 블랙샴푸10 더블기획 (300g+300g)</td>\n",
       "      <td>모다모다</td>\n",
       "      <td>78,000\\n원</td>\n",
       "      <td>48,280\\n원</td>\n",
       "      <td>145</td>\n",
       "      <td>4.6</td>\n",
       "      <td>78%</td>\n",
       "      <td>13%</td>\n",
       "      <td>6%</td>\n",
       "      <td>1%</td>\n",
       "      <td>...</td>\n",
       "      <td>sweetvio****</td>\n",
       "      <td>2025.05.06</td>\n",
       "      <td>남편40대되고 흰머리가많아 이걸사줬는데그레이정도는되는것같아요</td>\n",
       "      <td>5점만점에 5점</td>\n",
       "      <td>한달이상사용</td>\n",
       "      <td>보통이에요</td>\n",
       "      <td>보통이에요</td>\n",
       "      <td>보통이에요</td>\n",
       "      <td>보통이에요</td>\n",
       "      <td>남편40대되고 흰머리가많아 이걸사줬는데그레이정도는되는것같아요</td>\n",
       "    </tr>\n",
       "  </tbody>\n",
       "</table>\n",
       "<p>5 rows × 33 columns</p>\n",
       "</div>"
      ],
      "text/plain": [
       "                                  제품명   브랜드         원가        판매가  리뷰수  평균별점  \\\n",
       "0  모다모다 제로그레이 블랙샴푸10 더블기획 (300g+300g)  모다모다  78,000\\n원  48,280\\n원  145   4.6   \n",
       "1  모다모다 제로그레이 블랙샴푸10 더블기획 (300g+300g)  모다모다  78,000\\n원  48,280\\n원  145   4.6   \n",
       "2  모다모다 제로그레이 블랙샴푸10 더블기획 (300g+300g)  모다모다  78,000\\n원  48,280\\n원  145   4.6   \n",
       "3  모다모다 제로그레이 블랙샴푸10 더블기획 (300g+300g)  모다모다  78,000\\n원  48,280\\n원  145   4.6   \n",
       "4  모다모다 제로그레이 블랙샴푸10 더블기획 (300g+300g)  모다모다  78,000\\n원  48,280\\n원  145   4.6   \n",
       "\n",
       "  5점비율 4점비율 3점비율 2점비율  ...             작성자        작성일자  \\\n",
       "0  78%  13%   6%   1%  ...           용자입니다  2025.05.19   \n",
       "1  78%  13%   6%   1%  ...             레몽몽  2025.04.28   \n",
       "2  78%  13%   6%   1%  ...  k202401158****  2025.05.16   \n",
       "3  78%  13%   6%   1%  ...  k202401158****  2025.05.10   \n",
       "4  78%  13%   6%   1%  ...    sweetvio****  2025.05.06   \n",
       "\n",
       "                                                      리뷰        별점    사용현황  \\\n",
       "0             일주일째 쓰는중인데 좋은거 같기도하고 아닌것 같기도 하고 한달뒤 후기로..ㄹ  5점만점에 5점     NaN   \n",
       "1                        거품이나 향은 무난한데 새치커버력이 홍보대비 좀 아쉽네요  5점만점에 4점     NaN   \n",
       "2                  얼마전에 구매했는데 쿠폰이 있어서 또 구매했어요 미리 쟁여 둘려구요  5점만점에 5점     재구매   \n",
       "3  염색 하지 않고 몇년째 계속 사용하고 있어요남편 덕분에 알게 되어서 지금까지 같이 쓰고 있어요~  5점만점에 5점     NaN   \n",
       "4                      남편40대되고 흰머리가많아 이걸사줬는데그레이정도는되는것같아요  5점만점에 5점  한달이상사용   \n",
       "\n",
       "       세정력       자극도        거품        향  \\\n",
       "0  아주 만족해요  자극없이 순해요  거품이 풍성해요  아주 만족해요   \n",
       "1    보통이에요  자극없이 순해요  거품이 풍성해요  아주 만족해요   \n",
       "2  아주 만족해요  자극없이 순해요  거품이 풍성해요  아주 만족해요   \n",
       "3  아주 만족해요  자극없이 순해요  거품이 풍성해요  아주 만족해요   \n",
       "4    보통이에요     보통이에요     보통이에요    보통이에요   \n",
       "\n",
       "                                                 clean리뷰  \n",
       "0             일주일째 쓰는중인데 좋은거 같기도하고 아닌것 같기도 하고 한달뒤 후기로..ㄹ  \n",
       "1                        거품이나 향은 무난한데 새치커버력이 홍보대비 좀 아쉽네요  \n",
       "2                  얼마전에 구매했는데 쿠폰이 있어서 또 구매했어요 미리 쟁여 둘려구요  \n",
       "3  염색 하지 않고 몇년째 계속 사용하고 있어요남편 덕분에 알게 되어서 지금까지 같이 쓰고 있어요~  \n",
       "4                      남편40대되고 흰머리가많아 이걸사줬는데그레이정도는되는것같아요  \n",
       "\n",
       "[5 rows x 33 columns]"
      ]
     },
     "execution_count": 18,
     "metadata": {},
     "output_type": "execute_result"
    }
   ],
   "source": [
    "newdf.head()"
   ]
  },
  {
   "cell_type": "code",
   "execution_count": null,
   "id": "029cc4a4-9dff-41bd-b7e4-df4c3d3b5fe1",
   "metadata": {},
   "outputs": [],
   "source": []
  },
  {
   "cell_type": "markdown",
   "id": "725f6991-a810-4f90-944e-4657d81732d4",
   "metadata": {},
   "source": [
    "# 판매자 지원 리뷰\n",
    "\n",
    "- \"판매자에게 제품의 일부를 지원받았지만 저의 솔직한 리뷰입니다\" 리뷰에 붙인 문구 삭제"
   ]
  },
  {
   "cell_type": "code",
   "execution_count": 19,
   "id": "8abd4f01-2b5c-4afc-8dda-470ccb9c24f8",
   "metadata": {},
   "outputs": [
    {
     "name": "stderr",
     "output_type": "stream",
     "text": [
      "C:\\Users\\Woojung\\AppData\\Local\\Temp\\ipykernel_30792\\1016952794.py:5: UserWarning: This pattern is interpreted as a regular expression, and has match groups. To actually get the groups, use str.extract.\n",
      "  sponsored = newdf[\"clean리뷰\"].str.contains(start_pattern)\n"
     ]
    }
   ],
   "source": [
    "# 협찬문장의 시작 패턴\n",
    "start_pattern = r\"(판매자(에게|로부터)|업체로부터|본 상품 후기는)\"\n",
    "\n",
    "# 협찬문장이 포함된 행 필터링\n",
    "sponsored = newdf[\"clean리뷰\"].str.contains(start_pattern)\n",
    "sponsored_reviews = newdf.loc[sponsored, \"clean리뷰\"]\n",
    "\n",
    "# start_pattern 으로 시작하는 문구의 위치\n",
    "def find_startidx(text):\n",
    "    match = re.search(start_pattern, text)\n",
    "    return match.start()\n",
    "\n",
    "start_idx = sponsored_reviews.apply(find_startidx)\n",
    "\n",
    "# 시작 위치로부터 70자 추출\n",
    "sponsored_sent = []\n",
    "for idx in sponsored_reviews.index:\n",
    "    pos = start_idx.loc[idx]\n",
    "    sponsored_sent.append(sponsored_reviews.loc[idx][pos : pos + 70])\n",
    "\n",
    "# 협찬문장의 전처리 (띄어쓰기보정, 문장분리)\n",
    "spacing = Spacing()\n",
    "kiwi = Kiwi()\n",
    "\n",
    "cleaned_sponsored = []\n",
    "for sent in sponsored_sent:\n",
    "    # 띄어쓰기 제거\n",
    "    sent = sent.replace(\" \", \"\")\n",
    "    # 띄어쓰기 교정\n",
    "    spaced_sent = spacing(sent)\n",
    "    # 문장 분리\n",
    "    splited_sent = kiwi.split_into_sents(spaced_sent)\n",
    "    # 첫번째 문장 (협찬문장) 추출\n",
    "    cleaned_sponsored.append(splited_sent[0])\n",
    "\n",
    "# 중복 제거한 협찬 문장\n",
    "sponsored_patterns = list({sent[0] for sent in cleaned_sponsored})"
   ]
  },
  {
   "cell_type": "code",
   "execution_count": 21,
   "id": "a027b9dc-9dee-4b44-92c7-8260a58b3228",
   "metadata": {},
   "outputs": [],
   "source": [
    "pattern1 = []\n",
    "pattern2 = []\n",
    "pattern3 = []\n",
    "pattern4 = []\n",
    "for sent in sponsored_patterns:\n",
    "    if \"판매자에게\" in sent:\n",
    "        pattern1.append(sent)\n",
    "    elif \"판매자로부터\" in sent:\n",
    "        pattern2.append(sent)\n",
    "    elif \"업체로부터\" in sent:\n",
    "        pattern3.append(sent)\n",
    "    elif \"본 상품 후기는\" in sent:\n",
    "        pattern4.append(sent)"
   ]
  },
  {
   "cell_type": "code",
   "execution_count": 23,
   "id": "19d4205f-230a-412c-9275-c86cb945bdce",
   "metadata": {
    "scrolled": true
   },
   "outputs": [
    {
     "data": {
      "text/plain": [
       "['판매자에게 제품 비 일부를 받았지만 솔직한 저의 후기입니다',\n",
       " '판매자에게 제품비를 일부 지원받았지만 저의 솔직한 후기입니다.',\n",
       " '판매자에게 이벤트 상금을 지원받아 직접 구매 후 솔직한 의견으로 작성하였습니다청 미정 다시마 에센스가 유명해서 잘 쓰고 있었는데',\n",
       " '판매자에게 제품의 일부를 지원받았지만 저의 솔직한 후기입니다.',\n",
       " '판매자에게 제품비의 일부를 지원받았지만 저의 솔직한 후기입니다 써보고 맘에 들어 꾸준히 쓰고 있는 제품입니다',\n",
       " '판매자에게 제품비의 일부를 지원받았지만 저의 솔직한 후기입니다',\n",
       " '판매자에게 제품비의 일부를 지원받았지만 저의 솔직한 후기입니다 점점 나이를 먹으면서 머리카락 관리 안 할 수가 없더라고요.',\n",
       " '판매자에게 제품비의 일부를 받았지만 저의 솔직한 후기입니다.',\n",
       " '판매자에게 제품비를 일부 지원받았지만 저의 솔직한 후기입니다!',\n",
       " '판매자에게 제품비의 일부를 지원받았지만 저의 솔직한 후기입니다 머리숱도 없는데 오후만 되면 머리가 떡져서 스트레스를 많이 받았는',\n",
       " '판매자에게 제품비의 일부를 지원받았지만, 저의 가족의 솔직한 후 기랍니다.!',\n",
       " '판매자에게 제품비의 일부를 지원받았으나 저의 솔직한 후기를 작성하였습니다.',\n",
       " '판매자에게 제품 비용 일부를 지원받았지만 사용 후에 주관적으로 솔직하게 작성한 후기입니다.',\n",
       " '판매자에게 제품비의 일부를 지원받았지만 저의 솔직한 사용 후기입니다.',\n",
       " '판매자에게 제품 비 일부를 지원받았지만 저의 솔직한 후기입니다 샴푸는 계속해서 닥터그루트로 온 가족이 사용하고 있어요.',\n",
       " '판매자에게 제품 비 일부를 지원받았지만 사용 후 저의 솔직한 후기로 리뷰적었습니다',\n",
       " '판매자에게 제품 지원을 받았지만 사용해보고 직접 작성하는 주관적인 후기입니다.',\n",
       " '판매자에게 제품비의 일부를 지원받았지만 저의 솔직한 후기입니다가려운 피부용인데 진짜 덜 가려운 것 같아서 두통째 구매했어요!',\n",
       " '판매자에게 이벤트 상금을 지원받았지만 직접 구매 후 솔직한 의견으로 작성하였습니다.',\n",
       " '판매자에게 제품비를 일부 지원받았지만 저의 솔직한 후기입니다',\n",
       " '판매자에게 제품비의 일부를 지원받았지만 아이가 직접 사용해보고 난 후에 남기는 실사용 후기입니다.',\n",
       " '판매자에게 제품비를 일부 지원받았지만 솔직하게 작성된 후기입니다.',\n",
       " '판매자에게 이벤트 상금을 지원받아 직접 구매 후 솔직한 의견으로 작성하였습니다.',\n",
       " '판매자에게 제품비의 일부를 지원받았지만 저의 솔직한 후기로 작성하였습니다.',\n",
       " '판매자에게 제품비의 일부를 지원받았지만 솔직하게 리뷰하였습니다',\n",
       " '판매자에게 제품비의 일부를 지원받았지만 저의 솔직한 후기입니다지성 두피라서 좋다는 샴푸 안 써본 거 없이 이것저것 다 써보고서야',\n",
       " '판매자에게 제품비의 일부를 지원받았지만 저의 솔직한 후기입니다 머리를 감고 나도 두피가 가려운 경우가 많아서 고민이었는데 가려운',\n",
       " '판매자에게 제품 비 일부를 지원받았으나 저의 솔직한 후기입니다',\n",
       " '판매자에게 제품비의 일부를 지원받았지만 저의 정말 솔직한 후기입니다',\n",
       " '판매자에게 제품비의 일부를 지원받았지만 저의 솔직하 후기입니다.',\n",
       " '판매자에게 제품 비 일부를 지원받았지만 저의 솔직한 사용 후기입니 당요즘 두피가 건조하고 가려웠서 기능성 샴푸 찾고 있었는데, 너~무',\n",
       " '판매자에게 이벤트 상금을 지원받아 직접 구매 후 솔직한 의견으로 작성하였습니다청 미정 브랜드는 처음 써봤는데 일단 샴푸제',\n",
       " '판매자에게 제품비의 일부를 지원받았지만 저의 솔직 후기입니다!',\n",
       " '판매자에게 이벤트 상금을 지원받아 직접 구매 후 솔직한 의견으로 작성하였습니다 기름지고 떡진정 수리와 모발로 고민하는 분탄력이',\n",
       " '판매자에게 제품비를 일부를 지원받았지만 지극히 개인적인 후기입니다',\n",
       " '판매자에게 이벤트 상금을 지원받아 직접 구매 후 솔직한 의견으로 작성하였습니다청 미정샴푸는 뛰어난 세정력과 순한 성분으로 유명',\n",
       " '판매자에게 제품비의 일부를 지원받았지만 저의 솔직한 후기입니다타 제품보다 확실히 기름기가 적어집니다',\n",
       " '판매자에게 제품비의 일부의 지원받았지만 저의 솔직한 후기입니다.',\n",
       " '판매자에게 제품비의 일부를 지원받았지만 저의 솔직한 후기입니다 순한 샴푸라고 해서 구매해봤어요!',\n",
       " '판매자에게 제품비의 일부를 지원받았지만 저의 솔직한 후기입니다.40대가 되니 머리카락이 많이 빠집니다..',\n",
       " '판매자에게 제품비의 일부를 지원받았지만 저의 솔직한 후기입니다..',\n",
       " '판매자에게 제품비의 일비를 지원받았지만 저의 솔직한 후기입니다',\n",
       " '판매자에게 제품비를 일부 지원받았지만 솔직하게 작성한 리뷰입니다',\n",
       " '판매자에게 제품비의 일부를 지원받았지만 직접 사용하고 작성한 후기에요.',\n",
       " '판매자에게 제품비의 일부를 지원받았지만 저의 설직한 리뷰입니다',\n",
       " '판매자에게 제품 비 일부를 지원받았지만 진짜 저의 솔직한 후기 올립니다',\n",
       " '판매자에게 제품비의 일부를 지원받았지만, 솔직한 저의 후기입니다.',\n",
       " '판매자에게 제품 일부를 지원받았지만 저의 솔직한 후기입니다 샴푸뿐 아니라 구성품이 좋아서 혜자스러운 느낌이에요~',\n",
       " '판매자에게 제품비의 일부를 지원받았지만, 저의 솔직한 후기입니다',\n",
       " '판매자에게 제품 비 일부를 지원받았지만 솔직한 저의 후기입니 당!ㅎ',\n",
       " '판매자에게 제품비의 일부를 지원받았지만 저의 솔직한 후기입니다가려 운 두피에 진짜 딱 이에 요게다가 딥 클렌징 효과도 좋아요.',\n",
       " '판매자에게 제품비의 일부를 지원받았지만 저의 솔직한 후기입니 다 너무 너무 좋어요',\n",
       " '판매자에게 이벤트 상금을 지원받아 솔직한 의견으로 작성하였습니다거품이 풍성해서 조금만 써도 좋네요.',\n",
       " '판매자에게 이벤트 상금을 지원받아 직접 구매 후 솔직한 의견으로 작성하였습니다 풍성한 머리숱 유지에 반박 없는 검은콩!',\n",
       " '판매자에게 제품비의 일부를 지원받았지만 저의 솔직한 후기입니다 향도 좋고 거품도 풍성하게 잘 나서 좋아하는 제품이에요',\n",
       " '판매자에게 제품비의 일부를 지원받았지만 저희 솔직한 후기입니다.',\n",
       " '판매자에게 제품비의 일부를 제공받았지만 저의 솔직한 후기입니다.',\n",
       " '판매자에게 제품 비 일부를 지원받았지만 저의 솔직한 후기입니다.',\n",
       " '판매자에게 제품비의 일부를 지원받았지만, 저의 솔직한 후기입니다.',\n",
       " '판매자에게 제품비의 일부를 지원받아 작성했지만 저의 솔직한 후기입니다',\n",
       " '판매자에게 소정의 구매비를 지원받지만 솔직한 개인 후기입니다거품이 풍부하고 세정력이 좋아 여자극도 없고 쿨해서 충분히 두피마',\n",
       " '판매자에게 제품비의 일부를 후원받았지만 저의 솔직한 후기입니다.',\n",
       " '판매자에게 제품의 일부를 제공받았지만 저의 솔직한 후기입니다',\n",
       " '판매자에게 제품 비용을 일부 지원을 받았지만 저의 솔직한 후기 전달합니다.',\n",
       " '판매자에게 이벤트 상금을 지원받아 직접 구매 후 솔직한 의견으로 작성하였습니다',\n",
       " '판매자에게 일부 지원을 받았지만 저의 솔직한 후기입니다',\n",
       " '판매자에게 제품비의 일부를 지원받았지만 저의 솔직한 리뷰입니다.',\n",
       " '판매자에게 제품비의 일부를 지원받았지만 솔직한 후기입니다.',\n",
       " '판매자에게 제품비의 일부를 지원받았지',\n",
       " '판매자에게 이벤트 상금을 지원받아 직접 구매 후 솔직한 의견으로 작성하였습니다 순한 성분 덕분에 두피가 건강해지는 느낌을 받았어',\n",
       " '판매자에게 제품의 일부를 지원받았지만 저의 솔직한 리뷰입니다',\n",
       " '판매자에게 제품비의 일부를 지원받았지만 저의 솔직한 흐기입니다',\n",
       " '판매자에게 제품이 일부를 지원받았지만 저의 솔직한 후기입니다.',\n",
       " '판매자에게 이벤트 상금을 지원받아 직접 구매 후 솔직한 의견으로 작성하였습니다거품이 엄청 풍성하고 쫀쫀한 샴푸예요!',\n",
       " '판매자에게 제품비의 일부를 지원받았지만 자의 솔직한 후기입니다.',\n",
       " '판매자에게 제품비의 일부를 지원받았지만 저의 솔직한 후기입니다!',\n",
       " '판매자에게 제품 비 일부를 지원받았지만 저의 솔직한 후기입니다~',\n",
       " '판매자에게 제품 비 일부를 지원받았지만 저의 솔직한 후기입니다',\n",
       " '판매자에게 제품비의 일부를 디원받았지만 저의 솔직한 후기입니다',\n",
       " '판매자에게 제품비의 일부를 지원받았지만 솔직한 저의 후기입니다',\n",
       " '판매자에게 제품 비 일부를 지원받고 솔직한 후 기남겨요',\n",
       " '판매자에게 제품비의 일부를 지원받았지만 저의 솔직한 후기입니다 샴푸를 바꿀 때가 된 건지 머리를 잘 안 말려인지 오후 시간이 되면 머',\n",
       " '판매자에게 제품비의 일부를 지원받았지만 저희 솔직한 후기입니다',\n",
       " '판매자에게 이벤트 상금을 지원받아 직접 구매한 후 솔직한 의견으로 작성하였습니다.',\n",
       " '판매자에게 제품의 일부를 지원받았지만 저의 솔직한 후기입니다',\n",
       " '판매자에게 제품비의 일부를 지원받았지만 솔직한 저의 후기입니다.',\n",
       " '판매자에게 제품비의 일부를 제공받았지만 저의 솔직한 후기입니다',\n",
       " '판매자에게 이벤트 상금을 지원받아 직접 구매 후 솔직한 의견으로 작성하였습니다거품이 잘 나는 샴푸 씻고 나면 기름기가 느껴지',\n",
       " '판매자에게 제품비를 일부 지원받앗지만 솔직 후기입니다',\n",
       " '판매자에게 제품의 일부 비용을 지원받았지만 저의 솔직한 사용 후기입니다.',\n",
       " '판매자에게 이벤트 상금을 지원받아 직접 구매 후 솔직한 의견으로 작성하였습니다 검은 곡식으로 만들었다고 해서 향기가 이상할까',\n",
       " '판매자에게 제품비의 일부를 지원받았으나 저의 솔직한 후기입니다!',\n",
       " '판매자에게 제품비의 일부를 지원받았지만 저의 솔직한 후기입니다 출산 후 머리 빠짐, 떡짐이 너무 심해져서 고민이였습니다.',\n",
       " '판매자에게 제품비의 일부를 제공받았지만 저의 솔직한 후기입니다!',\n",
       " '판매자에게 제품비의 일부를 지원받았지만 저의 솔직한 후기입니다.',\n",
       " '판매자에게 상품비의 일부를 지원받았지만 저의 솔직한 후기입니다.',\n",
       " '판매자에게 제품비의 일부를 지원받았지만 저의 솔직한 후기입니다기존에 아쿠아딥 클린 가려 운 두피용 샴푸 사용으로 두피 가려움',\n",
       " '판매자에게 이벤트 상금을 지원받아 직접 구매 후 솔직한 의견으로 작성하였습니다청 미정샴푸 워낙 유명하죠.',\n",
       " '판매자에게 제품비의 일부를 지원받았지만 저의 솔직한 리뷰입니다',\n",
       " '판매자에게 제품비의 일부를 지원받았지만 솔직한 후기입니다',\n",
       " '판매자에게 제품의 일부를 지원받았지만 솔직한 후기입니다',\n",
       " '판매자에게 제품비의 일부를 지원받았지만 저의 솔직한 후기입니다 여름엔 쿨링 샴푸죠.',\n",
       " '판매자에게 제품 비용의 일부를 지원받아 작성했지만, 직접 사용해보고 솔직하게 리뷰했습니다.',\n",
       " '판매자에게 제품의 일부를 지원받았지만 저의 아주 아주 솔직한 후기입니다!',\n",
       " '판매자에게 제품비에 일부를 지원받았지만 저의 솔직한 후기입니다',\n",
       " '판매자에게 제품비의 일부를 제공받았지만 솔직한 후기입니다',\n",
       " '판매자에게 제품비의 일부를 지원받았지만 저의 솔직한 후기입니다 닥터그루트 항상 사용하는 제품인데요 제품은 첨사용해봤어',\n",
       " '판매자에게 이벤트 상금을 지원받아 직접 구매 후 솔직한 의견으로 작성하였습니다 써보고 싶었던 제품인데 이번 기회로 샴푸 정착할',\n",
       " '판매자에게 제품비의 일부를 제공받았지만 직접 사용한 후 솔직하게 쓰는 저의 리뷰입니다',\n",
       " '판매자에게 제품비의 일구를 지원받았지만 저의 솔직한 후기입니다.',\n",
       " '판매자에게 재품비 일부를 지원받았지만 저의 솔직한 후기입니다.',\n",
       " '판매자에게 제품비의 일부를 제공받았지만 솔직한 후기입니다!',\n",
       " '판매자에게 제품비의 일부를 지원받았지만 저의 솔직한 후기입니다 닥터그루트 여러 제품 써봤는데 여름이라 두피쿨링 제품으로 선택했',\n",
       " '판매자에게 제품비의 일부를 지원받았지만 저의 솔직한 후기입니다.!',\n",
       " '판매자에게 제품비의 일부를 지원받았지만 저의 솔직한 후기입니다지성 두피용은 두통째 사용 중이네요.']"
      ]
     },
     "execution_count": 23,
     "metadata": {},
     "output_type": "execute_result"
    }
   ],
   "source": [
    "# \"판매자에게\" 로 시작\n",
    "pattern1"
   ]
  },
  {
   "cell_type": "code",
   "execution_count": 24,
   "id": "a0e11965-fc42-49b2-9264-70a4abf72f10",
   "metadata": {},
   "outputs": [
    {
     "data": {
      "text/plain": [
       "['판매자로부터 제품 비 일부를 지원받았지만 솔직하게 작성한 후기입니다',\n",
       " '판매자로부터 제품비의 일부를 지원받았지만 저의 솔직한 후기입니다',\n",
       " '판매자로부터 제품의 일부 비용을 지원받았습니다만 제 솔직한 후기를 올립니다.',\n",
       " '판매자로부터 제품 비 일부를 지원받았지만 저의 솔직한 리뷰입니다']"
      ]
     },
     "execution_count": 24,
     "metadata": {},
     "output_type": "execute_result"
    }
   ],
   "source": [
    "# \"판매자로부터\" 로 시작\n",
    "pattern2"
   ]
  },
  {
   "cell_type": "code",
   "execution_count": 25,
   "id": "ff940c5e-81b8-4369-a4c4-5692cce29c99",
   "metadata": {},
   "outputs": [
    {
     "data": {
      "text/plain": [
       "['업체로부터 제품을 지원받아 사용 후 솔직하게 작성한 후기입니다',\n",
       " '업체로부터 제품을 할인받아 구매해서 솔직하게 작성한 리뷰입니다',\n",
       " '업체로부터 제품을 제공받아 실사용 후 솔직하게 작성된 리뷰입니다',\n",
       " '업체로부터 지원받아 사용 후 작성하는 리뷰입니다']"
      ]
     },
     "execution_count": 25,
     "metadata": {},
     "output_type": "execute_result"
    }
   ],
   "source": [
    "# \"업체로부터\" 로 시작\n",
    "pattern3"
   ]
  },
  {
   "cell_type": "code",
   "execution_count": 26,
   "id": "e6565c97-1473-47c7-8c3d-caa4ba97fbca",
   "metadata": {},
   "outputs": [
    {
     "data": {
      "text/plain": [
       "['본 상품 후기는 체험단으로 선정되어 CJ올리브영으로부터 위상품을 무료로 제공받아 작성한 것입니다.',\n",
       " '본 상품 후기는 체험담으로 선정되어 CJ올리브영으로부터 위상품으로 무료로 제공받아 작성한 것입니다.']"
      ]
     },
     "execution_count": 26,
     "metadata": {},
     "output_type": "execute_result"
    }
   ],
   "source": [
    "# \"본 상품 후기는\" 로 시작\n",
    "pattern4"
   ]
  },
  {
   "cell_type": "code",
   "execution_count": 35,
   "id": "d25c06e8-8e8f-4bea-bfb1-752e3f077085",
   "metadata": {},
   "outputs": [],
   "source": [
    "def del_sponsored(text):\n",
    "    sponsored_pattern = r'''\n",
    "        (판매자(에게|로부터)|업체로부터|본\\s상품\\s후기는).{0,70}?\n",
    "        (후기(입니다|입니다타|에요|입니\\s?다)?|\n",
    "         리뷰(입니다|했습니다|적었습니다|하였습니다|입니다요)?|\n",
    "         작성하였습니다|기남겨요|기랍니다|흐기입니다|전달합니다|올립니다|것\\s?입니다)\n",
    "        [!.~\\s]{0,2}\n",
    "    '''\n",
    "    sponsored_pattern = re.compile(sponsored_pattern, flags=re.VERBOSE)\n",
    "    text = sponsored_pattern.sub(' ', text)\n",
    "    \n",
    "    return text.strip()"
   ]
  },
  {
   "cell_type": "code",
   "execution_count": 36,
   "id": "5900c47a-c927-4aa1-94ea-e77f9254954e",
   "metadata": {},
   "outputs": [
    {
     "data": {
      "text/plain": [
       "'향은 멘톨이 들어가서 그런가 시원한향이나고쿨링감이 시원하게 좋은느낌이 오래가고 다른샴푸는 양모효과라고 하면서 머리가 뻣뻣해지는 느낌이 나는데 이샴푸는 머리결이 더 부드러워지고 머리가 조금 덜 간지러워서 좋은것같아요 다쓰고나면 재구매 의향이 있습니다'"
      ]
     },
     "execution_count": 36,
     "metadata": {},
     "output_type": "execute_result"
    }
   ],
   "source": [
    "# 테스트\n",
    "del_sponsored(\"향은 멘톨이 들어가서 그런가 시원한향이나고쿨링감이 시원하게 좋은느낌이 오래가고 다른샴푸는 양모효과라고 하면서 머리가 뻣뻣해지는 느낌이 나는데 이샴푸는 머리결이 더 부드러워지고 머리가 조금 덜 간지러워서 좋은것같아요 다쓰고나면 재구매 의향이 있습니다 본 상품 후기는 체험단으로 선정되어 CJ올리브영으로부터 위 상품을 무료로 제공받아 작성한 것입니다.\")"
   ]
  },
  {
   "cell_type": "code",
   "execution_count": 37,
   "id": "ee8b459c-c0a1-4ce1-a8c2-a93711b3d800",
   "metadata": {},
   "outputs": [
    {
     "name": "stderr",
     "output_type": "stream",
     "text": [
      "C:\\Users\\Woojung\\AppData\\Local\\Temp\\ipykernel_30792\\1255005365.py:1: SettingWithCopyWarning: \n",
      "A value is trying to be set on a copy of a slice from a DataFrame.\n",
      "Try using .loc[row_indexer,col_indexer] = value instead\n",
      "\n",
      "See the caveats in the documentation: https://pandas.pydata.org/pandas-docs/stable/user_guide/indexing.html#returning-a-view-versus-a-copy\n",
      "  newdf[\"clean리뷰\"] = newdf[\"clean리뷰\"].apply(del_sponsored)\n"
     ]
    }
   ],
   "source": [
    "newdf[\"clean리뷰\"] = newdf[\"clean리뷰\"].apply(del_sponsored)"
   ]
  },
  {
   "cell_type": "code",
   "execution_count": 38,
   "id": "9ed83195-b143-4fa3-a0e0-63e8d4564729",
   "metadata": {},
   "outputs": [
    {
     "name": "stdout",
     "output_type": "stream",
     "text": [
      "129.35936411078126 74.0 0 1331\n",
      "41.0 161.0\n"
     ]
    }
   ],
   "source": [
    "# clean리뷰의 길이 통계값\n",
    "lengths = np.array([len(x) for x in newdf[\"clean리뷰\"]])\n",
    "print(np.mean(lengths), np.median(lengths), np.min(lengths), np.max(lengths))\n",
    "print(np.percentile(lengths, 25), np.percentile(lengths, 75))"
   ]
  },
  {
   "cell_type": "code",
   "execution_count": 39,
   "id": "b4dc6ca6-4e2f-4acb-94a6-2173e3cf584f",
   "metadata": {},
   "outputs": [],
   "source": [
    "newdf = newdf[newdf[\"clean리뷰\"].map(lambda x: len(x) >= 10)]"
   ]
  },
  {
   "cell_type": "markdown",
   "id": "ea4687ed-b1a1-4f97-8c2b-ff5595a5aada",
   "metadata": {},
   "source": [
    "- 리뷰 길이가 10 미만인 51개 행 삭제"
   ]
  },
  {
   "cell_type": "code",
   "execution_count": 40,
   "id": "ab9f663d-d03a-433a-b04f-0a150cadf4c4",
   "metadata": {},
   "outputs": [
    {
     "data": {
      "text/plain": [
       "(182182, 33)"
      ]
     },
     "execution_count": 40,
     "metadata": {},
     "output_type": "execute_result"
    }
   ],
   "source": [
    "newdf.shape"
   ]
  },
  {
   "cell_type": "code",
   "execution_count": 43,
   "id": "303b04c5-1932-4621-9519-c9e982926d71",
   "metadata": {},
   "outputs": [],
   "source": [
    "newdf.to_csv(\"./data/shampoo/oliveyoung_cleaned2.csv\", index = False)"
   ]
  }
 ],
 "metadata": {
  "kernelspec": {
   "display_name": "Python 3 (ipykernel)",
   "language": "python",
   "name": "python3"
  },
  "language_info": {
   "codemirror_mode": {
    "name": "ipython",
    "version": 3
   },
   "file_extension": ".py",
   "mimetype": "text/x-python",
   "name": "python",
   "nbconvert_exporter": "python",
   "pygments_lexer": "ipython3",
   "version": "3.12.7"
  }
 },
 "nbformat": 4,
 "nbformat_minor": 5
}
