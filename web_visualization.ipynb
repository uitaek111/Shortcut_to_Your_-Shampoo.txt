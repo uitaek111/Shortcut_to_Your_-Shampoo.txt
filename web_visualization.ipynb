{
 "cells": [
  {
   "cell_type": "code",
   "execution_count": 1,
   "id": "6364d917-7be7-436d-90a0-24e92aa2445a",
   "metadata": {},
   "outputs": [],
   "source": [
    "import pandas as pd\n",
    "import numpy as np\n",
    "import matplotlib.pyplot as plt\n",
    "import seaborn as sns\n",
    "from pykospacing import Spacing\n",
    "from kiwipiepy import Kiwi\n",
    "import re\n",
    "from collections import Counter\n",
    "import random\n",
    "from math import pi\n",
    "import warnings\n",
    "warnings.filterwarnings(\"ignore\")"
   ]
  },
  {
   "cell_type": "code",
   "execution_count": 2,
   "id": "49eea444-7774-4835-b943-7cf3770a0ef8",
   "metadata": {},
   "outputs": [],
   "source": [
    "plt.rcParams['font.family'] = 'Malgun Gothic'"
   ]
  },
  {
   "cell_type": "code",
   "execution_count": 3,
   "id": "51980d8d-d583-41a1-a08e-459098d059df",
   "metadata": {},
   "outputs": [],
   "source": [
    "pd.set_option('display.max_colwidth', None)"
   ]
  },
  {
   "cell_type": "code",
   "execution_count": 4,
   "id": "1e4b3824-8a6a-4df6-9fd1-b5dc07f9abf8",
   "metadata": {},
   "outputs": [],
   "source": [
    "df = pd.read_json(\"./data/converted_Labeled_reviews(JJINMAK).jsonl\", lines = True)"
   ]
  },
  {
   "cell_type": "markdown",
   "id": "8a108cb3-ba33-4f5e-8683-e4f341083952",
   "metadata": {},
   "source": [
    "# 샘플 db 용 데이터프레임 만들기\n",
    "\n",
    "- 무시해도 됩니다!!!"
   ]
  },
  {
   "cell_type": "code",
   "execution_count": 5,
   "id": "eecfbeb5-6846-45a6-a72a-362437f849b8",
   "metadata": {},
   "outputs": [],
   "source": [
    "def extract_labels(annotation):\n",
    "    pair_lst = []\n",
    "    aspect_lst = []\n",
    "    for i in range(0, len(annotation)):\n",
    "        aspect = annotation[i][0]\n",
    "        polarity = annotation[i][2]\n",
    "        \n",
    "        if aspect not in aspect_lst:\n",
    "            aspect_lst.append(aspect)\n",
    "            pair_lst.append((aspect, polarity))\n",
    "\n",
    "    return pair_lst"
   ]
  },
  {
   "cell_type": "code",
   "execution_count": 6,
   "id": "3bfb96f1-e385-48a3-93bb-4306ce64e1b5",
   "metadata": {},
   "outputs": [],
   "source": [
    "df[\"labels\"] = df[\"annotation\"].map(extract_labels)"
   ]
  },
  {
   "cell_type": "code",
   "execution_count": 7,
   "id": "f918c7e8-36e8-4191-bc05-0c3df43b0dc9",
   "metadata": {},
   "outputs": [],
   "source": [
    "temp_name = [\n",
    "    '레몬 샴푸 520mL 2입, 퍼퓸 샴푸 520mL 2입 중 택 1',\n",
    "    '가려운 두피케어샴푸 520mL 2입 기획, 쿨멘솔 520mL 2입 기획 중 택 1',\n",
    "    '프리미엄 샴푸 (본품300g+6gx5매 추가 증정)',\n",
    "    '모이스처 샴푸 모로칸 가드너 300ml',\n",
    "    '가려운 두피케어 샴푸 850ml',\n",
    "    'BD샴푸 500g',\n",
    "    '프로페셔널 오일컨트롤 샴푸 300ml',\n",
    "    '헤어리프팅 샴푸 엑스트라 스트롱 475ml (단품/증정기획)'         \n",
    "            ]"
   ]
  },
  {
   "cell_type": "code",
   "execution_count": 8,
   "id": "89b77d53-6845-4aa0-92e7-3f917c305b84",
   "metadata": {},
   "outputs": [],
   "source": [
    "df[\"name\"] =  random.choices(temp_name, k = len(df))"
   ]
  },
  {
   "cell_type": "code",
   "execution_count": 5,
   "id": "b2028d9d-aea0-47f2-8230-161a363cc83a",
   "metadata": {},
   "outputs": [
    {
     "data": {
      "text/html": [
       "<div>\n",
       "<style scoped>\n",
       "    .dataframe tbody tr th:only-of-type {\n",
       "        vertical-align: middle;\n",
       "    }\n",
       "\n",
       "    .dataframe tbody tr th {\n",
       "        vertical-align: top;\n",
       "    }\n",
       "\n",
       "    .dataframe thead th {\n",
       "        text-align: right;\n",
       "    }\n",
       "</style>\n",
       "<table border=\"1\" class=\"dataframe\">\n",
       "  <thead>\n",
       "    <tr style=\"text-align: right;\">\n",
       "      <th></th>\n",
       "      <th>sentence_form</th>\n",
       "      <th>annotation</th>\n",
       "    </tr>\n",
       "  </thead>\n",
       "  <tbody>\n",
       "    <tr>\n",
       "      <th>0</th>\n",
       "      <td>바오밥 신제품 나와서 사봤어요 시카라인이라서 그런지 두피세정이 잘 되는 느낌이에요</td>\n",
       "      <td>[[세정, [두피세정이 잘 되는 느낌이에요, 29, 45], positive]]</td>\n",
       "    </tr>\n",
       "    <tr>\n",
       "      <th>1</th>\n",
       "      <td>이렇게 예쁜 샴푸는 처음이야종류도 다양하고 저는 탈모샴푸로 비컨피던트 구매해 봤는데 감을 때 시원하고 향도 시원해서 여름에 사용하기 참좋더라구요 향기 좋고 세정력 좋은 샴푸로 추천합니다</td>\n",
       "      <td>[[세정, [시원하고, 52, 56], positive], [향, [향도 시원해서, 57, 64], positive], [향, [향기 좋고, 81, 86], positive], [세정, [세정력 좋은 샴푸, 87, 96], positive]]</td>\n",
       "    </tr>\n",
       "    <tr>\n",
       "      <th>2</th>\n",
       "      <td>케이스부터 고급지네요지루성두피염이라 아무거나 못쓰는 편이라신중히 고르는 편이예요노모어오일이 조금 더 비싸서 좋지 않을까 했는데오일샴푸라 린언미로 겟했어요그런데 딱 원하는 제품이네요뾰루지가 잘 나는 두피인데 염증 완화에 도움을준데요합성계면 활성제, 합성 방부제 없고 그외에도 전제품 EWG 98프로 이상 유해성분 제외라고하니믿고 써봅니다향이 시원한 느낌이고 거품도 잘나며 개운한느낌입니다</td>\n",
       "      <td>[[향, [향이 시원한 느낌이고, 187, 198], positive], [거품, [거품도 잘나며, 199, 206], positive], [세정, [개운한느낌입니다, 207, 215], positive]]</td>\n",
       "    </tr>\n",
       "    <tr>\n",
       "      <th>3</th>\n",
       "      <td>좋아요.리필팩도 들어있어서원플러스 원처럼 구입하게 되서 좋아요.</td>\n",
       "      <td>[[가격, [원플러스 원처럼 구입하게 되서 좋아요, 14, 34], positive]]</td>\n",
       "    </tr>\n",
       "    <tr>\n",
       "      <th>4</th>\n",
       "      <td>샴푸를 잘못 구매하면 머리가 떡지거나 거품이 잘안나거나 샴푸후 머리가 푸석해져서 몹시 까다로운편인데이건 가격도 합리적이고 향도 매우좋은 로즈향?같이 나서 샴푸할때마다 기분이 너무 좋아요 또 거품도 쫀쫀하게 나고 하고나서 세정력도 좋아요! 샴푸후 푸석거림도 없습니다영양까지는 모르겠지만 기본으로 적당한 샴푸 찾으시면 무난히 성공합니다</td>\n",
       "      <td>[[가격, [가격도 합리적이고, 58, 67], positive], [향, [향도 매우좋은, 68, 75], positive], [거품, [거품도 쫀쫀하게, 106, 114], positive], [세정, [세정력도 좋아요, 123, 131], positive], [머릿결, [푸석거림도 없습니다, 137, 147], positive]]</td>\n",
       "    </tr>\n",
       "  </tbody>\n",
       "</table>\n",
       "</div>"
      ],
      "text/plain": [
       "                                                                                                                                                                                                             sentence_form  \\\n",
       "0                                                                                                                                                                            바오밥 신제품 나와서 사봤어요 시카라인이라서 그런지 두피세정이 잘 되는 느낌이에요   \n",
       "1                                                                                                                  이렇게 예쁜 샴푸는 처음이야종류도 다양하고 저는 탈모샴푸로 비컨피던트 구매해 봤는데 감을 때 시원하고 향도 시원해서 여름에 사용하기 참좋더라구요 향기 좋고 세정력 좋은 샴푸로 추천합니다   \n",
       "2  케이스부터 고급지네요지루성두피염이라 아무거나 못쓰는 편이라신중히 고르는 편이예요노모어오일이 조금 더 비싸서 좋지 않을까 했는데오일샴푸라 린언미로 겟했어요그런데 딱 원하는 제품이네요뾰루지가 잘 나는 두피인데 염증 완화에 도움을준데요합성계면 활성제, 합성 방부제 없고 그외에도 전제품 EWG 98프로 이상 유해성분 제외라고하니믿고 써봅니다향이 시원한 느낌이고 거품도 잘나며 개운한느낌입니다   \n",
       "3                                                                                                                                                                                      좋아요.리필팩도 들어있어서원플러스 원처럼 구입하게 되서 좋아요.   \n",
       "4                                샴푸를 잘못 구매하면 머리가 떡지거나 거품이 잘안나거나 샴푸후 머리가 푸석해져서 몹시 까다로운편인데이건 가격도 합리적이고 향도 매우좋은 로즈향?같이 나서 샴푸할때마다 기분이 너무 좋아요 또 거품도 쫀쫀하게 나고 하고나서 세정력도 좋아요! 샴푸후 푸석거림도 없습니다영양까지는 모르겠지만 기본으로 적당한 샴푸 찾으시면 무난히 성공합니다   \n",
       "\n",
       "                                                                                                                                                                                     annotation  \n",
       "0                                                                                                                                                  [[세정, [두피세정이 잘 되는 느낌이에요, 29, 45], positive]]  \n",
       "1                                                       [[세정, [시원하고, 52, 56], positive], [향, [향도 시원해서, 57, 64], positive], [향, [향기 좋고, 81, 86], positive], [세정, [세정력 좋은 샴푸, 87, 96], positive]]  \n",
       "2                                                                           [[향, [향이 시원한 느낌이고, 187, 198], positive], [거품, [거품도 잘나며, 199, 206], positive], [세정, [개운한느낌입니다, 207, 215], positive]]  \n",
       "3                                                                                                                                              [[가격, [원플러스 원처럼 구입하게 되서 좋아요, 14, 34], positive]]  \n",
       "4  [[가격, [가격도 합리적이고, 58, 67], positive], [향, [향도 매우좋은, 68, 75], positive], [거품, [거품도 쫀쫀하게, 106, 114], positive], [세정, [세정력도 좋아요, 123, 131], positive], [머릿결, [푸석거림도 없습니다, 137, 147], positive]]  "
      ]
     },
     "execution_count": 5,
     "metadata": {},
     "output_type": "execute_result"
    }
   ],
   "source": [
    "df.head()"
   ]
  },
  {
   "cell_type": "code",
   "execution_count": 10,
   "id": "196152b6-b72a-4002-bd8a-5fc8a6112ec8",
   "metadata": {},
   "outputs": [],
   "source": [
    "# DB 에 들어갈 형식으로 변환\n",
    "db_data = []\n",
    "for i in range(0, len(df)):\n",
    "    sentence_form = df.loc[i, \"sentence_form\"]\n",
    "    name = df.loc[i, \"name\"]\n",
    "    for aspect, sentiment in df.loc[i, \"labels\"]:\n",
    "        db_data.append({\n",
    "            \"name\" : name,\n",
    "            \"sentence\" : sentence_form,\n",
    "            \"aspect\" : aspect,\n",
    "            \"sentiment\" : sentiment\n",
    "        })\n",
    "db_df = pd.DataFrame(db_data)"
   ]
  },
  {
   "cell_type": "code",
   "execution_count": 11,
   "id": "f65a2a51-9771-45c9-a83a-67dbbdaec27d",
   "metadata": {},
   "outputs": [
    {
     "data": {
      "text/plain": [
       "True"
      ]
     },
     "execution_count": 11,
     "metadata": {},
     "output_type": "execute_result"
    }
   ],
   "source": [
    "# df의 라벨 수와 db용 df의 길이 비교\n",
    "db_df.shape[0] == df[\"labels\"].map(lambda x: len(x)).sum()"
   ]
  },
  {
   "cell_type": "code",
   "execution_count": 12,
   "id": "74696927-8b44-40f2-bb50-6872d93ab05b",
   "metadata": {},
   "outputs": [],
   "source": [
    "# db_df 는 크롤링한 전체 데이터에 레이블 열이 추가된 데이터프레임\n",
    "# grouped 는 AspectSentiment 테이블을 생성하기 위해 name (제품명) 을 기준으로 그룹화\n",
    "grouped = db_df.groupby([\"name\"], observed = True)"
   ]
  },
  {
   "cell_type": "code",
   "execution_count": 13,
   "id": "22a5c46f-f0f6-40b6-ad8b-4cfed153fc43",
   "metadata": {},
   "outputs": [],
   "source": [
    "def count_pairs(gp):\n",
    "    count_dict = {pair : 0 for pair in pair_labels}\n",
    "    for aspect, sentiment in gp[[\"aspect\", \"sentiment\"]].values:\n",
    "        for pair in pair_labels:\n",
    "            if aspect == pair[0] and sentiment == pair[1]:\n",
    "                count_dict[pair] += 1\n",
    "                break\n",
    "\n",
    "    return count_dict"
   ]
  },
  {
   "cell_type": "code",
   "execution_count": 14,
   "id": "d40bd43e-a760-45ca-86cc-cad3a2f9384e",
   "metadata": {},
   "outputs": [],
   "source": [
    "def compute_ratio(gp_df):\n",
    "    total = gp_df.groupby(\"aspect\")[\"count\"].sum()\n",
    "    gp_df[\"total\"] = gp_df[\"aspect\"].map(lambda x: total[x])\n",
    "    gp_df[\"ratio\"] = gp_df.apply(\n",
    "        lambda x: round(x['count'] / x['total'], 4) if x['total'] != 0 else 0,\n",
    "        axis=1\n",
    "    )\n",
    "    return gp_df"
   ]
  },
  {
   "cell_type": "code",
   "execution_count": 20,
   "id": "35f1dc2c-5ed0-4441-b077-0f9101c6d64d",
   "metadata": {},
   "outputs": [],
   "source": [
    "entity_name = [\n",
    "    '세정', '자극', '거품', '향', '가격', '머릿결', '탈모', '쿨링'\n",
    "]\n",
    "polarity_name = [\n",
    "    'positive', 'neutral', 'negative'\n",
    "]\n",
    "pair_labels = [(entity, polarity) for polarity in polarity_name for entity in entity_name]\n",
    "pair_labels.append(('없음', '-'))"
   ]
  },
  {
   "cell_type": "code",
   "execution_count": 21,
   "id": "b4d2da35-5bb3-4e7f-b0a8-fbb015fad1ec",
   "metadata": {},
   "outputs": [],
   "source": [
    "# 종합해서 전체 데이터프레임 생성\n",
    "gp_keys = list(grouped.groups.keys())\n",
    "db_df = pd.DataFrame(columns=['name', 'aspect', 'sentiment', 'total', 'ratio'])\n",
    "\n",
    "for key in gp_keys:\n",
    "    gp = grouped.get_group((key))\n",
    "    count_dict = count_pairs(gp)\n",
    "    gp_df = pd.Series(count_dict).reset_index()\n",
    "    gp_df.columns = ['aspect', 'sentiment', 'count']\n",
    "    gp_df = gp_df.sort_values(by=\"aspect\")\n",
    "    gp_df = compute_ratio(gp_df)\n",
    "    gp_df[\"name\"] = [key] * len(gp_df)\n",
    "\n",
    "    db_df = pd.concat([db_df, gp_df], axis = 0)"
   ]
  },
  {
   "cell_type": "code",
   "execution_count": 22,
   "id": "4eee5933-304b-44f6-9429-3c7790febfdd",
   "metadata": {},
   "outputs": [
    {
     "data": {
      "text/html": [
       "<div>\n",
       "<style scoped>\n",
       "    .dataframe tbody tr th:only-of-type {\n",
       "        vertical-align: middle;\n",
       "    }\n",
       "\n",
       "    .dataframe tbody tr th {\n",
       "        vertical-align: top;\n",
       "    }\n",
       "\n",
       "    .dataframe thead th {\n",
       "        text-align: right;\n",
       "    }\n",
       "</style>\n",
       "<table border=\"1\" class=\"dataframe\">\n",
       "  <thead>\n",
       "    <tr style=\"text-align: right;\">\n",
       "      <th></th>\n",
       "      <th>name</th>\n",
       "      <th>aspect</th>\n",
       "      <th>sentiment</th>\n",
       "      <th>total</th>\n",
       "      <th>ratio</th>\n",
       "      <th>count</th>\n",
       "    </tr>\n",
       "  </thead>\n",
       "  <tbody>\n",
       "    <tr>\n",
       "      <th>12</th>\n",
       "      <td>BD샴푸 500g</td>\n",
       "      <td>가격</td>\n",
       "      <td>neutral</td>\n",
       "      <td>33</td>\n",
       "      <td>0.0303</td>\n",
       "      <td>1.0</td>\n",
       "    </tr>\n",
       "    <tr>\n",
       "      <th>20</th>\n",
       "      <td>BD샴푸 500g</td>\n",
       "      <td>가격</td>\n",
       "      <td>negative</td>\n",
       "      <td>33</td>\n",
       "      <td>0.1818</td>\n",
       "      <td>6.0</td>\n",
       "    </tr>\n",
       "    <tr>\n",
       "      <th>4</th>\n",
       "      <td>BD샴푸 500g</td>\n",
       "      <td>가격</td>\n",
       "      <td>positive</td>\n",
       "      <td>33</td>\n",
       "      <td>0.7879</td>\n",
       "      <td>26.0</td>\n",
       "    </tr>\n",
       "    <tr>\n",
       "      <th>2</th>\n",
       "      <td>BD샴푸 500g</td>\n",
       "      <td>거품</td>\n",
       "      <td>positive</td>\n",
       "      <td>105</td>\n",
       "      <td>0.8286</td>\n",
       "      <td>87.0</td>\n",
       "    </tr>\n",
       "    <tr>\n",
       "      <th>18</th>\n",
       "      <td>BD샴푸 500g</td>\n",
       "      <td>거품</td>\n",
       "      <td>negative</td>\n",
       "      <td>105</td>\n",
       "      <td>0.1143</td>\n",
       "      <td>12.0</td>\n",
       "    </tr>\n",
       "  </tbody>\n",
       "</table>\n",
       "</div>"
      ],
      "text/plain": [
       "         name aspect sentiment total   ratio  count\n",
       "12  BD샴푸 500g     가격   neutral    33  0.0303    1.0\n",
       "20  BD샴푸 500g     가격  negative    33  0.1818    6.0\n",
       "4   BD샴푸 500g     가격  positive    33  0.7879   26.0\n",
       "2   BD샴푸 500g     거품  positive   105  0.8286   87.0\n",
       "18  BD샴푸 500g     거품  negative   105  0.1143   12.0"
      ]
     },
     "execution_count": 22,
     "metadata": {},
     "output_type": "execute_result"
    }
   ],
   "source": [
    "db_df.head()"
   ]
  },
  {
   "cell_type": "code",
   "execution_count": 23,
   "id": "fb03ca4f-0f7d-4181-a626-ac8f098d5ff8",
   "metadata": {},
   "outputs": [
    {
     "data": {
      "text/plain": [
       "(200, 6)"
      ]
     },
     "execution_count": 23,
     "metadata": {},
     "output_type": "execute_result"
    }
   ],
   "source": [
    "db_df.shape"
   ]
  },
  {
   "cell_type": "markdown",
   "id": "edd89a14-d760-43bf-a766-961d96176309",
   "metadata": {},
   "source": [
    "# 제품명 + 속성 검색\n",
    "\n",
    "- name 대신 shampoo_id"
   ]
  },
  {
   "cell_type": "code",
   "execution_count": null,
   "id": "b290b91f-e1e8-40e4-8e80-d1abdae24e54",
   "metadata": {},
   "outputs": [],
   "source": [
    "# views.py\n",
    "# 제품명 검색\n",
    "def sort_searched_items(request):\n",
    "    # 사용자 입력\n",
    "    searched_name = request.GET.get('name', '')\n",
    "    preferred_aspect = request.GET.getlist('aspect')  # 복수 선택 \n",
    "\n",
    "    # 필터링\n",
    "    filtered = AspectSentiment.objects.filter(\n",
    "                    name__icontains=searched_name,\n",
    "                    aspect__in=preferred_aspect,\n",
    "                    sentiment='positive'\n",
    "                )\n",
    "    \n",
    "    # name 별 평균 ratio 기준 내림차순\n",
    "    ordered = filtered.values('name').annotate(avg_ratio=Avg('ratio')).order_by('-avg_ratio')  \n",
    "\n",
    "    # 정렬된 name 리스트 추출\n",
    "    ordered_names = [item['name'] for item in ordered]\n",
    "\n",
    "    # Shampoo 객체들을 가져오기\n",
    "    shampoos = Shampoo.objects.filter(name__in=ordered_names)\n",
    "\n",
    "    # 딕셔너리로 이름: 객체 매칭 후 순서대로 재정렬\n",
    "    shampoos_map = {shampoo.name: shampoo for shampoo in shampoos}\n",
    "    sorted_shampoos = [shampoos_map[name] for name in ordered_names if name in shampoos_map]\n",
    "\n",
    "    \n",
    "    context = {\n",
    "        'sorted_shampoos': sorted_shampoos,\n",
    "        'search_name': search_name,\n",
    "        'preferred_aspect': preferred_aspect,\n",
    "    }\n",
    "\n",
    "    return render(request, 'main_page.html', context)"
   ]
  },
  {
   "cell_type": "markdown",
   "id": "ba5193e8-92ff-4c16-aa1d-4dde1959947a",
   "metadata": {},
   "source": [
    "# 브랜드 + 속성 검색\n",
    "\n",
    "- name 대신 shampoo_id"
   ]
  },
  {
   "cell_type": "code",
   "execution_count": null,
   "id": "71392d98-eb1d-46de-8d36-5f3df8a9b995",
   "metadata": {},
   "outputs": [],
   "source": [
    "# views.py\n",
    "# 브랜드 검색\n",
    "def sort_searched_brand(request):\n",
    "    # 사용자 입력\n",
    "    searched_brand = request.GET.get('brand', '')\n",
    "    preferred_aspect = request.GET.getlist('aspect')  # 복수 선택 \n",
    "\n",
    "    # 필터링\n",
    "    shampoos = Shampoo.objects.filter(\n",
    "                    brand__icontains=searched_brand\n",
    "                )\n",
    "      \n",
    "    # 브랜드 기준으로 추출된 제품명\n",
    "    brand_filtered_names = shampoos.values_list('name', flat=True)\n",
    "\n",
    "    # AspectSentiment 필터링\n",
    "    filtered = AspectSentiment.objects.filter(\n",
    "        name__in=brand_filtered_names,  # 브랜드 필터된 것만 사용\n",
    "        aspect__in=preferred_aspect,\n",
    "        sentiment='positive'\n",
    "    )\n",
    "\n",
    "    # name 별 평균 ratio 기준 내림차순\n",
    "    ordered = filtered.values('name').annotate(avg_ratio=Avg('ratio')).order_by('-avg_ratio')\n",
    "\n",
    "    # 정렬된 name 리스트 추출\n",
    "    ordered_names = [item['name'] for item in ordered]\n",
    "\n",
    "    # Shampoo 객체들을 가져오기\n",
    "    shampoos = Shampoo.objects.filter(name__in=ordered_names)\n",
    "    \n",
    "    # 딕셔너리로 이름: 객체 매칭 후 순서대로 재정렬\n",
    "    shampoos_map = {shampoo.name: shampoo for shampoo in shampoos}\n",
    "    sorted_shampoos = [shampoos_map[name] for name in ordered_names if name in shampoos_map]\n",
    "\n",
    "    context = {\n",
    "        'sorted_shampoos': sorted_shampoos,\n",
    "        'search_brand': search_brand,\n",
    "        'preferred_aspect': preferred_aspect,\n",
    "    }\n",
    "\n",
    "    return render(request, 'main_page.html', context)"
   ]
  },
  {
   "cell_type": "markdown",
   "id": "0884df0e-b696-44f8-b18e-6b7cf209b024",
   "metadata": {},
   "source": [
    "# 상품별 종합 리뷰 분석\n",
    "\n",
    "- 속성별 감성 막대 쌓기\n",
    "\n",
    "- 속성별 해당 속성이 언급된 비율\n",
    "    - 도넛차트\n",
    " \n",
    "- 속성별 감성 점수\n",
    "    - 긍정ratio * 2 + 중립ratio * 1 + 부정ratio * 0\n",
    "    - 방사형차트 (언급된 리뷰 수로 정렬해서 top5 속성에 대해)"
   ]
  },
  {
   "cell_type": "markdown",
   "id": "4da2c965-5c7c-414e-be09-935486100f3e",
   "metadata": {},
   "source": [
    "## 속성별 감성 막대 쌓기"
   ]
  },
  {
   "cell_type": "code",
   "execution_count": 24,
   "id": "ce2ae87e-cdff-4946-9874-8634ec4bcd1f",
   "metadata": {},
   "outputs": [
    {
     "data": {
      "text/html": [
       "<div>\n",
       "<style scoped>\n",
       "    .dataframe tbody tr th:only-of-type {\n",
       "        vertical-align: middle;\n",
       "    }\n",
       "\n",
       "    .dataframe tbody tr th {\n",
       "        vertical-align: top;\n",
       "    }\n",
       "\n",
       "    .dataframe thead th {\n",
       "        text-align: right;\n",
       "    }\n",
       "</style>\n",
       "<table border=\"1\" class=\"dataframe\">\n",
       "  <thead>\n",
       "    <tr style=\"text-align: right;\">\n",
       "      <th>sentiment</th>\n",
       "      <th>positive</th>\n",
       "      <th>neutral</th>\n",
       "      <th>negative</th>\n",
       "    </tr>\n",
       "    <tr>\n",
       "      <th>aspect</th>\n",
       "      <th></th>\n",
       "      <th></th>\n",
       "      <th></th>\n",
       "    </tr>\n",
       "  </thead>\n",
       "  <tbody>\n",
       "    <tr>\n",
       "      <th>가격</th>\n",
       "      <td>26.0</td>\n",
       "      <td>1.0</td>\n",
       "      <td>6.0</td>\n",
       "    </tr>\n",
       "    <tr>\n",
       "      <th>거품</th>\n",
       "      <td>87.0</td>\n",
       "      <td>6.0</td>\n",
       "      <td>12.0</td>\n",
       "    </tr>\n",
       "    <tr>\n",
       "      <th>머릿결</th>\n",
       "      <td>38.0</td>\n",
       "      <td>5.0</td>\n",
       "      <td>13.0</td>\n",
       "    </tr>\n",
       "    <tr>\n",
       "      <th>세정</th>\n",
       "      <td>103.0</td>\n",
       "      <td>1.0</td>\n",
       "      <td>10.0</td>\n",
       "    </tr>\n",
       "    <tr>\n",
       "      <th>자극</th>\n",
       "      <td>34.0</td>\n",
       "      <td>0.0</td>\n",
       "      <td>2.0</td>\n",
       "    </tr>\n",
       "    <tr>\n",
       "      <th>쿨링</th>\n",
       "      <td>6.0</td>\n",
       "      <td>0.0</td>\n",
       "      <td>0.0</td>\n",
       "    </tr>\n",
       "    <tr>\n",
       "      <th>탈모</th>\n",
       "      <td>12.0</td>\n",
       "      <td>3.0</td>\n",
       "      <td>3.0</td>\n",
       "    </tr>\n",
       "    <tr>\n",
       "      <th>향</th>\n",
       "      <td>102.0</td>\n",
       "      <td>10.0</td>\n",
       "      <td>9.0</td>\n",
       "    </tr>\n",
       "  </tbody>\n",
       "</table>\n",
       "</div>"
      ],
      "text/plain": [
       "sentiment  positive  neutral  negative\n",
       "aspect                                \n",
       "가격             26.0      1.0       6.0\n",
       "거품             87.0      6.0      12.0\n",
       "머릿결            38.0      5.0      13.0\n",
       "세정            103.0      1.0      10.0\n",
       "자극             34.0      0.0       2.0\n",
       "쿨링              6.0      0.0       0.0\n",
       "탈모             12.0      3.0       3.0\n",
       "향             102.0     10.0       9.0"
      ]
     },
     "execution_count": 24,
     "metadata": {},
     "output_type": "execute_result"
    }
   ],
   "source": [
    "name = \"BD샴푸 500g\"\n",
    "data = db_df[(db_df[\"name\"] == name) & (db_df[\"aspect\"] != \"없음\")]\n",
    "pivot_df = data.pivot(index='aspect', columns='sentiment', values='count')\n",
    "pivot_df = pivot_df[['positive', 'neutral', 'negative']]\n",
    "pivot_df"
   ]
  },
  {
   "cell_type": "code",
   "execution_count": 31,
   "id": "8505a09d-5850-4bdb-92d7-1d80c49b74c3",
   "metadata": {},
   "outputs": [
    {
     "data": {
      "image/png": "[encoded data removed]",
      "text/plain": [
       "<Figure size 1000x500 with 1 Axes>"
      ]
     },
     "metadata": {},
     "output_type": "display_data"
    }
   ],
   "source": [
    "# 시각화\n",
    "fig, ax = plt.subplots(figsize=(10, 5)) \n",
    "\n",
    "pivot_df.plot(kind='bar', color=['blue', 'green', 'red'], ax = ax)\n",
    "\n",
    "plt.title('Sentiment per aspect')\n",
    "plt.xlabel('Aspect')\n",
    "plt.ylabel('Frequency')\n",
    "plt.xticks(rotation=0)\n",
    "plt.legend(title='Sentiment')\n",
    "plt.tight_layout()\n",
    "\n",
    "plt.show()"
   ]
  },
  {
   "cell_type": "code",
   "execution_count": null,
   "id": "f411e8e5-4e0a-4d69-b295-6b2d1e1fbfc4",
   "metadata": {},
   "outputs": [],
   "source": []
  },
  {
   "cell_type": "markdown",
   "id": "4f4ba01e-f9a8-4afb-9345-8c2e4fd42282",
   "metadata": {},
   "source": [
    "## 속성별 해당 속성이 언급된 비율"
   ]
  },
  {
   "cell_type": "code",
   "execution_count": 32,
   "id": "51199aba-55ad-4844-9385-dbee8daf7d08",
   "metadata": {},
   "outputs": [
    {
     "data": {
      "text/plain": [
       "name                               aspect\n",
       "BD샴푸 500g                          가격         33.0\n",
       "                                   거품        105.0\n",
       "                                   머릿결        56.0\n",
       "                                   세정        114.0\n",
       "                                   없음          0.0\n",
       "                                             ...  \n",
       "헤어리프팅 샴푸 엑스트라 스트롱 475ml (단품/증정기획)  없음          0.0\n",
       "                                   자극         29.0\n",
       "                                   쿨링          4.0\n",
       "                                   탈모         16.0\n",
       "                                   향          95.0\n",
       "Name: total, Length: 72, dtype: object"
      ]
     },
     "execution_count": 32,
     "metadata": {},
     "output_type": "execute_result"
    }
   ],
   "source": [
    "total_per_aspect = db_df.groupby([\"name\", \"aspect\"])[\"total\"].mean()\n",
    "total_per_aspect"
   ]
  },
  {
   "cell_type": "code",
   "execution_count": 35,
   "id": "47107f95-78d5-474b-8292-11917d9a5ce2",
   "metadata": {},
   "outputs": [
    {
     "data": {
      "text/plain": [
       "(Index(['향', '세정', '거품', '머릿결', '자극', '가격', '기타'], dtype='object', name='aspect'),\n",
       " array([121.0, 114.0, 105.0, 56.0, 36.0, 33.0, 24.0], dtype=object))"
      ]
     },
     "execution_count": 35,
     "metadata": {},
     "output_type": "execute_result"
    }
   ],
   "source": [
    "name = \"BD샴푸 500g\"\n",
    "data = total_per_aspect[name]\n",
    "# 0 인 데이터 제거\n",
    "data = data[data > 0]\n",
    "\n",
    "# 특정 비율 미만인 항목 필터링해서 기타로 묶기\n",
    "ratio = 0.05\n",
    "threshold = data.sum() * ratio\n",
    "others = data[data < threshold]\n",
    "graph_data = data[data >= threshold]\n",
    "\n",
    "if not others.empty:\n",
    "     graph_data[\"기타\"] = others.sum()\n",
    "\n",
    "# 내림차순 정렬\n",
    "graph_data = graph_data.sort_values(ascending = False)\n",
    "\n",
    "\n",
    "graph_data.index, graph_data.values"
   ]
  },
  {
   "cell_type": "code",
   "execution_count": 36,
   "id": "479e81c7-b855-4d60-914a-0bd27ae930d4",
   "metadata": {},
   "outputs": [
    {
     "data": {
      "image/png": "[encoded data removed]",
      "text/plain": [
       "<Figure size 640x480 with 1 Axes>"
      ]
     },
     "metadata": {},
     "output_type": "display_data"
    }
   ],
   "source": [
    "count = graph_data.values\n",
    "labels = graph_data.index\n",
    "\n",
    "wedgeprops = {\"width\" : 0.7, \"edgecolor\" : \"w\", \"linewidth\" : 3} # 차트 형태 옵션\n",
    "\n",
    "plt.pie(count, labels = labels, autopct = \"%.1f%%\", startangle = 90, counterclock = False,\n",
    "        wedgeprops = wedgeprops) \n",
    "\n",
    "plt.text(0, 0, f\"총 리뷰 수 \\n ({round(graph_data.values.sum())}개)\", ha = \"center\", va = \"center\")\n",
    "\n",
    "plt.show()"
   ]
  },
  {
   "cell_type": "code",
   "execution_count": null,
   "id": "146c1ea9-93b2-482a-b8d0-b9753bfcf838",
   "metadata": {},
   "outputs": [],
   "source": []
  },
  {
   "cell_type": "markdown",
   "id": "15b316cc-22ef-43aa-9257-86206959d9bb",
   "metadata": {},
   "source": [
    "## 속성별 감성 점수"
   ]
  },
  {
   "cell_type": "code",
   "execution_count": 37,
   "id": "e7445119-6763-4eea-a4c4-68c6e159de8c",
   "metadata": {},
   "outputs": [
    {
     "data": {
      "text/html": [
       "<div>\n",
       "<style scoped>\n",
       "    .dataframe tbody tr th:only-of-type {\n",
       "        vertical-align: middle;\n",
       "    }\n",
       "\n",
       "    .dataframe tbody tr th {\n",
       "        vertical-align: top;\n",
       "    }\n",
       "\n",
       "    .dataframe thead th {\n",
       "        text-align: right;\n",
       "    }\n",
       "</style>\n",
       "<table border=\"1\" class=\"dataframe\">\n",
       "  <thead>\n",
       "    <tr style=\"text-align: right;\">\n",
       "      <th></th>\n",
       "      <th>name</th>\n",
       "      <th>aspect</th>\n",
       "      <th>sentiment</th>\n",
       "      <th>total</th>\n",
       "      <th>ratio</th>\n",
       "      <th>count</th>\n",
       "    </tr>\n",
       "  </thead>\n",
       "  <tbody>\n",
       "    <tr>\n",
       "      <th>12</th>\n",
       "      <td>BD샴푸 500g</td>\n",
       "      <td>가격</td>\n",
       "      <td>neutral</td>\n",
       "      <td>33</td>\n",
       "      <td>0.0303</td>\n",
       "      <td>1.0</td>\n",
       "    </tr>\n",
       "    <tr>\n",
       "      <th>20</th>\n",
       "      <td>BD샴푸 500g</td>\n",
       "      <td>가격</td>\n",
       "      <td>negative</td>\n",
       "      <td>33</td>\n",
       "      <td>0.1818</td>\n",
       "      <td>6.0</td>\n",
       "    </tr>\n",
       "    <tr>\n",
       "      <th>4</th>\n",
       "      <td>BD샴푸 500g</td>\n",
       "      <td>가격</td>\n",
       "      <td>positive</td>\n",
       "      <td>33</td>\n",
       "      <td>0.7879</td>\n",
       "      <td>26.0</td>\n",
       "    </tr>\n",
       "    <tr>\n",
       "      <th>2</th>\n",
       "      <td>BD샴푸 500g</td>\n",
       "      <td>거품</td>\n",
       "      <td>positive</td>\n",
       "      <td>105</td>\n",
       "      <td>0.8286</td>\n",
       "      <td>87.0</td>\n",
       "    </tr>\n",
       "    <tr>\n",
       "      <th>18</th>\n",
       "      <td>BD샴푸 500g</td>\n",
       "      <td>거품</td>\n",
       "      <td>negative</td>\n",
       "      <td>105</td>\n",
       "      <td>0.1143</td>\n",
       "      <td>12.0</td>\n",
       "    </tr>\n",
       "  </tbody>\n",
       "</table>\n",
       "</div>"
      ],
      "text/plain": [
       "         name aspect sentiment total   ratio  count\n",
       "12  BD샴푸 500g     가격   neutral    33  0.0303    1.0\n",
       "20  BD샴푸 500g     가격  negative    33  0.1818    6.0\n",
       "4   BD샴푸 500g     가격  positive    33  0.7879   26.0\n",
       "2   BD샴푸 500g     거품  positive   105  0.8286   87.0\n",
       "18  BD샴푸 500g     거품  negative   105  0.1143   12.0"
      ]
     },
     "execution_count": 37,
     "metadata": {},
     "output_type": "execute_result"
    }
   ],
   "source": [
    "name = \"BD샴푸 500g\"\n",
    "data = db_df[(db_df[\"name\"] == name) & (db_df[\"aspect\"] != \"없음\")]\n",
    "data.head()"
   ]
  },
  {
   "cell_type": "code",
   "execution_count": 39,
   "id": "62026d7c-5b8f-4f16-8ec2-c2fdfc0f45e4",
   "metadata": {},
   "outputs": [
    {
     "data": {
      "text/html": [
       "<div>\n",
       "<style scoped>\n",
       "    .dataframe tbody tr th:only-of-type {\n",
       "        vertical-align: middle;\n",
       "    }\n",
       "\n",
       "    .dataframe tbody tr th {\n",
       "        vertical-align: top;\n",
       "    }\n",
       "\n",
       "    .dataframe thead th {\n",
       "        text-align: right;\n",
       "    }\n",
       "</style>\n",
       "<table border=\"1\" class=\"dataframe\">\n",
       "  <thead>\n",
       "    <tr style=\"text-align: right;\">\n",
       "      <th></th>\n",
       "      <th>name</th>\n",
       "      <th>aspect</th>\n",
       "      <th>sentiment</th>\n",
       "      <th>total</th>\n",
       "      <th>ratio</th>\n",
       "      <th>count</th>\n",
       "    </tr>\n",
       "  </thead>\n",
       "  <tbody>\n",
       "    <tr>\n",
       "      <th>12</th>\n",
       "      <td>BD샴푸 500g</td>\n",
       "      <td>가격</td>\n",
       "      <td>neutral</td>\n",
       "      <td>33</td>\n",
       "      <td>0.0303</td>\n",
       "      <td>1.0</td>\n",
       "    </tr>\n",
       "    <tr>\n",
       "      <th>20</th>\n",
       "      <td>BD샴푸 500g</td>\n",
       "      <td>가격</td>\n",
       "      <td>negative</td>\n",
       "      <td>33</td>\n",
       "      <td>0.1818</td>\n",
       "      <td>6.0</td>\n",
       "    </tr>\n",
       "    <tr>\n",
       "      <th>4</th>\n",
       "      <td>BD샴푸 500g</td>\n",
       "      <td>가격</td>\n",
       "      <td>positive</td>\n",
       "      <td>33</td>\n",
       "      <td>0.7879</td>\n",
       "      <td>26.0</td>\n",
       "    </tr>\n",
       "    <tr>\n",
       "      <th>2</th>\n",
       "      <td>BD샴푸 500g</td>\n",
       "      <td>거품</td>\n",
       "      <td>positive</td>\n",
       "      <td>105</td>\n",
       "      <td>0.8286</td>\n",
       "      <td>87.0</td>\n",
       "    </tr>\n",
       "    <tr>\n",
       "      <th>18</th>\n",
       "      <td>BD샴푸 500g</td>\n",
       "      <td>거품</td>\n",
       "      <td>negative</td>\n",
       "      <td>105</td>\n",
       "      <td>0.1143</td>\n",
       "      <td>12.0</td>\n",
       "    </tr>\n",
       "    <tr>\n",
       "      <th>10</th>\n",
       "      <td>BD샴푸 500g</td>\n",
       "      <td>거품</td>\n",
       "      <td>neutral</td>\n",
       "      <td>105</td>\n",
       "      <td>0.0571</td>\n",
       "      <td>6.0</td>\n",
       "    </tr>\n",
       "    <tr>\n",
       "      <th>21</th>\n",
       "      <td>BD샴푸 500g</td>\n",
       "      <td>머릿결</td>\n",
       "      <td>negative</td>\n",
       "      <td>56</td>\n",
       "      <td>0.2321</td>\n",
       "      <td>13.0</td>\n",
       "    </tr>\n",
       "    <tr>\n",
       "      <th>5</th>\n",
       "      <td>BD샴푸 500g</td>\n",
       "      <td>머릿결</td>\n",
       "      <td>positive</td>\n",
       "      <td>56</td>\n",
       "      <td>0.6786</td>\n",
       "      <td>38.0</td>\n",
       "    </tr>\n",
       "    <tr>\n",
       "      <th>13</th>\n",
       "      <td>BD샴푸 500g</td>\n",
       "      <td>머릿결</td>\n",
       "      <td>neutral</td>\n",
       "      <td>56</td>\n",
       "      <td>0.0893</td>\n",
       "      <td>5.0</td>\n",
       "    </tr>\n",
       "    <tr>\n",
       "      <th>16</th>\n",
       "      <td>BD샴푸 500g</td>\n",
       "      <td>세정</td>\n",
       "      <td>negative</td>\n",
       "      <td>114</td>\n",
       "      <td>0.0877</td>\n",
       "      <td>10.0</td>\n",
       "    </tr>\n",
       "    <tr>\n",
       "      <th>0</th>\n",
       "      <td>BD샴푸 500g</td>\n",
       "      <td>세정</td>\n",
       "      <td>positive</td>\n",
       "      <td>114</td>\n",
       "      <td>0.9035</td>\n",
       "      <td>103.0</td>\n",
       "    </tr>\n",
       "    <tr>\n",
       "      <th>8</th>\n",
       "      <td>BD샴푸 500g</td>\n",
       "      <td>세정</td>\n",
       "      <td>neutral</td>\n",
       "      <td>114</td>\n",
       "      <td>0.0088</td>\n",
       "      <td>1.0</td>\n",
       "    </tr>\n",
       "    <tr>\n",
       "      <th>17</th>\n",
       "      <td>BD샴푸 500g</td>\n",
       "      <td>자극</td>\n",
       "      <td>negative</td>\n",
       "      <td>36</td>\n",
       "      <td>0.0556</td>\n",
       "      <td>2.0</td>\n",
       "    </tr>\n",
       "    <tr>\n",
       "      <th>1</th>\n",
       "      <td>BD샴푸 500g</td>\n",
       "      <td>자극</td>\n",
       "      <td>positive</td>\n",
       "      <td>36</td>\n",
       "      <td>0.9444</td>\n",
       "      <td>34.0</td>\n",
       "    </tr>\n",
       "    <tr>\n",
       "      <th>9</th>\n",
       "      <td>BD샴푸 500g</td>\n",
       "      <td>자극</td>\n",
       "      <td>neutral</td>\n",
       "      <td>36</td>\n",
       "      <td>0.0000</td>\n",
       "      <td>0.0</td>\n",
       "    </tr>\n",
       "    <tr>\n",
       "      <th>11</th>\n",
       "      <td>BD샴푸 500g</td>\n",
       "      <td>향</td>\n",
       "      <td>neutral</td>\n",
       "      <td>121</td>\n",
       "      <td>0.0826</td>\n",
       "      <td>10.0</td>\n",
       "    </tr>\n",
       "    <tr>\n",
       "      <th>19</th>\n",
       "      <td>BD샴푸 500g</td>\n",
       "      <td>향</td>\n",
       "      <td>negative</td>\n",
       "      <td>121</td>\n",
       "      <td>0.0744</td>\n",
       "      <td>9.0</td>\n",
       "    </tr>\n",
       "    <tr>\n",
       "      <th>3</th>\n",
       "      <td>BD샴푸 500g</td>\n",
       "      <td>향</td>\n",
       "      <td>positive</td>\n",
       "      <td>121</td>\n",
       "      <td>0.8430</td>\n",
       "      <td>102.0</td>\n",
       "    </tr>\n",
       "  </tbody>\n",
       "</table>\n",
       "</div>"
      ],
      "text/plain": [
       "         name aspect sentiment total   ratio  count\n",
       "12  BD샴푸 500g     가격   neutral    33  0.0303    1.0\n",
       "20  BD샴푸 500g     가격  negative    33  0.1818    6.0\n",
       "4   BD샴푸 500g     가격  positive    33  0.7879   26.0\n",
       "2   BD샴푸 500g     거품  positive   105  0.8286   87.0\n",
       "18  BD샴푸 500g     거품  negative   105  0.1143   12.0\n",
       "10  BD샴푸 500g     거품   neutral   105  0.0571    6.0\n",
       "21  BD샴푸 500g    머릿결  negative    56  0.2321   13.0\n",
       "5   BD샴푸 500g    머릿결  positive    56  0.6786   38.0\n",
       "13  BD샴푸 500g    머릿결   neutral    56  0.0893    5.0\n",
       "16  BD샴푸 500g     세정  negative   114  0.0877   10.0\n",
       "0   BD샴푸 500g     세정  positive   114  0.9035  103.0\n",
       "8   BD샴푸 500g     세정   neutral   114  0.0088    1.0\n",
       "17  BD샴푸 500g     자극  negative    36  0.0556    2.0\n",
       "1   BD샴푸 500g     자극  positive    36  0.9444   34.0\n",
       "9   BD샴푸 500g     자극   neutral    36  0.0000    0.0\n",
       "11  BD샴푸 500g      향   neutral   121  0.0826   10.0\n",
       "19  BD샴푸 500g      향  negative   121  0.0744    9.0\n",
       "3   BD샴푸 500g      향  positive   121  0.8430  102.0"
      ]
     },
     "execution_count": 39,
     "metadata": {},
     "output_type": "execute_result"
    }
   ],
   "source": [
    "# total 기준으로 top6 속성만 뽑기\n",
    "filtered_aspect = data.groupby(\"aspect\")[\"total\"].mean().sort_values(ascending = False).index[:6]\n",
    "filtered_data = data[data[\"aspect\"].isin(filtered_aspect)]\n",
    "filtered_data"
   ]
  },
  {
   "cell_type": "code",
   "execution_count": 41,
   "id": "d36ab0fc-7fbd-4d8b-806c-f1eafeaf4bb2",
   "metadata": {},
   "outputs": [],
   "source": [
    "def compute_sentiment_score(x):\n",
    "    result = x.loc[x[\"sentiment\"] == \"positive\", \"ratio\"].sum() * 2 \\\n",
    "            + x.loc[x[\"sentiment\"] == \"neutral\", \"ratio\"].sum() * 1 \\\n",
    "            + x.loc[x[\"sentiment\"] == \"negative\", \"ratio\"].sum() * 0\n",
    "    return result\n",
    "    \n",
    "sentiment_score = filtered_data.groupby(\"aspect\")[[\"sentiment\", \"ratio\"]].apply(compute_sentiment_score)"
   ]
  },
  {
   "cell_type": "code",
   "execution_count": 43,
   "id": "e7a53666-58eb-4e27-bca5-754e8e8bbf03",
   "metadata": {},
   "outputs": [],
   "source": [
    "# 방사형 차트에서 속성 간 차이 시각화를 위해 제곱\n",
    "squared = sentiment_score ** 2\n",
    "sentiment_score = squared / squared.max()\n",
    "center = 0"
   ]
  },
  {
   "cell_type": "code",
   "execution_count": 44,
   "id": "86276cbf-2e90-4437-abcb-084af0450c56",
   "metadata": {},
   "outputs": [
    {
     "data": {
      "text/plain": [
       "aspect\n",
       "가격     0.723058\n",
       "거품     0.823762\n",
       "머릿결    0.586496\n",
       "세정     0.924196\n",
       "자극     1.000000\n",
       "향      0.876773\n",
       "dtype: float64"
      ]
     },
     "execution_count": 44,
     "metadata": {},
     "output_type": "execute_result"
    }
   ],
   "source": [
    "sentiment_score"
   ]
  },
  {
   "cell_type": "code",
   "execution_count": 45,
   "id": "181070a3-5eb7-433a-a8cf-4e5f6f35ed2c",
   "metadata": {},
   "outputs": [
    {
     "data": {
      "image/png": "[encoded data removed]",
      "text/plain": [
       "<Figure size 500x500 with 1 Axes>"
      ]
     },
     "metadata": {},
     "output_type": "display_data"
    }
   ],
   "source": [
    "# 방사형 차트 - 하나씩 시각화\n",
    "\n",
    "labels = sentiment_score.index\n",
    "num_labels = len(labels)\n",
    "\n",
    "\n",
    "# 등분점 생성    \n",
    "angles = [x/float(num_labels)*(2*pi) for x in range(num_labels)]\n",
    "angles += angles[:1] # 시작점 생성\n",
    "   \n",
    " \n",
    "fig = plt.figure(figsize=(5, 5))\n",
    "fig.set_facecolor('white')\n",
    " \n",
    "data = list(sentiment_score.values)\n",
    "data += data[:1]\n",
    "\n",
    "ax = plt.subplot(1,1,1, polar=True)\n",
    "# 시작점 설정\n",
    "ax.set_theta_offset(pi / 2)\n",
    "# 시계방향 설정\n",
    "ax.set_theta_direction(-1)\n",
    "\n",
    "# 각도 축 눈금 생성\n",
    "plt.xticks(angles[:-1], labels, fontsize=13)\n",
    "# 각 축과 눈금 사이 여백생성\n",
    "ax.tick_params(axis='x', which='major', pad=15)\n",
    "# 반지름 축 눈금 라벨 각도 0으로 설정\n",
    "ax.set_rlabel_position(0)\n",
    "# 반지름 축 눈금 설정\n",
    "plt.yticks(np.linspace(center, 1, 5),[], fontsize=10)\n",
    "plt.ylim(center, 1)\n",
    "\n",
    "# 방사형 차트 출력\n",
    "ax.plot(angles, data, linewidth=2, linestyle='solid')\n",
    "# 도형 안쪽 색상 설정\n",
    "ax.fill(angles, data, alpha=0.4)\n",
    "# 꼭짓점에 점 가가\n",
    "ax.scatter(angles, data, color='blue', s=30, zorder=3)\n",
    "# 각 차트의 제목 생성\n",
    "# plt.title(row.Tm, size=20, x=-0.2, y=1.2, ha='left')\n",
    "\n",
    "# 차트 간 간격 설정\n",
    "plt.tight_layout()\n",
    "plt.show()\n"
   ]
  },
  {
   "cell_type": "code",
   "execution_count": null,
   "id": "efd2a3c4-1d5a-4118-a3fd-1fb5ba0e9777",
   "metadata": {},
   "outputs": [],
   "source": []
  }
 ],
 "metadata": {
  "kernelspec": {
   "display_name": "Python 3 (ipykernel)",
   "language": "python",
   "name": "python3"
  },
  "language_info": {
   "codemirror_mode": {
    "name": "ipython",
    "version": 3
   },
   "file_extension": ".py",
   "mimetype": "text/x-python",
   "name": "python",
   "nbconvert_exporter": "python",
   "pygments_lexer": "ipython3",
   "version": "3.12.7"
  }
 },
 "nbformat": 4,
 "nbformat_minor": 5
}
